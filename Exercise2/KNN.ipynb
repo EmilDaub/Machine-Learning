{
  "cells": [
    {
      "cell_type": "markdown",
      "metadata": {
        "id": "7jazXNdYtke-"
      },
      "source": [
        "# Exercise 2 - KNN"
      ]
    },
    {
      "cell_type": "code",
      "execution_count": 62,
      "metadata": {
        "id": "ypP4GIUVtkfD"
      },
      "outputs": [],
      "source": [
        "import pandas as pd\n",
        "import numpy as np\n",
        "from sklearn.model_selection import train_test_split\n",
        "from scipy.spatial import distance\n",
        "from sklearn.preprocessing import StandardScaler\n",
        "from sklearn.metrics import mean_squared_error\n",
        "from sklearn.metrics import mean_absolute_error\n",
        "import matplotlib.pyplot  as plt\n",
        "from sklearn.neighbors import KNeighborsRegressor\n",
        "\n",
        "from sklearn.preprocessing import OneHotEncoder\n",
        "from sklearn.compose import make_column_transformer"
      ]
    },
    {
      "cell_type": "markdown",
      "metadata": {
        "id": "Yzu6PSAJtkfF"
      },
      "source": [
        "## Parkinson data"
      ]
    },
    {
      "cell_type": "code",
      "execution_count": 4,
      "metadata": {
        "colab": {
          "base_uri": "https://localhost:8080/",
          "height": 344
        },
        "id": "yhMGKRIPtkfG",
        "outputId": "9d59be1b-37fb-4dd1-fc8b-273d091aff12"
      },
      "outputs": [
        {
          "output_type": "error",
          "ename": "FileNotFoundError",
          "evalue": "ignored",
          "traceback": [
            "\u001b[0;31m---------------------------------------------------------------------------\u001b[0m",
            "\u001b[0;31mFileNotFoundError\u001b[0m                         Traceback (most recent call last)",
            "\u001b[0;32m<ipython-input-4-86e9a16e3e98>\u001b[0m in \u001b[0;36m<module>\u001b[0;34m()\u001b[0m\n\u001b[0;32m----> 1\u001b[0;31m \u001b[0mdf\u001b[0m \u001b[0;34m=\u001b[0m \u001b[0mpd\u001b[0m\u001b[0;34m.\u001b[0m\u001b[0mread_csv\u001b[0m\u001b[0;34m(\u001b[0m\u001b[0;34m'data/parkinsons_updrs.data'\u001b[0m\u001b[0;34m)\u001b[0m\u001b[0;34m\u001b[0m\u001b[0;34m\u001b[0m\u001b[0m\n\u001b[0m\u001b[1;32m      2\u001b[0m \u001b[0mdf\u001b[0m\u001b[0;34m.\u001b[0m\u001b[0mhead\u001b[0m\u001b[0;34m(\u001b[0m\u001b[0;34m)\u001b[0m\u001b[0;34m\u001b[0m\u001b[0;34m\u001b[0m\u001b[0m\n",
            "\u001b[0;32m/usr/local/lib/python3.7/dist-packages/pandas/util/_decorators.py\u001b[0m in \u001b[0;36mwrapper\u001b[0;34m(*args, **kwargs)\u001b[0m\n\u001b[1;32m    309\u001b[0m                     \u001b[0mstacklevel\u001b[0m\u001b[0;34m=\u001b[0m\u001b[0mstacklevel\u001b[0m\u001b[0;34m,\u001b[0m\u001b[0;34m\u001b[0m\u001b[0;34m\u001b[0m\u001b[0m\n\u001b[1;32m    310\u001b[0m                 )\n\u001b[0;32m--> 311\u001b[0;31m             \u001b[0;32mreturn\u001b[0m \u001b[0mfunc\u001b[0m\u001b[0;34m(\u001b[0m\u001b[0;34m*\u001b[0m\u001b[0margs\u001b[0m\u001b[0;34m,\u001b[0m \u001b[0;34m**\u001b[0m\u001b[0mkwargs\u001b[0m\u001b[0;34m)\u001b[0m\u001b[0;34m\u001b[0m\u001b[0;34m\u001b[0m\u001b[0m\n\u001b[0m\u001b[1;32m    312\u001b[0m \u001b[0;34m\u001b[0m\u001b[0m\n\u001b[1;32m    313\u001b[0m         \u001b[0;32mreturn\u001b[0m \u001b[0mwrapper\u001b[0m\u001b[0;34m\u001b[0m\u001b[0;34m\u001b[0m\u001b[0m\n",
            "\u001b[0;32m/usr/local/lib/python3.7/dist-packages/pandas/io/parsers/readers.py\u001b[0m in \u001b[0;36mread_csv\u001b[0;34m(filepath_or_buffer, sep, delimiter, header, names, index_col, usecols, squeeze, prefix, mangle_dupe_cols, dtype, engine, converters, true_values, false_values, skipinitialspace, skiprows, skipfooter, nrows, na_values, keep_default_na, na_filter, verbose, skip_blank_lines, parse_dates, infer_datetime_format, keep_date_col, date_parser, dayfirst, cache_dates, iterator, chunksize, compression, thousands, decimal, lineterminator, quotechar, quoting, doublequote, escapechar, comment, encoding, encoding_errors, dialect, error_bad_lines, warn_bad_lines, on_bad_lines, delim_whitespace, low_memory, memory_map, float_precision, storage_options)\u001b[0m\n\u001b[1;32m    584\u001b[0m     \u001b[0mkwds\u001b[0m\u001b[0;34m.\u001b[0m\u001b[0mupdate\u001b[0m\u001b[0;34m(\u001b[0m\u001b[0mkwds_defaults\u001b[0m\u001b[0;34m)\u001b[0m\u001b[0;34m\u001b[0m\u001b[0;34m\u001b[0m\u001b[0m\n\u001b[1;32m    585\u001b[0m \u001b[0;34m\u001b[0m\u001b[0m\n\u001b[0;32m--> 586\u001b[0;31m     \u001b[0;32mreturn\u001b[0m \u001b[0m_read\u001b[0m\u001b[0;34m(\u001b[0m\u001b[0mfilepath_or_buffer\u001b[0m\u001b[0;34m,\u001b[0m \u001b[0mkwds\u001b[0m\u001b[0;34m)\u001b[0m\u001b[0;34m\u001b[0m\u001b[0;34m\u001b[0m\u001b[0m\n\u001b[0m\u001b[1;32m    587\u001b[0m \u001b[0;34m\u001b[0m\u001b[0m\n\u001b[1;32m    588\u001b[0m \u001b[0;34m\u001b[0m\u001b[0m\n",
            "\u001b[0;32m/usr/local/lib/python3.7/dist-packages/pandas/io/parsers/readers.py\u001b[0m in \u001b[0;36m_read\u001b[0;34m(filepath_or_buffer, kwds)\u001b[0m\n\u001b[1;32m    480\u001b[0m \u001b[0;34m\u001b[0m\u001b[0m\n\u001b[1;32m    481\u001b[0m     \u001b[0;31m# Create the parser.\u001b[0m\u001b[0;34m\u001b[0m\u001b[0;34m\u001b[0m\u001b[0;34m\u001b[0m\u001b[0m\n\u001b[0;32m--> 482\u001b[0;31m     \u001b[0mparser\u001b[0m \u001b[0;34m=\u001b[0m \u001b[0mTextFileReader\u001b[0m\u001b[0;34m(\u001b[0m\u001b[0mfilepath_or_buffer\u001b[0m\u001b[0;34m,\u001b[0m \u001b[0;34m**\u001b[0m\u001b[0mkwds\u001b[0m\u001b[0;34m)\u001b[0m\u001b[0;34m\u001b[0m\u001b[0;34m\u001b[0m\u001b[0m\n\u001b[0m\u001b[1;32m    483\u001b[0m \u001b[0;34m\u001b[0m\u001b[0m\n\u001b[1;32m    484\u001b[0m     \u001b[0;32mif\u001b[0m \u001b[0mchunksize\u001b[0m \u001b[0;32mor\u001b[0m \u001b[0miterator\u001b[0m\u001b[0;34m:\u001b[0m\u001b[0;34m\u001b[0m\u001b[0;34m\u001b[0m\u001b[0m\n",
            "\u001b[0;32m/usr/local/lib/python3.7/dist-packages/pandas/io/parsers/readers.py\u001b[0m in \u001b[0;36m__init__\u001b[0;34m(self, f, engine, **kwds)\u001b[0m\n\u001b[1;32m    809\u001b[0m             \u001b[0mself\u001b[0m\u001b[0;34m.\u001b[0m\u001b[0moptions\u001b[0m\u001b[0;34m[\u001b[0m\u001b[0;34m\"has_index_names\"\u001b[0m\u001b[0;34m]\u001b[0m \u001b[0;34m=\u001b[0m \u001b[0mkwds\u001b[0m\u001b[0;34m[\u001b[0m\u001b[0;34m\"has_index_names\"\u001b[0m\u001b[0;34m]\u001b[0m\u001b[0;34m\u001b[0m\u001b[0;34m\u001b[0m\u001b[0m\n\u001b[1;32m    810\u001b[0m \u001b[0;34m\u001b[0m\u001b[0m\n\u001b[0;32m--> 811\u001b[0;31m         \u001b[0mself\u001b[0m\u001b[0;34m.\u001b[0m\u001b[0m_engine\u001b[0m \u001b[0;34m=\u001b[0m \u001b[0mself\u001b[0m\u001b[0;34m.\u001b[0m\u001b[0m_make_engine\u001b[0m\u001b[0;34m(\u001b[0m\u001b[0mself\u001b[0m\u001b[0;34m.\u001b[0m\u001b[0mengine\u001b[0m\u001b[0;34m)\u001b[0m\u001b[0;34m\u001b[0m\u001b[0;34m\u001b[0m\u001b[0m\n\u001b[0m\u001b[1;32m    812\u001b[0m \u001b[0;34m\u001b[0m\u001b[0m\n\u001b[1;32m    813\u001b[0m     \u001b[0;32mdef\u001b[0m \u001b[0mclose\u001b[0m\u001b[0;34m(\u001b[0m\u001b[0mself\u001b[0m\u001b[0;34m)\u001b[0m\u001b[0;34m:\u001b[0m\u001b[0;34m\u001b[0m\u001b[0;34m\u001b[0m\u001b[0m\n",
            "\u001b[0;32m/usr/local/lib/python3.7/dist-packages/pandas/io/parsers/readers.py\u001b[0m in \u001b[0;36m_make_engine\u001b[0;34m(self, engine)\u001b[0m\n\u001b[1;32m   1038\u001b[0m             )\n\u001b[1;32m   1039\u001b[0m         \u001b[0;31m# error: Too many arguments for \"ParserBase\"\u001b[0m\u001b[0;34m\u001b[0m\u001b[0;34m\u001b[0m\u001b[0;34m\u001b[0m\u001b[0m\n\u001b[0;32m-> 1040\u001b[0;31m         \u001b[0;32mreturn\u001b[0m \u001b[0mmapping\u001b[0m\u001b[0;34m[\u001b[0m\u001b[0mengine\u001b[0m\u001b[0;34m]\u001b[0m\u001b[0;34m(\u001b[0m\u001b[0mself\u001b[0m\u001b[0;34m.\u001b[0m\u001b[0mf\u001b[0m\u001b[0;34m,\u001b[0m \u001b[0;34m**\u001b[0m\u001b[0mself\u001b[0m\u001b[0;34m.\u001b[0m\u001b[0moptions\u001b[0m\u001b[0;34m)\u001b[0m  \u001b[0;31m# type: ignore[call-arg]\u001b[0m\u001b[0;34m\u001b[0m\u001b[0;34m\u001b[0m\u001b[0m\n\u001b[0m\u001b[1;32m   1041\u001b[0m \u001b[0;34m\u001b[0m\u001b[0m\n\u001b[1;32m   1042\u001b[0m     \u001b[0;32mdef\u001b[0m \u001b[0m_failover_to_python\u001b[0m\u001b[0;34m(\u001b[0m\u001b[0mself\u001b[0m\u001b[0;34m)\u001b[0m\u001b[0;34m:\u001b[0m\u001b[0;34m\u001b[0m\u001b[0;34m\u001b[0m\u001b[0m\n",
            "\u001b[0;32m/usr/local/lib/python3.7/dist-packages/pandas/io/parsers/c_parser_wrapper.py\u001b[0m in \u001b[0;36m__init__\u001b[0;34m(self, src, **kwds)\u001b[0m\n\u001b[1;32m     49\u001b[0m \u001b[0;34m\u001b[0m\u001b[0m\n\u001b[1;32m     50\u001b[0m         \u001b[0;31m# open handles\u001b[0m\u001b[0;34m\u001b[0m\u001b[0;34m\u001b[0m\u001b[0;34m\u001b[0m\u001b[0m\n\u001b[0;32m---> 51\u001b[0;31m         \u001b[0mself\u001b[0m\u001b[0;34m.\u001b[0m\u001b[0m_open_handles\u001b[0m\u001b[0;34m(\u001b[0m\u001b[0msrc\u001b[0m\u001b[0;34m,\u001b[0m \u001b[0mkwds\u001b[0m\u001b[0;34m)\u001b[0m\u001b[0;34m\u001b[0m\u001b[0;34m\u001b[0m\u001b[0m\n\u001b[0m\u001b[1;32m     52\u001b[0m         \u001b[0;32massert\u001b[0m \u001b[0mself\u001b[0m\u001b[0;34m.\u001b[0m\u001b[0mhandles\u001b[0m \u001b[0;32mis\u001b[0m \u001b[0;32mnot\u001b[0m \u001b[0;32mNone\u001b[0m\u001b[0;34m\u001b[0m\u001b[0;34m\u001b[0m\u001b[0m\n\u001b[1;32m     53\u001b[0m \u001b[0;34m\u001b[0m\u001b[0m\n",
            "\u001b[0;32m/usr/local/lib/python3.7/dist-packages/pandas/io/parsers/base_parser.py\u001b[0m in \u001b[0;36m_open_handles\u001b[0;34m(self, src, kwds)\u001b[0m\n\u001b[1;32m    227\u001b[0m             \u001b[0mmemory_map\u001b[0m\u001b[0;34m=\u001b[0m\u001b[0mkwds\u001b[0m\u001b[0;34m.\u001b[0m\u001b[0mget\u001b[0m\u001b[0;34m(\u001b[0m\u001b[0;34m\"memory_map\"\u001b[0m\u001b[0;34m,\u001b[0m \u001b[0;32mFalse\u001b[0m\u001b[0;34m)\u001b[0m\u001b[0;34m,\u001b[0m\u001b[0;34m\u001b[0m\u001b[0;34m\u001b[0m\u001b[0m\n\u001b[1;32m    228\u001b[0m             \u001b[0mstorage_options\u001b[0m\u001b[0;34m=\u001b[0m\u001b[0mkwds\u001b[0m\u001b[0;34m.\u001b[0m\u001b[0mget\u001b[0m\u001b[0;34m(\u001b[0m\u001b[0;34m\"storage_options\"\u001b[0m\u001b[0;34m,\u001b[0m \u001b[0;32mNone\u001b[0m\u001b[0;34m)\u001b[0m\u001b[0;34m,\u001b[0m\u001b[0;34m\u001b[0m\u001b[0;34m\u001b[0m\u001b[0m\n\u001b[0;32m--> 229\u001b[0;31m             \u001b[0merrors\u001b[0m\u001b[0;34m=\u001b[0m\u001b[0mkwds\u001b[0m\u001b[0;34m.\u001b[0m\u001b[0mget\u001b[0m\u001b[0;34m(\u001b[0m\u001b[0;34m\"encoding_errors\"\u001b[0m\u001b[0;34m,\u001b[0m \u001b[0;34m\"strict\"\u001b[0m\u001b[0;34m)\u001b[0m\u001b[0;34m,\u001b[0m\u001b[0;34m\u001b[0m\u001b[0;34m\u001b[0m\u001b[0m\n\u001b[0m\u001b[1;32m    230\u001b[0m         )\n\u001b[1;32m    231\u001b[0m \u001b[0;34m\u001b[0m\u001b[0m\n",
            "\u001b[0;32m/usr/local/lib/python3.7/dist-packages/pandas/io/common.py\u001b[0m in \u001b[0;36mget_handle\u001b[0;34m(path_or_buf, mode, encoding, compression, memory_map, is_text, errors, storage_options)\u001b[0m\n\u001b[1;32m    705\u001b[0m                 \u001b[0mencoding\u001b[0m\u001b[0;34m=\u001b[0m\u001b[0mioargs\u001b[0m\u001b[0;34m.\u001b[0m\u001b[0mencoding\u001b[0m\u001b[0;34m,\u001b[0m\u001b[0;34m\u001b[0m\u001b[0;34m\u001b[0m\u001b[0m\n\u001b[1;32m    706\u001b[0m                 \u001b[0merrors\u001b[0m\u001b[0;34m=\u001b[0m\u001b[0merrors\u001b[0m\u001b[0;34m,\u001b[0m\u001b[0;34m\u001b[0m\u001b[0;34m\u001b[0m\u001b[0m\n\u001b[0;32m--> 707\u001b[0;31m                 \u001b[0mnewline\u001b[0m\u001b[0;34m=\u001b[0m\u001b[0;34m\"\"\u001b[0m\u001b[0;34m,\u001b[0m\u001b[0;34m\u001b[0m\u001b[0;34m\u001b[0m\u001b[0m\n\u001b[0m\u001b[1;32m    708\u001b[0m             )\n\u001b[1;32m    709\u001b[0m         \u001b[0;32melse\u001b[0m\u001b[0;34m:\u001b[0m\u001b[0;34m\u001b[0m\u001b[0;34m\u001b[0m\u001b[0m\n",
            "\u001b[0;31mFileNotFoundError\u001b[0m: [Errno 2] No such file or directory: 'data/parkinsons_updrs.data'"
          ]
        }
      ],
      "source": [
        "df = pd.read_csv('data/parkinsons_updrs.data')\n",
        "df.head()"
      ]
    },
    {
      "cell_type": "code",
      "execution_count": null,
      "metadata": {
        "id": "1UuMGlfxtkfI",
        "outputId": "d3415374-f2f6-4795-c751-d4a3ce51121f"
      },
      "outputs": [
        {
          "data": {
            "text/html": [
              "<div>\n",
              "<style scoped>\n",
              "    .dataframe tbody tr th:only-of-type {\n",
              "        vertical-align: middle;\n",
              "    }\n",
              "\n",
              "    .dataframe tbody tr th {\n",
              "        vertical-align: top;\n",
              "    }\n",
              "\n",
              "    .dataframe thead th {\n",
              "        text-align: right;\n",
              "    }\n",
              "</style>\n",
              "<table border=\"1\" class=\"dataframe\">\n",
              "  <thead>\n",
              "    <tr style=\"text-align: right;\">\n",
              "      <th></th>\n",
              "      <th>subject#</th>\n",
              "      <th>age</th>\n",
              "      <th>sex</th>\n",
              "      <th>test_time</th>\n",
              "      <th>motor_UPDRS</th>\n",
              "      <th>total_UPDRS</th>\n",
              "      <th>Jitter(%)</th>\n",
              "      <th>Jitter(Abs)</th>\n",
              "      <th>Jitter:RAP</th>\n",
              "      <th>Jitter:PPQ5</th>\n",
              "      <th>...</th>\n",
              "      <th>Shimmer(dB)</th>\n",
              "      <th>Shimmer:APQ3</th>\n",
              "      <th>Shimmer:APQ5</th>\n",
              "      <th>Shimmer:APQ11</th>\n",
              "      <th>Shimmer:DDA</th>\n",
              "      <th>NHR</th>\n",
              "      <th>HNR</th>\n",
              "      <th>RPDE</th>\n",
              "      <th>DFA</th>\n",
              "      <th>PPE</th>\n",
              "    </tr>\n",
              "  </thead>\n",
              "  <tbody>\n",
              "    <tr>\n",
              "      <th>count</th>\n",
              "      <td>5875.000000</td>\n",
              "      <td>5875.000000</td>\n",
              "      <td>5875.000000</td>\n",
              "      <td>5875.000000</td>\n",
              "      <td>5875.000000</td>\n",
              "      <td>5875.000000</td>\n",
              "      <td>5875.000000</td>\n",
              "      <td>5875.000000</td>\n",
              "      <td>5875.000000</td>\n",
              "      <td>5875.000000</td>\n",
              "      <td>...</td>\n",
              "      <td>5875.000000</td>\n",
              "      <td>5875.000000</td>\n",
              "      <td>5875.000000</td>\n",
              "      <td>5875.000000</td>\n",
              "      <td>5875.000000</td>\n",
              "      <td>5875.000000</td>\n",
              "      <td>5875.000000</td>\n",
              "      <td>5875.000000</td>\n",
              "      <td>5875.000000</td>\n",
              "      <td>5875.000000</td>\n",
              "    </tr>\n",
              "    <tr>\n",
              "      <th>mean</th>\n",
              "      <td>21.494128</td>\n",
              "      <td>64.804936</td>\n",
              "      <td>0.317787</td>\n",
              "      <td>92.863722</td>\n",
              "      <td>21.296229</td>\n",
              "      <td>29.018942</td>\n",
              "      <td>0.006154</td>\n",
              "      <td>0.000044</td>\n",
              "      <td>0.002987</td>\n",
              "      <td>0.003277</td>\n",
              "      <td>...</td>\n",
              "      <td>0.310960</td>\n",
              "      <td>0.017156</td>\n",
              "      <td>0.020144</td>\n",
              "      <td>0.027481</td>\n",
              "      <td>0.051467</td>\n",
              "      <td>0.032120</td>\n",
              "      <td>21.679495</td>\n",
              "      <td>0.541473</td>\n",
              "      <td>0.653240</td>\n",
              "      <td>0.219589</td>\n",
              "    </tr>\n",
              "    <tr>\n",
              "      <th>std</th>\n",
              "      <td>12.372279</td>\n",
              "      <td>8.821524</td>\n",
              "      <td>0.465656</td>\n",
              "      <td>53.445602</td>\n",
              "      <td>8.129282</td>\n",
              "      <td>10.700283</td>\n",
              "      <td>0.005624</td>\n",
              "      <td>0.000036</td>\n",
              "      <td>0.003124</td>\n",
              "      <td>0.003732</td>\n",
              "      <td>...</td>\n",
              "      <td>0.230254</td>\n",
              "      <td>0.013237</td>\n",
              "      <td>0.016664</td>\n",
              "      <td>0.019986</td>\n",
              "      <td>0.039711</td>\n",
              "      <td>0.059692</td>\n",
              "      <td>4.291096</td>\n",
              "      <td>0.100986</td>\n",
              "      <td>0.070902</td>\n",
              "      <td>0.091498</td>\n",
              "    </tr>\n",
              "    <tr>\n",
              "      <th>min</th>\n",
              "      <td>1.000000</td>\n",
              "      <td>36.000000</td>\n",
              "      <td>0.000000</td>\n",
              "      <td>-4.262500</td>\n",
              "      <td>5.037700</td>\n",
              "      <td>7.000000</td>\n",
              "      <td>0.000830</td>\n",
              "      <td>0.000002</td>\n",
              "      <td>0.000330</td>\n",
              "      <td>0.000430</td>\n",
              "      <td>...</td>\n",
              "      <td>0.026000</td>\n",
              "      <td>0.001610</td>\n",
              "      <td>0.001940</td>\n",
              "      <td>0.002490</td>\n",
              "      <td>0.004840</td>\n",
              "      <td>0.000286</td>\n",
              "      <td>1.659000</td>\n",
              "      <td>0.151020</td>\n",
              "      <td>0.514040</td>\n",
              "      <td>0.021983</td>\n",
              "    </tr>\n",
              "    <tr>\n",
              "      <th>25%</th>\n",
              "      <td>10.000000</td>\n",
              "      <td>58.000000</td>\n",
              "      <td>0.000000</td>\n",
              "      <td>46.847500</td>\n",
              "      <td>15.000000</td>\n",
              "      <td>21.371000</td>\n",
              "      <td>0.003580</td>\n",
              "      <td>0.000022</td>\n",
              "      <td>0.001580</td>\n",
              "      <td>0.001820</td>\n",
              "      <td>...</td>\n",
              "      <td>0.175000</td>\n",
              "      <td>0.009280</td>\n",
              "      <td>0.010790</td>\n",
              "      <td>0.015665</td>\n",
              "      <td>0.027830</td>\n",
              "      <td>0.010955</td>\n",
              "      <td>19.406000</td>\n",
              "      <td>0.469785</td>\n",
              "      <td>0.596180</td>\n",
              "      <td>0.156340</td>\n",
              "    </tr>\n",
              "    <tr>\n",
              "      <th>50%</th>\n",
              "      <td>22.000000</td>\n",
              "      <td>65.000000</td>\n",
              "      <td>0.000000</td>\n",
              "      <td>91.523000</td>\n",
              "      <td>20.871000</td>\n",
              "      <td>27.576000</td>\n",
              "      <td>0.004900</td>\n",
              "      <td>0.000035</td>\n",
              "      <td>0.002250</td>\n",
              "      <td>0.002490</td>\n",
              "      <td>...</td>\n",
              "      <td>0.253000</td>\n",
              "      <td>0.013700</td>\n",
              "      <td>0.015940</td>\n",
              "      <td>0.022710</td>\n",
              "      <td>0.041110</td>\n",
              "      <td>0.018448</td>\n",
              "      <td>21.920000</td>\n",
              "      <td>0.542250</td>\n",
              "      <td>0.643600</td>\n",
              "      <td>0.205500</td>\n",
              "    </tr>\n",
              "    <tr>\n",
              "      <th>75%</th>\n",
              "      <td>33.000000</td>\n",
              "      <td>72.000000</td>\n",
              "      <td>1.000000</td>\n",
              "      <td>138.445000</td>\n",
              "      <td>27.596500</td>\n",
              "      <td>36.399000</td>\n",
              "      <td>0.006800</td>\n",
              "      <td>0.000053</td>\n",
              "      <td>0.003290</td>\n",
              "      <td>0.003460</td>\n",
              "      <td>...</td>\n",
              "      <td>0.365000</td>\n",
              "      <td>0.020575</td>\n",
              "      <td>0.023755</td>\n",
              "      <td>0.032715</td>\n",
              "      <td>0.061735</td>\n",
              "      <td>0.031463</td>\n",
              "      <td>24.444000</td>\n",
              "      <td>0.614045</td>\n",
              "      <td>0.711335</td>\n",
              "      <td>0.264490</td>\n",
              "    </tr>\n",
              "    <tr>\n",
              "      <th>max</th>\n",
              "      <td>42.000000</td>\n",
              "      <td>85.000000</td>\n",
              "      <td>1.000000</td>\n",
              "      <td>215.490000</td>\n",
              "      <td>39.511000</td>\n",
              "      <td>54.992000</td>\n",
              "      <td>0.099990</td>\n",
              "      <td>0.000446</td>\n",
              "      <td>0.057540</td>\n",
              "      <td>0.069560</td>\n",
              "      <td>...</td>\n",
              "      <td>2.107000</td>\n",
              "      <td>0.162670</td>\n",
              "      <td>0.167020</td>\n",
              "      <td>0.275460</td>\n",
              "      <td>0.488020</td>\n",
              "      <td>0.748260</td>\n",
              "      <td>37.875000</td>\n",
              "      <td>0.966080</td>\n",
              "      <td>0.865600</td>\n",
              "      <td>0.731730</td>\n",
              "    </tr>\n",
              "  </tbody>\n",
              "</table>\n",
              "<p>8 rows × 22 columns</p>\n",
              "</div>"
            ],
            "text/plain": [
              "          subject#          age          sex    test_time  motor_UPDRS  \\\n",
              "count  5875.000000  5875.000000  5875.000000  5875.000000  5875.000000   \n",
              "mean     21.494128    64.804936     0.317787    92.863722    21.296229   \n",
              "std      12.372279     8.821524     0.465656    53.445602     8.129282   \n",
              "min       1.000000    36.000000     0.000000    -4.262500     5.037700   \n",
              "25%      10.000000    58.000000     0.000000    46.847500    15.000000   \n",
              "50%      22.000000    65.000000     0.000000    91.523000    20.871000   \n",
              "75%      33.000000    72.000000     1.000000   138.445000    27.596500   \n",
              "max      42.000000    85.000000     1.000000   215.490000    39.511000   \n",
              "\n",
              "       total_UPDRS    Jitter(%)  Jitter(Abs)   Jitter:RAP  Jitter:PPQ5  ...  \\\n",
              "count  5875.000000  5875.000000  5875.000000  5875.000000  5875.000000  ...   \n",
              "mean     29.018942     0.006154     0.000044     0.002987     0.003277  ...   \n",
              "std      10.700283     0.005624     0.000036     0.003124     0.003732  ...   \n",
              "min       7.000000     0.000830     0.000002     0.000330     0.000430  ...   \n",
              "25%      21.371000     0.003580     0.000022     0.001580     0.001820  ...   \n",
              "50%      27.576000     0.004900     0.000035     0.002250     0.002490  ...   \n",
              "75%      36.399000     0.006800     0.000053     0.003290     0.003460  ...   \n",
              "max      54.992000     0.099990     0.000446     0.057540     0.069560  ...   \n",
              "\n",
              "       Shimmer(dB)  Shimmer:APQ3  Shimmer:APQ5  Shimmer:APQ11  Shimmer:DDA  \\\n",
              "count  5875.000000   5875.000000   5875.000000    5875.000000  5875.000000   \n",
              "mean      0.310960      0.017156      0.020144       0.027481     0.051467   \n",
              "std       0.230254      0.013237      0.016664       0.019986     0.039711   \n",
              "min       0.026000      0.001610      0.001940       0.002490     0.004840   \n",
              "25%       0.175000      0.009280      0.010790       0.015665     0.027830   \n",
              "50%       0.253000      0.013700      0.015940       0.022710     0.041110   \n",
              "75%       0.365000      0.020575      0.023755       0.032715     0.061735   \n",
              "max       2.107000      0.162670      0.167020       0.275460     0.488020   \n",
              "\n",
              "               NHR          HNR         RPDE          DFA          PPE  \n",
              "count  5875.000000  5875.000000  5875.000000  5875.000000  5875.000000  \n",
              "mean      0.032120    21.679495     0.541473     0.653240     0.219589  \n",
              "std       0.059692     4.291096     0.100986     0.070902     0.091498  \n",
              "min       0.000286     1.659000     0.151020     0.514040     0.021983  \n",
              "25%       0.010955    19.406000     0.469785     0.596180     0.156340  \n",
              "50%       0.018448    21.920000     0.542250     0.643600     0.205500  \n",
              "75%       0.031463    24.444000     0.614045     0.711335     0.264490  \n",
              "max       0.748260    37.875000     0.966080     0.865600     0.731730  \n",
              "\n",
              "[8 rows x 22 columns]"
            ]
          },
          "execution_count": 3,
          "metadata": {},
          "output_type": "execute_result"
        }
      ],
      "source": [
        "df.describe()"
      ]
    },
    {
      "cell_type": "code",
      "execution_count": null,
      "metadata": {
        "id": "IIZSunV5tkfJ",
        "outputId": "55f5f7c1-7273-4f99-c36b-882850f605f9"
      },
      "outputs": [
        {
          "data": {
            "text/plain": [
              "subject#         0\n",
              "age              0\n",
              "sex              0\n",
              "test_time        0\n",
              "motor_UPDRS      0\n",
              "total_UPDRS      0\n",
              "Jitter(%)        0\n",
              "Jitter(Abs)      0\n",
              "Jitter:RAP       0\n",
              "Jitter:PPQ5      0\n",
              "Jitter:DDP       0\n",
              "Shimmer          0\n",
              "Shimmer(dB)      0\n",
              "Shimmer:APQ3     0\n",
              "Shimmer:APQ5     0\n",
              "Shimmer:APQ11    0\n",
              "Shimmer:DDA      0\n",
              "NHR              0\n",
              "HNR              0\n",
              "RPDE             0\n",
              "DFA              0\n",
              "PPE              0\n",
              "dtype: int64"
            ]
          },
          "execution_count": 4,
          "metadata": {},
          "output_type": "execute_result"
        }
      ],
      "source": [
        "df.isna().sum()"
      ]
    },
    {
      "cell_type": "code",
      "execution_count": null,
      "metadata": {
        "id": "4HPVJNMGtkfJ",
        "outputId": "1b134821-27aa-4aae-dd13-4c546c5bf48a"
      },
      "outputs": [
        {
          "data": {
            "text/html": [
              "<div>\n",
              "<style scoped>\n",
              "    .dataframe tbody tr th:only-of-type {\n",
              "        vertical-align: middle;\n",
              "    }\n",
              "\n",
              "    .dataframe tbody tr th {\n",
              "        vertical-align: top;\n",
              "    }\n",
              "\n",
              "    .dataframe thead th {\n",
              "        text-align: right;\n",
              "    }\n",
              "</style>\n",
              "<table border=\"1\" class=\"dataframe\">\n",
              "  <thead>\n",
              "    <tr style=\"text-align: right;\">\n",
              "      <th></th>\n",
              "      <th>subject#</th>\n",
              "      <th>age</th>\n",
              "      <th>sex</th>\n",
              "      <th>test_time</th>\n",
              "      <th>motor_UPDRS</th>\n",
              "      <th>total_UPDRS</th>\n",
              "      <th>Jitter(%)</th>\n",
              "      <th>Jitter(Abs)</th>\n",
              "      <th>Jitter:RAP</th>\n",
              "      <th>Jitter:PPQ5</th>\n",
              "      <th>...</th>\n",
              "      <th>Shimmer(dB)</th>\n",
              "      <th>Shimmer:APQ3</th>\n",
              "      <th>Shimmer:APQ5</th>\n",
              "      <th>Shimmer:APQ11</th>\n",
              "      <th>Shimmer:DDA</th>\n",
              "      <th>NHR</th>\n",
              "      <th>HNR</th>\n",
              "      <th>RPDE</th>\n",
              "      <th>DFA</th>\n",
              "      <th>PPE</th>\n",
              "    </tr>\n",
              "  </thead>\n",
              "  <tbody>\n",
              "    <tr>\n",
              "      <th>subject#</th>\n",
              "      <td>1.000000</td>\n",
              "      <td>-0.030864</td>\n",
              "      <td>0.286851</td>\n",
              "      <td>-0.000882</td>\n",
              "      <td>0.252919</td>\n",
              "      <td>0.253643</td>\n",
              "      <td>0.135448</td>\n",
              "      <td>0.075156</td>\n",
              "      <td>0.120339</td>\n",
              "      <td>0.136474</td>\n",
              "      <td>...</td>\n",
              "      <td>0.142864</td>\n",
              "      <td>0.112950</td>\n",
              "      <td>0.138264</td>\n",
              "      <td>0.173333</td>\n",
              "      <td>0.112949</td>\n",
              "      <td>0.168743</td>\n",
              "      <td>-0.206929</td>\n",
              "      <td>0.147300</td>\n",
              "      <td>0.097464</td>\n",
              "      <td>0.157559</td>\n",
              "    </tr>\n",
              "    <tr>\n",
              "      <th>age</th>\n",
              "      <td>-0.030864</td>\n",
              "      <td>1.000000</td>\n",
              "      <td>-0.041602</td>\n",
              "      <td>0.019884</td>\n",
              "      <td>0.273665</td>\n",
              "      <td>0.310290</td>\n",
              "      <td>0.023071</td>\n",
              "      <td>0.035691</td>\n",
              "      <td>0.010255</td>\n",
              "      <td>0.013199</td>\n",
              "      <td>...</td>\n",
              "      <td>0.111130</td>\n",
              "      <td>0.098912</td>\n",
              "      <td>0.089983</td>\n",
              "      <td>0.135238</td>\n",
              "      <td>0.098913</td>\n",
              "      <td>0.007093</td>\n",
              "      <td>-0.104842</td>\n",
              "      <td>0.090208</td>\n",
              "      <td>-0.092870</td>\n",
              "      <td>0.120790</td>\n",
              "    </tr>\n",
              "    <tr>\n",
              "      <th>sex</th>\n",
              "      <td>0.286851</td>\n",
              "      <td>-0.041602</td>\n",
              "      <td>1.000000</td>\n",
              "      <td>-0.009805</td>\n",
              "      <td>-0.031205</td>\n",
              "      <td>-0.096559</td>\n",
              "      <td>0.051422</td>\n",
              "      <td>-0.154645</td>\n",
              "      <td>0.076718</td>\n",
              "      <td>0.087995</td>\n",
              "      <td>...</td>\n",
              "      <td>0.056481</td>\n",
              "      <td>0.044937</td>\n",
              "      <td>0.064819</td>\n",
              "      <td>0.023360</td>\n",
              "      <td>0.044938</td>\n",
              "      <td>0.168170</td>\n",
              "      <td>-0.000167</td>\n",
              "      <td>-0.159262</td>\n",
              "      <td>-0.165113</td>\n",
              "      <td>-0.099901</td>\n",
              "    </tr>\n",
              "    <tr>\n",
              "      <th>test_time</th>\n",
              "      <td>-0.000882</td>\n",
              "      <td>0.019884</td>\n",
              "      <td>-0.009805</td>\n",
              "      <td>1.000000</td>\n",
              "      <td>0.067918</td>\n",
              "      <td>0.075263</td>\n",
              "      <td>-0.022837</td>\n",
              "      <td>-0.011365</td>\n",
              "      <td>-0.028888</td>\n",
              "      <td>-0.023290</td>\n",
              "      <td>...</td>\n",
              "      <td>-0.030962</td>\n",
              "      <td>-0.029020</td>\n",
              "      <td>-0.036504</td>\n",
              "      <td>-0.039110</td>\n",
              "      <td>-0.029017</td>\n",
              "      <td>-0.026357</td>\n",
              "      <td>0.036545</td>\n",
              "      <td>-0.038887</td>\n",
              "      <td>0.019261</td>\n",
              "      <td>-0.000563</td>\n",
              "    </tr>\n",
              "    <tr>\n",
              "      <th>motor_UPDRS</th>\n",
              "      <td>0.252919</td>\n",
              "      <td>0.273665</td>\n",
              "      <td>-0.031205</td>\n",
              "      <td>0.067918</td>\n",
              "      <td>1.000000</td>\n",
              "      <td>0.947231</td>\n",
              "      <td>0.084816</td>\n",
              "      <td>0.050903</td>\n",
              "      <td>0.072684</td>\n",
              "      <td>0.076291</td>\n",
              "      <td>...</td>\n",
              "      <td>0.110076</td>\n",
              "      <td>0.084261</td>\n",
              "      <td>0.092105</td>\n",
              "      <td>0.136560</td>\n",
              "      <td>0.084260</td>\n",
              "      <td>0.074967</td>\n",
              "      <td>-0.157029</td>\n",
              "      <td>0.128607</td>\n",
              "      <td>-0.116242</td>\n",
              "      <td>0.162433</td>\n",
              "    </tr>\n",
              "    <tr>\n",
              "      <th>total_UPDRS</th>\n",
              "      <td>0.253643</td>\n",
              "      <td>0.310290</td>\n",
              "      <td>-0.096559</td>\n",
              "      <td>0.075263</td>\n",
              "      <td>0.947231</td>\n",
              "      <td>1.000000</td>\n",
              "      <td>0.074247</td>\n",
              "      <td>0.066927</td>\n",
              "      <td>0.064015</td>\n",
              "      <td>0.063352</td>\n",
              "      <td>...</td>\n",
              "      <td>0.098790</td>\n",
              "      <td>0.079363</td>\n",
              "      <td>0.083467</td>\n",
              "      <td>0.120838</td>\n",
              "      <td>0.079363</td>\n",
              "      <td>0.060952</td>\n",
              "      <td>-0.162117</td>\n",
              "      <td>0.156897</td>\n",
              "      <td>-0.113475</td>\n",
              "      <td>0.156195</td>\n",
              "    </tr>\n",
              "    <tr>\n",
              "      <th>Jitter(%)</th>\n",
              "      <td>0.135448</td>\n",
              "      <td>0.023071</td>\n",
              "      <td>0.051422</td>\n",
              "      <td>-0.022837</td>\n",
              "      <td>0.084816</td>\n",
              "      <td>0.074247</td>\n",
              "      <td>1.000000</td>\n",
              "      <td>0.865577</td>\n",
              "      <td>0.984181</td>\n",
              "      <td>0.968214</td>\n",
              "      <td>...</td>\n",
              "      <td>0.716704</td>\n",
              "      <td>0.664149</td>\n",
              "      <td>0.694002</td>\n",
              "      <td>0.645965</td>\n",
              "      <td>0.664147</td>\n",
              "      <td>0.825294</td>\n",
              "      <td>-0.675188</td>\n",
              "      <td>0.427128</td>\n",
              "      <td>0.226550</td>\n",
              "      <td>0.721849</td>\n",
              "    </tr>\n",
              "    <tr>\n",
              "      <th>Jitter(Abs)</th>\n",
              "      <td>0.075156</td>\n",
              "      <td>0.035691</td>\n",
              "      <td>-0.154645</td>\n",
              "      <td>-0.011365</td>\n",
              "      <td>0.050903</td>\n",
              "      <td>0.066927</td>\n",
              "      <td>0.865577</td>\n",
              "      <td>1.000000</td>\n",
              "      <td>0.844626</td>\n",
              "      <td>0.790538</td>\n",
              "      <td>...</td>\n",
              "      <td>0.655871</td>\n",
              "      <td>0.623830</td>\n",
              "      <td>0.621401</td>\n",
              "      <td>0.589998</td>\n",
              "      <td>0.623827</td>\n",
              "      <td>0.699960</td>\n",
              "      <td>-0.706418</td>\n",
              "      <td>0.547100</td>\n",
              "      <td>0.352264</td>\n",
              "      <td>0.787853</td>\n",
              "    </tr>\n",
              "    <tr>\n",
              "      <th>Jitter:RAP</th>\n",
              "      <td>0.120339</td>\n",
              "      <td>0.010255</td>\n",
              "      <td>0.076718</td>\n",
              "      <td>-0.028888</td>\n",
              "      <td>0.072684</td>\n",
              "      <td>0.064015</td>\n",
              "      <td>0.984181</td>\n",
              "      <td>0.844626</td>\n",
              "      <td>1.000000</td>\n",
              "      <td>0.947196</td>\n",
              "      <td>...</td>\n",
              "      <td>0.685551</td>\n",
              "      <td>0.650226</td>\n",
              "      <td>0.659831</td>\n",
              "      <td>0.603082</td>\n",
              "      <td>0.650225</td>\n",
              "      <td>0.792373</td>\n",
              "      <td>-0.641473</td>\n",
              "      <td>0.382891</td>\n",
              "      <td>0.214881</td>\n",
              "      <td>0.670652</td>\n",
              "    </tr>\n",
              "    <tr>\n",
              "      <th>Jitter:PPQ5</th>\n",
              "      <td>0.136474</td>\n",
              "      <td>0.013199</td>\n",
              "      <td>0.087995</td>\n",
              "      <td>-0.023290</td>\n",
              "      <td>0.076291</td>\n",
              "      <td>0.063352</td>\n",
              "      <td>0.968214</td>\n",
              "      <td>0.790538</td>\n",
              "      <td>0.947196</td>\n",
              "      <td>1.000000</td>\n",
              "      <td>...</td>\n",
              "      <td>0.734591</td>\n",
              "      <td>0.676711</td>\n",
              "      <td>0.734021</td>\n",
              "      <td>0.668413</td>\n",
              "      <td>0.676710</td>\n",
              "      <td>0.864864</td>\n",
              "      <td>-0.662409</td>\n",
              "      <td>0.381503</td>\n",
              "      <td>0.175359</td>\n",
              "      <td>0.663491</td>\n",
              "    </tr>\n",
              "    <tr>\n",
              "      <th>Jitter:DDP</th>\n",
              "      <td>0.120350</td>\n",
              "      <td>0.010258</td>\n",
              "      <td>0.076703</td>\n",
              "      <td>-0.028876</td>\n",
              "      <td>0.072698</td>\n",
              "      <td>0.064027</td>\n",
              "      <td>0.984184</td>\n",
              "      <td>0.844630</td>\n",
              "      <td>1.000000</td>\n",
              "      <td>0.947203</td>\n",
              "      <td>...</td>\n",
              "      <td>0.685556</td>\n",
              "      <td>0.650228</td>\n",
              "      <td>0.659833</td>\n",
              "      <td>0.603090</td>\n",
              "      <td>0.650227</td>\n",
              "      <td>0.792377</td>\n",
              "      <td>-0.641482</td>\n",
              "      <td>0.382886</td>\n",
              "      <td>0.214893</td>\n",
              "      <td>0.670660</td>\n",
              "    </tr>\n",
              "    <tr>\n",
              "      <th>Shimmer</th>\n",
              "      <td>0.146202</td>\n",
              "      <td>0.101554</td>\n",
              "      <td>0.058736</td>\n",
              "      <td>-0.033870</td>\n",
              "      <td>0.102349</td>\n",
              "      <td>0.092141</td>\n",
              "      <td>0.709791</td>\n",
              "      <td>0.649046</td>\n",
              "      <td>0.681729</td>\n",
              "      <td>0.732747</td>\n",
              "      <td>...</td>\n",
              "      <td>0.992334</td>\n",
              "      <td>0.979828</td>\n",
              "      <td>0.984904</td>\n",
              "      <td>0.935457</td>\n",
              "      <td>0.979827</td>\n",
              "      <td>0.795158</td>\n",
              "      <td>-0.801416</td>\n",
              "      <td>0.468235</td>\n",
              "      <td>0.132540</td>\n",
              "      <td>0.615709</td>\n",
              "    </tr>\n",
              "    <tr>\n",
              "      <th>Shimmer(dB)</th>\n",
              "      <td>0.142864</td>\n",
              "      <td>0.111130</td>\n",
              "      <td>0.056481</td>\n",
              "      <td>-0.030962</td>\n",
              "      <td>0.110076</td>\n",
              "      <td>0.098790</td>\n",
              "      <td>0.716704</td>\n",
              "      <td>0.655871</td>\n",
              "      <td>0.685551</td>\n",
              "      <td>0.734591</td>\n",
              "      <td>...</td>\n",
              "      <td>1.000000</td>\n",
              "      <td>0.968015</td>\n",
              "      <td>0.976373</td>\n",
              "      <td>0.936338</td>\n",
              "      <td>0.968014</td>\n",
              "      <td>0.798077</td>\n",
              "      <td>-0.802496</td>\n",
              "      <td>0.472409</td>\n",
              "      <td>0.126111</td>\n",
              "      <td>0.635163</td>\n",
              "    </tr>\n",
              "    <tr>\n",
              "      <th>Shimmer:APQ3</th>\n",
              "      <td>0.112950</td>\n",
              "      <td>0.098912</td>\n",
              "      <td>0.044937</td>\n",
              "      <td>-0.029020</td>\n",
              "      <td>0.084261</td>\n",
              "      <td>0.079363</td>\n",
              "      <td>0.664149</td>\n",
              "      <td>0.623830</td>\n",
              "      <td>0.650226</td>\n",
              "      <td>0.676711</td>\n",
              "      <td>...</td>\n",
              "      <td>0.968015</td>\n",
              "      <td>1.000000</td>\n",
              "      <td>0.962723</td>\n",
              "      <td>0.885695</td>\n",
              "      <td>1.000000</td>\n",
              "      <td>0.732736</td>\n",
              "      <td>-0.780697</td>\n",
              "      <td>0.436878</td>\n",
              "      <td>0.130735</td>\n",
              "      <td>0.576704</td>\n",
              "    </tr>\n",
              "    <tr>\n",
              "      <th>Shimmer:APQ5</th>\n",
              "      <td>0.138264</td>\n",
              "      <td>0.089983</td>\n",
              "      <td>0.064819</td>\n",
              "      <td>-0.036504</td>\n",
              "      <td>0.092105</td>\n",
              "      <td>0.083467</td>\n",
              "      <td>0.694002</td>\n",
              "      <td>0.621401</td>\n",
              "      <td>0.659831</td>\n",
              "      <td>0.734021</td>\n",
              "      <td>...</td>\n",
              "      <td>0.976373</td>\n",
              "      <td>0.962723</td>\n",
              "      <td>1.000000</td>\n",
              "      <td>0.938935</td>\n",
              "      <td>0.962723</td>\n",
              "      <td>0.798173</td>\n",
              "      <td>-0.790638</td>\n",
              "      <td>0.450890</td>\n",
              "      <td>0.128038</td>\n",
              "      <td>0.593677</td>\n",
              "    </tr>\n",
              "    <tr>\n",
              "      <th>Shimmer:APQ11</th>\n",
              "      <td>0.173333</td>\n",
              "      <td>0.135238</td>\n",
              "      <td>0.023360</td>\n",
              "      <td>-0.039110</td>\n",
              "      <td>0.136560</td>\n",
              "      <td>0.120838</td>\n",
              "      <td>0.645965</td>\n",
              "      <td>0.589998</td>\n",
              "      <td>0.603082</td>\n",
              "      <td>0.668413</td>\n",
              "      <td>...</td>\n",
              "      <td>0.936338</td>\n",
              "      <td>0.885695</td>\n",
              "      <td>0.938935</td>\n",
              "      <td>1.000000</td>\n",
              "      <td>0.885694</td>\n",
              "      <td>0.711546</td>\n",
              "      <td>-0.777974</td>\n",
              "      <td>0.480739</td>\n",
              "      <td>0.179648</td>\n",
              "      <td>0.623416</td>\n",
              "    </tr>\n",
              "    <tr>\n",
              "      <th>Shimmer:DDA</th>\n",
              "      <td>0.112949</td>\n",
              "      <td>0.098913</td>\n",
              "      <td>0.044938</td>\n",
              "      <td>-0.029017</td>\n",
              "      <td>0.084260</td>\n",
              "      <td>0.079363</td>\n",
              "      <td>0.664147</td>\n",
              "      <td>0.623827</td>\n",
              "      <td>0.650225</td>\n",
              "      <td>0.676710</td>\n",
              "      <td>...</td>\n",
              "      <td>0.968014</td>\n",
              "      <td>1.000000</td>\n",
              "      <td>0.962723</td>\n",
              "      <td>0.885694</td>\n",
              "      <td>1.000000</td>\n",
              "      <td>0.732734</td>\n",
              "      <td>-0.780696</td>\n",
              "      <td>0.436872</td>\n",
              "      <td>0.130736</td>\n",
              "      <td>0.576702</td>\n",
              "    </tr>\n",
              "    <tr>\n",
              "      <th>NHR</th>\n",
              "      <td>0.168743</td>\n",
              "      <td>0.007093</td>\n",
              "      <td>0.168170</td>\n",
              "      <td>-0.026357</td>\n",
              "      <td>0.074967</td>\n",
              "      <td>0.060952</td>\n",
              "      <td>0.825294</td>\n",
              "      <td>0.699960</td>\n",
              "      <td>0.792373</td>\n",
              "      <td>0.864864</td>\n",
              "      <td>...</td>\n",
              "      <td>0.798077</td>\n",
              "      <td>0.732736</td>\n",
              "      <td>0.798173</td>\n",
              "      <td>0.711546</td>\n",
              "      <td>0.732734</td>\n",
              "      <td>1.000000</td>\n",
              "      <td>-0.684412</td>\n",
              "      <td>0.416660</td>\n",
              "      <td>-0.022088</td>\n",
              "      <td>0.564654</td>\n",
              "    </tr>\n",
              "    <tr>\n",
              "      <th>HNR</th>\n",
              "      <td>-0.206929</td>\n",
              "      <td>-0.104842</td>\n",
              "      <td>-0.000167</td>\n",
              "      <td>0.036545</td>\n",
              "      <td>-0.157029</td>\n",
              "      <td>-0.162117</td>\n",
              "      <td>-0.675188</td>\n",
              "      <td>-0.706418</td>\n",
              "      <td>-0.641473</td>\n",
              "      <td>-0.662409</td>\n",
              "      <td>...</td>\n",
              "      <td>-0.802496</td>\n",
              "      <td>-0.780697</td>\n",
              "      <td>-0.790638</td>\n",
              "      <td>-0.777974</td>\n",
              "      <td>-0.780696</td>\n",
              "      <td>-0.684412</td>\n",
              "      <td>1.000000</td>\n",
              "      <td>-0.659053</td>\n",
              "      <td>-0.290519</td>\n",
              "      <td>-0.758722</td>\n",
              "    </tr>\n",
              "    <tr>\n",
              "      <th>RPDE</th>\n",
              "      <td>0.147300</td>\n",
              "      <td>0.090208</td>\n",
              "      <td>-0.159262</td>\n",
              "      <td>-0.038887</td>\n",
              "      <td>0.128607</td>\n",
              "      <td>0.156897</td>\n",
              "      <td>0.427128</td>\n",
              "      <td>0.547100</td>\n",
              "      <td>0.382891</td>\n",
              "      <td>0.381503</td>\n",
              "      <td>...</td>\n",
              "      <td>0.472409</td>\n",
              "      <td>0.436878</td>\n",
              "      <td>0.450890</td>\n",
              "      <td>0.480739</td>\n",
              "      <td>0.436872</td>\n",
              "      <td>0.416660</td>\n",
              "      <td>-0.659053</td>\n",
              "      <td>1.000000</td>\n",
              "      <td>0.192030</td>\n",
              "      <td>0.566065</td>\n",
              "    </tr>\n",
              "    <tr>\n",
              "      <th>DFA</th>\n",
              "      <td>0.097464</td>\n",
              "      <td>-0.092870</td>\n",
              "      <td>-0.165113</td>\n",
              "      <td>0.019261</td>\n",
              "      <td>-0.116242</td>\n",
              "      <td>-0.113475</td>\n",
              "      <td>0.226550</td>\n",
              "      <td>0.352264</td>\n",
              "      <td>0.214881</td>\n",
              "      <td>0.175359</td>\n",
              "      <td>...</td>\n",
              "      <td>0.126111</td>\n",
              "      <td>0.130735</td>\n",
              "      <td>0.128038</td>\n",
              "      <td>0.179648</td>\n",
              "      <td>0.130736</td>\n",
              "      <td>-0.022088</td>\n",
              "      <td>-0.290519</td>\n",
              "      <td>0.192030</td>\n",
              "      <td>1.000000</td>\n",
              "      <td>0.394650</td>\n",
              "    </tr>\n",
              "    <tr>\n",
              "      <th>PPE</th>\n",
              "      <td>0.157559</td>\n",
              "      <td>0.120790</td>\n",
              "      <td>-0.099901</td>\n",
              "      <td>-0.000563</td>\n",
              "      <td>0.162433</td>\n",
              "      <td>0.156195</td>\n",
              "      <td>0.721849</td>\n",
              "      <td>0.787853</td>\n",
              "      <td>0.670652</td>\n",
              "      <td>0.663491</td>\n",
              "      <td>...</td>\n",
              "      <td>0.635163</td>\n",
              "      <td>0.576704</td>\n",
              "      <td>0.593677</td>\n",
              "      <td>0.623416</td>\n",
              "      <td>0.576702</td>\n",
              "      <td>0.564654</td>\n",
              "      <td>-0.758722</td>\n",
              "      <td>0.566065</td>\n",
              "      <td>0.394650</td>\n",
              "      <td>1.000000</td>\n",
              "    </tr>\n",
              "  </tbody>\n",
              "</table>\n",
              "<p>22 rows × 22 columns</p>\n",
              "</div>"
            ],
            "text/plain": [
              "               subject#       age       sex  test_time  motor_UPDRS  \\\n",
              "subject#       1.000000 -0.030864  0.286851  -0.000882     0.252919   \n",
              "age           -0.030864  1.000000 -0.041602   0.019884     0.273665   \n",
              "sex            0.286851 -0.041602  1.000000  -0.009805    -0.031205   \n",
              "test_time     -0.000882  0.019884 -0.009805   1.000000     0.067918   \n",
              "motor_UPDRS    0.252919  0.273665 -0.031205   0.067918     1.000000   \n",
              "total_UPDRS    0.253643  0.310290 -0.096559   0.075263     0.947231   \n",
              "Jitter(%)      0.135448  0.023071  0.051422  -0.022837     0.084816   \n",
              "Jitter(Abs)    0.075156  0.035691 -0.154645  -0.011365     0.050903   \n",
              "Jitter:RAP     0.120339  0.010255  0.076718  -0.028888     0.072684   \n",
              "Jitter:PPQ5    0.136474  0.013199  0.087995  -0.023290     0.076291   \n",
              "Jitter:DDP     0.120350  0.010258  0.076703  -0.028876     0.072698   \n",
              "Shimmer        0.146202  0.101554  0.058736  -0.033870     0.102349   \n",
              "Shimmer(dB)    0.142864  0.111130  0.056481  -0.030962     0.110076   \n",
              "Shimmer:APQ3   0.112950  0.098912  0.044937  -0.029020     0.084261   \n",
              "Shimmer:APQ5   0.138264  0.089983  0.064819  -0.036504     0.092105   \n",
              "Shimmer:APQ11  0.173333  0.135238  0.023360  -0.039110     0.136560   \n",
              "Shimmer:DDA    0.112949  0.098913  0.044938  -0.029017     0.084260   \n",
              "NHR            0.168743  0.007093  0.168170  -0.026357     0.074967   \n",
              "HNR           -0.206929 -0.104842 -0.000167   0.036545    -0.157029   \n",
              "RPDE           0.147300  0.090208 -0.159262  -0.038887     0.128607   \n",
              "DFA            0.097464 -0.092870 -0.165113   0.019261    -0.116242   \n",
              "PPE            0.157559  0.120790 -0.099901  -0.000563     0.162433   \n",
              "\n",
              "               total_UPDRS  Jitter(%)  Jitter(Abs)  Jitter:RAP  Jitter:PPQ5  \\\n",
              "subject#          0.253643   0.135448     0.075156    0.120339     0.136474   \n",
              "age               0.310290   0.023071     0.035691    0.010255     0.013199   \n",
              "sex              -0.096559   0.051422    -0.154645    0.076718     0.087995   \n",
              "test_time         0.075263  -0.022837    -0.011365   -0.028888    -0.023290   \n",
              "motor_UPDRS       0.947231   0.084816     0.050903    0.072684     0.076291   \n",
              "total_UPDRS       1.000000   0.074247     0.066927    0.064015     0.063352   \n",
              "Jitter(%)         0.074247   1.000000     0.865577    0.984181     0.968214   \n",
              "Jitter(Abs)       0.066927   0.865577     1.000000    0.844626     0.790538   \n",
              "Jitter:RAP        0.064015   0.984181     0.844626    1.000000     0.947196   \n",
              "Jitter:PPQ5       0.063352   0.968214     0.790538    0.947196     1.000000   \n",
              "Jitter:DDP        0.064027   0.984184     0.844630    1.000000     0.947203   \n",
              "Shimmer           0.092141   0.709791     0.649046    0.681729     0.732747   \n",
              "Shimmer(dB)       0.098790   0.716704     0.655871    0.685551     0.734591   \n",
              "Shimmer:APQ3      0.079363   0.664149     0.623830    0.650226     0.676711   \n",
              "Shimmer:APQ5      0.083467   0.694002     0.621401    0.659831     0.734021   \n",
              "Shimmer:APQ11     0.120838   0.645965     0.589998    0.603082     0.668413   \n",
              "Shimmer:DDA       0.079363   0.664147     0.623827    0.650225     0.676710   \n",
              "NHR               0.060952   0.825294     0.699960    0.792373     0.864864   \n",
              "HNR              -0.162117  -0.675188    -0.706418   -0.641473    -0.662409   \n",
              "RPDE              0.156897   0.427128     0.547100    0.382891     0.381503   \n",
              "DFA              -0.113475   0.226550     0.352264    0.214881     0.175359   \n",
              "PPE               0.156195   0.721849     0.787853    0.670652     0.663491   \n",
              "\n",
              "               ...  Shimmer(dB)  Shimmer:APQ3  Shimmer:APQ5  Shimmer:APQ11  \\\n",
              "subject#       ...     0.142864      0.112950      0.138264       0.173333   \n",
              "age            ...     0.111130      0.098912      0.089983       0.135238   \n",
              "sex            ...     0.056481      0.044937      0.064819       0.023360   \n",
              "test_time      ...    -0.030962     -0.029020     -0.036504      -0.039110   \n",
              "motor_UPDRS    ...     0.110076      0.084261      0.092105       0.136560   \n",
              "total_UPDRS    ...     0.098790      0.079363      0.083467       0.120838   \n",
              "Jitter(%)      ...     0.716704      0.664149      0.694002       0.645965   \n",
              "Jitter(Abs)    ...     0.655871      0.623830      0.621401       0.589998   \n",
              "Jitter:RAP     ...     0.685551      0.650226      0.659831       0.603082   \n",
              "Jitter:PPQ5    ...     0.734591      0.676711      0.734021       0.668413   \n",
              "Jitter:DDP     ...     0.685556      0.650228      0.659833       0.603090   \n",
              "Shimmer        ...     0.992334      0.979828      0.984904       0.935457   \n",
              "Shimmer(dB)    ...     1.000000      0.968015      0.976373       0.936338   \n",
              "Shimmer:APQ3   ...     0.968015      1.000000      0.962723       0.885695   \n",
              "Shimmer:APQ5   ...     0.976373      0.962723      1.000000       0.938935   \n",
              "Shimmer:APQ11  ...     0.936338      0.885695      0.938935       1.000000   \n",
              "Shimmer:DDA    ...     0.968014      1.000000      0.962723       0.885694   \n",
              "NHR            ...     0.798077      0.732736      0.798173       0.711546   \n",
              "HNR            ...    -0.802496     -0.780697     -0.790638      -0.777974   \n",
              "RPDE           ...     0.472409      0.436878      0.450890       0.480739   \n",
              "DFA            ...     0.126111      0.130735      0.128038       0.179648   \n",
              "PPE            ...     0.635163      0.576704      0.593677       0.623416   \n",
              "\n",
              "               Shimmer:DDA       NHR       HNR      RPDE       DFA       PPE  \n",
              "subject#          0.112949  0.168743 -0.206929  0.147300  0.097464  0.157559  \n",
              "age               0.098913  0.007093 -0.104842  0.090208 -0.092870  0.120790  \n",
              "sex               0.044938  0.168170 -0.000167 -0.159262 -0.165113 -0.099901  \n",
              "test_time        -0.029017 -0.026357  0.036545 -0.038887  0.019261 -0.000563  \n",
              "motor_UPDRS       0.084260  0.074967 -0.157029  0.128607 -0.116242  0.162433  \n",
              "total_UPDRS       0.079363  0.060952 -0.162117  0.156897 -0.113475  0.156195  \n",
              "Jitter(%)         0.664147  0.825294 -0.675188  0.427128  0.226550  0.721849  \n",
              "Jitter(Abs)       0.623827  0.699960 -0.706418  0.547100  0.352264  0.787853  \n",
              "Jitter:RAP        0.650225  0.792373 -0.641473  0.382891  0.214881  0.670652  \n",
              "Jitter:PPQ5       0.676710  0.864864 -0.662409  0.381503  0.175359  0.663491  \n",
              "Jitter:DDP        0.650227  0.792377 -0.641482  0.382886  0.214893  0.670660  \n",
              "Shimmer           0.979827  0.795158 -0.801416  0.468235  0.132540  0.615709  \n",
              "Shimmer(dB)       0.968014  0.798077 -0.802496  0.472409  0.126111  0.635163  \n",
              "Shimmer:APQ3      1.000000  0.732736 -0.780697  0.436878  0.130735  0.576704  \n",
              "Shimmer:APQ5      0.962723  0.798173 -0.790638  0.450890  0.128038  0.593677  \n",
              "Shimmer:APQ11     0.885694  0.711546 -0.777974  0.480739  0.179648  0.623416  \n",
              "Shimmer:DDA       1.000000  0.732734 -0.780696  0.436872  0.130736  0.576702  \n",
              "NHR               0.732734  1.000000 -0.684412  0.416660 -0.022088  0.564654  \n",
              "HNR              -0.780696 -0.684412  1.000000 -0.659053 -0.290519 -0.758722  \n",
              "RPDE              0.436872  0.416660 -0.659053  1.000000  0.192030  0.566065  \n",
              "DFA               0.130736 -0.022088 -0.290519  0.192030  1.000000  0.394650  \n",
              "PPE               0.576702  0.564654 -0.758722  0.566065  0.394650  1.000000  \n",
              "\n",
              "[22 rows x 22 columns]"
            ]
          },
          "execution_count": 5,
          "metadata": {},
          "output_type": "execute_result"
        }
      ],
      "source": [
        "df.corr()"
      ]
    },
    {
      "cell_type": "code",
      "execution_count": null,
      "metadata": {
        "id": "Y6hiICcdtkfK",
        "outputId": "68d4e2d7-a468-428b-e8ed-cff318c1f1f3"
      },
      "outputs": [
        {
          "data": {
            "text/plain": [
              "Index(['subject#', 'age', 'sex', 'test_time', 'motor_UPDRS', 'total_UPDRS',\n",
              "       'Jitter(%)', 'Jitter(Abs)', 'Jitter:RAP', 'Jitter:PPQ5', 'Jitter:DDP',\n",
              "       'Shimmer', 'Shimmer(dB)', 'Shimmer:APQ3', 'Shimmer:APQ5',\n",
              "       'Shimmer:APQ11', 'Shimmer:DDA', 'NHR', 'HNR', 'RPDE', 'DFA', 'PPE'],\n",
              "      dtype='object')"
            ]
          },
          "execution_count": 6,
          "metadata": {},
          "output_type": "execute_result"
        }
      ],
      "source": [
        "df.columns"
      ]
    },
    {
      "cell_type": "code",
      "execution_count": null,
      "metadata": {
        "id": "mtIb9ayItkfL"
      },
      "outputs": [],
      "source": [
        "y = df[\"total_UPDRS\"]\n",
        "x = df[['age', 'sex',  'Jitter(%)', 'Shimmer',  'NHR', 'HNR', 'RPDE', 'DFA', 'PPE']]"
      ]
    },
    {
      "cell_type": "code",
      "execution_count": null,
      "metadata": {
        "id": "_woeIj_JtkfL"
      },
      "outputs": [],
      "source": [
        "x_train,x_test,y_train,y_test= train_test_split(x,y, train_size=0.8, random_state=123)"
      ]
    },
    {
      "cell_type": "code",
      "execution_count": null,
      "metadata": {
        "id": "B8kbV2hKtkfM"
      },
      "outputs": [],
      "source": [
        "# scale data\n",
        "scaler = StandardScaler()\n",
        "x_train_sc =  scaler.fit_transform(x_train)\n",
        "x_test_sc =  scaler.fit_transform(x_test)"
      ]
    },
    {
      "cell_type": "code",
      "execution_count": 2,
      "metadata": {
        "id": "uhyC6jXMtkfN"
      },
      "outputs": [],
      "source": [
        "def knn_regession(train,test, k, dist = 'euclidean'):\n",
        "    \n",
        "    distances = distance.cdist(test, train, dist)\n",
        "\n",
        "    res = []\n",
        "    for i in range(len(test)):\n",
        "        closest_indices =  np.argsort(distances[i,:])[:k]\n",
        "        res.append(y_train.iloc[closest_indices].mean())\n",
        "\n",
        "    return res"
      ]
    },
    {
      "cell_type": "code",
      "execution_count": null,
      "metadata": {
        "id": "JM8WvLVvtkfN"
      },
      "outputs": [],
      "source": [
        "predicted = knn_regession(x_train_sc,x_test_sc, 5)"
      ]
    },
    {
      "cell_type": "code",
      "execution_count": null,
      "metadata": {
        "id": "IyUCSXy1tkfO",
        "outputId": "6d36ea31-0705-464d-9bea-1e9f96bb75eb"
      },
      "outputs": [
        {
          "name": "stdout",
          "output_type": "stream",
          "text": [
            "41.671812815348765\n",
            "4.462981463829788\n"
          ]
        }
      ],
      "source": [
        "print(mean_squared_error(y_test, predicted))\n",
        "print(mean_absolute_error(y_test,predicted))"
      ]
    },
    {
      "cell_type": "code",
      "execution_count": null,
      "metadata": {
        "id": "dEX17LnStkfP",
        "outputId": "abb29b9f-6415-4f5b-e082-0db2f7781fa2"
      },
      "outputs": [
        {
          "name": "stdout",
          "output_type": "stream",
          "text": [
            "25.627874286796427\n",
            "3.370432612765957\n"
          ]
        }
      ],
      "source": [
        "predicted = knn_regession(x_train_sc,x_train_sc, 5)\n",
        "print(mean_squared_error(y_train, predicted))\n",
        "print(mean_absolute_error(y_train,predicted))"
      ]
    },
    {
      "cell_type": "markdown",
      "metadata": {
        "id": "WlQAkkeXtkfU"
      },
      "source": [
        "Find optimal distance function and number of neighbors using cross validation:"
      ]
    },
    {
      "cell_type": "code",
      "execution_count": null,
      "metadata": {
        "id": "GO-qbnHotkfV"
      },
      "outputs": [],
      "source": [
        "dist_list = [ 'canberra', 'chebyshev', 'cityblock', 'cosine', 'euclidean', 'hamming', 'jaccard', 'minkowski']\n",
        "# 'braycurtis', 'dice',, 'jensenshannon', 'kulsinski', 'kulczynski1', 'yule', 'mahalanobis', 'matching', 'correlation', 'rogerstanimoto', 'russellrao', 'seuclidean', 'sokalmichener', 'sokalsneath', 'sqeuclidean'"
      ]
    },
    {
      "cell_type": "code",
      "execution_count": null,
      "metadata": {
        "id": "6CyhTj15tkfY",
        "outputId": "c1516936-4eb5-4c4a-a663-819980b5e7f4"
      },
      "outputs": [
        {
          "name": "stdout",
          "output_type": "stream",
          "text": [
            "Best 5 -fold cross-validation results using k = 16 and the cityblock distance \n",
            "MSE: 56.13318926153928\n"
          ]
        }
      ],
      "source": [
        "from sklearn.model_selection import KFold\n",
        "\n",
        "def CV(k_cv:int, k_range:range, dist_list:list):\n",
        "\n",
        "    kf = KFold(n_splits=k_cv)\n",
        "    \n",
        "    all_mse = []\n",
        "\n",
        "    for dist in dist_list:\n",
        "        for k in k_range:\n",
        "            err = []\n",
        "            for train, test in kf.split(x_train):\n",
        "                \n",
        "                distances = distance.cdist(x_train.iloc[test], x_train.iloc[train], dist)\n",
        "\n",
        "                res = []\n",
        "                for i in range(len(test)):\n",
        "                    closest_indices =  np.argsort(distances[i,:])[:k]\n",
        "                    res.append(y_train.iloc[closest_indices].mean())\n",
        "\n",
        "                err.append(mean_squared_error(y_train.iloc[test], res))\n",
        "            #print(\"For k=\",k,\"and distance=\",dist, \"- Mean MSE:\",np.mean(err))\n",
        "            all_mse.append(np.mean(err))\n",
        "\n",
        "    dists = np.repeat(dist_list,len(k_range))\n",
        "    ks = list(k_range)*len(dist_list)\n",
        "\n",
        "    zipped= zip(dists,ks)\n",
        "    indixes = list(zipped)\n",
        "    result_combination = indixes[np.argmin(all_mse)]\n",
        "\n",
        "    return print(\"Best\",k_cv,\"fold cross-validation results using\", result_combination[1],\"nearest neighbors and the\", result_combination[0],\"distance\",\"\\nMSE:\",np.min(all_mse))\n",
        "\n",
        "k_range = range(1,20)\n",
        "CV(5,k_range,dist_list)"
      ]
    },
    {
      "cell_type": "code",
      "execution_count": null,
      "metadata": {
        "id": "OlLyIh-GtkfY"
      },
      "outputs": [],
      "source": [
        "def k_seq(train,test,k_range, metric,dist):\n",
        "    all_mse = []\n",
        "    \n",
        "    if metric == \"MAE\":\n",
        "        metric_func = mean_absolute_error\n",
        "    elif metric == \"MSE\":\n",
        "        metric_func = mean_squared_error\n",
        "\n",
        "    for k in k_range:\n",
        "        all_mse.append(metric_func(y_test, knn_regession(train,test,k,dist)))\n",
        "\n",
        "    best_k_ind = np.argmin(all_mse)\n",
        "    best_k = k_range[best_k_ind]\n",
        "    \n",
        "    c = [\"r\" if k == best_k else \"b\" for k in k_range]\n",
        "\n",
        "    plt.scatter(k_range, all_mse,c = c)\n",
        "    plt.title('Scatter plot')\n",
        "    plt.xlabel('k')\n",
        "    plt.ylabel(metric)\n",
        "    plt.show()\n",
        "\n",
        "    return(print(\"Best k using\",dist,\"distance:\",best_k, \"\\n\",metric,\": \",all_mse[best_k_ind]))"
      ]
    },
    {
      "cell_type": "code",
      "execution_count": null,
      "metadata": {
        "id": "ALaz32sztkfZ",
        "outputId": "b39b0c12-ab1b-4fac-fdd8-d696cb59fade"
      },
      "outputs": [
        {
          "data": {
            "image/png": "[encoded data removed]",
            "text/plain": [
              "<Figure size 432x288 with 1 Axes>"
            ]
          },
          "metadata": {
            "needs_background": "light"
          },
          "output_type": "display_data"
        },
        {
          "name": "stdout",
          "output_type": "stream",
          "text": [
            "Best k using cityblock distance: 5 \n",
            " MSE :  35.375686014479996\n"
          ]
        }
      ],
      "source": [
        "k_seq(x_train_sc,x_test_sc, range(1,100,2),\"MSE\",\"cityblock\")"
      ]
    },
    {
      "cell_type": "code",
      "execution_count": null,
      "metadata": {
        "id": "H1eauJPctkfa",
        "outputId": "7f637302-8d8d-4a23-ce51-a9106bbe93dd"
      },
      "outputs": [
        {
          "data": {
            "image/png": "[encoded data removed]",
            "text/plain": [
              "<Figure size 432x288 with 1 Axes>"
            ]
          },
          "metadata": {
            "needs_background": "light"
          },
          "output_type": "display_data"
        },
        {
          "name": "stdout",
          "output_type": "stream",
          "text": [
            "Best k using cityblock distance: 5 \n",
            " MAE :  4.08542544680851\n"
          ]
        }
      ],
      "source": [
        "k_seq(x_train_sc,x_test_sc, range(1,100,2),\"MAE\",\"cityblock\")"
      ]
    },
    {
      "cell_type": "code",
      "execution_count": null,
      "metadata": {
        "id": "va6xSt5itkfa",
        "outputId": "62ddba4f-43b8-44a3-a454-5873f780d557"
      },
      "outputs": [
        {
          "data": {
            "image/png": "[encoded data removed]",
            "text/plain": [
              "<Figure size 432x288 with 1 Axes>"
            ]
          },
          "metadata": {
            "needs_background": "light"
          },
          "output_type": "display_data"
        }
      ],
      "source": [
        "y_pred = knn_regession(x_train_sc,x_test_sc,16,\"cityblock\")\n",
        "plt.scatter(y_test,y_pred,alpha=0.3)\n",
        "plt.show()"
      ]
    },
    {
      "cell_type": "code",
      "execution_count": null,
      "metadata": {
        "id": "v5jy2INFtkfb",
        "outputId": "320dace4-bbaf-45d5-e128-bcd4bb327bad"
      },
      "outputs": [
        {
          "name": "stdout",
          "output_type": "stream",
          "text": [
            "38.41100807234155\n",
            "4.408658882978723\n"
          ]
        }
      ],
      "source": [
        "print(mean_squared_error(y_test, y_pred))\n",
        "print(mean_absolute_error(y_test,y_pred))"
      ]
    },
    {
      "cell_type": "code",
      "execution_count": null,
      "metadata": {
        "id": "imRY_L6dtkfb",
        "outputId": "7bb420cc-cd16-4238-feca-3c7d0c8adc9d"
      },
      "outputs": [
        {
          "data": {
            "image/png": "[encoded data removed]",
            "text/plain": [
              "<Figure size 432x288 with 1 Axes>"
            ]
          },
          "metadata": {
            "needs_background": "light"
          },
          "output_type": "display_data"
        }
      ],
      "source": [
        "y_pred = knn_regession(x_train_sc,x_test_sc,5,\"cityblock\")\n",
        "plt.scatter(y_test,y_pred,alpha=0.3)\n",
        "plt.show()"
      ]
    },
    {
      "cell_type": "code",
      "execution_count": null,
      "metadata": {
        "id": "cfRPzc8Ytkfc",
        "outputId": "62abb9ec-236d-43c6-923e-db3572ba4687"
      },
      "outputs": [
        {
          "name": "stdout",
          "output_type": "stream",
          "text": [
            "35.375686014479996\n",
            "4.08542544680851\n"
          ]
        }
      ],
      "source": [
        "print(mean_squared_error(y_test, y_pred))\n",
        "print(mean_absolute_error(y_test,y_pred))"
      ]
    },
    {
      "cell_type": "markdown",
      "metadata": {
        "id": "OIQEbLwBtkfc"
      },
      "source": [
        "Compare the algorithm to the existing sklearn function:"
      ]
    },
    {
      "cell_type": "code",
      "execution_count": null,
      "metadata": {
        "id": "T76JPzT6tkfd",
        "outputId": "c5a6cc71-a9b2-4d1c-a51e-5d8b4b0a5676"
      },
      "outputs": [
        {
          "data": {
            "image/png": "[encoded data removed]",
            "text/plain": [
              "<Figure size 432x288 with 1 Axes>"
            ]
          },
          "metadata": {
            "needs_background": "light"
          },
          "output_type": "display_data"
        }
      ],
      "source": [
        "knn = KNeighborsRegressor(n_neighbors=16, metric=\"cityblock\")\n",
        "knn_model = knn.fit(x_train_sc,y_train)\n",
        "knn_prediction = knn_model.predict(x_test_sc)\n",
        "\n",
        "plt.scatter(y_test,knn_prediction,alpha=0.3)\n",
        "plt.show()"
      ]
    },
    {
      "cell_type": "code",
      "execution_count": null,
      "metadata": {
        "id": "Zt2iG0m6tkfd",
        "outputId": "604a344e-3df6-417d-a4ec-7f9bbfdfca29"
      },
      "outputs": [
        {
          "name": "stdout",
          "output_type": "stream",
          "text": [
            "38.41100807234156\n",
            "4.408658882978724\n"
          ]
        }
      ],
      "source": [
        "print(mean_squared_error(y_test, knn_prediction))\n",
        "print(mean_absolute_error(y_test,knn_prediction))"
      ]
    },
    {
      "cell_type": "markdown",
      "metadata": {
        "id": "e7U4GNR0tkfe"
      },
      "source": [
        "## Immo data"
      ]
    },
    {
      "cell_type": "code",
      "execution_count": 76,
      "metadata": {
        "colab": {
          "base_uri": "https://localhost:8080/",
          "height": 577
        },
        "id": "OaCU6Icttkfe",
        "outputId": "b5df8669-6121-44ba-df48-04abd968e96c"
      },
      "outputs": [
        {
          "output_type": "execute_result",
          "data": {
            "text/plain": [
              "                regio1  serviceCharge                     heatingType  \\\n",
              "0  Nordrhein_Westfalen         245.00                 central_heating   \n",
              "1      Rheinland_Pfalz         134.00  self_contained_central_heating   \n",
              "2              Sachsen         255.00                   floor_heating   \n",
              "3              Sachsen          58.15                district_heating   \n",
              "4               Bremen         138.00  self_contained_central_heating   \n",
              "\n",
              "  telekomTvOffer  telekomHybridUploadSpeed  newlyConst  balcony  picturecount  \\\n",
              "0  ONE_YEAR_FREE                       NaN       False    False             6   \n",
              "1  ONE_YEAR_FREE                       NaN       False     True             8   \n",
              "2  ONE_YEAR_FREE                      10.0        True     True             8   \n",
              "3  ONE_YEAR_FREE                       NaN       False     True             9   \n",
              "4            NaN                       NaN       False     True            19   \n",
              "\n",
              "   pricetrend  telekomUploadSpeed  ...               regio2  \\\n",
              "0        4.62                10.0  ...             Dortmund   \n",
              "1        3.47                10.0  ...    Rhein_Pfalz_Kreis   \n",
              "2        2.72                 2.4  ...              Dresden   \n",
              "3        1.53                40.0  ...  Mittelsachsen_Kreis   \n",
              "4        2.46                 NaN  ...               Bremen   \n",
              "\n",
              "                       regio3  \\\n",
              "0                     Schüren   \n",
              "1              Böhl_Iggelheim   \n",
              "2  Äußere_Neustadt_Antonstadt   \n",
              "3                    Freiberg   \n",
              "4           Neu_Schwachhausen   \n",
              "\n",
              "                                         description  \\\n",
              "0  Die ebenerdig zu erreichende Erdgeschosswohnun...   \n",
              "1  Alles neu macht der Mai – so kann es auch für ...   \n",
              "2  Der Neubau entsteht im Herzen der Dresdner Neu...   \n",
              "3  Abseits von Lärm und Abgasen in Ihre neue Wohn...   \n",
              "4  Es handelt sich hier um ein saniertes Mehrfami...   \n",
              "\n",
              "                                          facilities heatingCosts  \\\n",
              "0  Die Wohnung ist mit Laminat ausgelegt. Das Bad...          NaN   \n",
              "1                                                NaN          NaN   \n",
              "2  * 9 m² Balkon\\n* Bad mit bodengleicher Dusche,...          NaN   \n",
              "3                                                NaN        87.23   \n",
              "4  Diese Wohnung wurde neu saniert und ist wie fo...          NaN   \n",
              "\n",
              "   energyEfficiencyClass lastRefurbish  electricityBasePrice  \\\n",
              "0                    NaN           NaN                   NaN   \n",
              "1                    NaN        2019.0                   NaN   \n",
              "2                    NaN           NaN                   NaN   \n",
              "3                    NaN           NaN                   NaN   \n",
              "4                    NaN           NaN                   NaN   \n",
              "\n",
              "   electricityKwhPrice   date  \n",
              "0                  NaN  May19  \n",
              "1                  NaN  May19  \n",
              "2                  NaN  Oct19  \n",
              "3                  NaN  May19  \n",
              "4                  NaN  Feb20  \n",
              "\n",
              "[5 rows x 49 columns]"
            ],
            "text/html": [
              "\n",
              "  <div id=\"df-893fa573-db84-4747-aaab-4f573821c0bb\">\n",
              "    <div class=\"colab-df-container\">\n",
              "      <div>\n",
              "<style scoped>\n",
              "    .dataframe tbody tr th:only-of-type {\n",
              "        vertical-align: middle;\n",
              "    }\n",
              "\n",
              "    .dataframe tbody tr th {\n",
              "        vertical-align: top;\n",
              "    }\n",
              "\n",
              "    .dataframe thead th {\n",
              "        text-align: right;\n",
              "    }\n",
              "</style>\n",
              "<table border=\"1\" class=\"dataframe\">\n",
              "  <thead>\n",
              "    <tr style=\"text-align: right;\">\n",
              "      <th></th>\n",
              "      <th>regio1</th>\n",
              "      <th>serviceCharge</th>\n",
              "      <th>heatingType</th>\n",
              "      <th>telekomTvOffer</th>\n",
              "      <th>telekomHybridUploadSpeed</th>\n",
              "      <th>newlyConst</th>\n",
              "      <th>balcony</th>\n",
              "      <th>picturecount</th>\n",
              "      <th>pricetrend</th>\n",
              "      <th>telekomUploadSpeed</th>\n",
              "      <th>...</th>\n",
              "      <th>regio2</th>\n",
              "      <th>regio3</th>\n",
              "      <th>description</th>\n",
              "      <th>facilities</th>\n",
              "      <th>heatingCosts</th>\n",
              "      <th>energyEfficiencyClass</th>\n",
              "      <th>lastRefurbish</th>\n",
              "      <th>electricityBasePrice</th>\n",
              "      <th>electricityKwhPrice</th>\n",
              "      <th>date</th>\n",
              "    </tr>\n",
              "  </thead>\n",
              "  <tbody>\n",
              "    <tr>\n",
              "      <th>0</th>\n",
              "      <td>Nordrhein_Westfalen</td>\n",
              "      <td>245.00</td>\n",
              "      <td>central_heating</td>\n",
              "      <td>ONE_YEAR_FREE</td>\n",
              "      <td>NaN</td>\n",
              "      <td>False</td>\n",
              "      <td>False</td>\n",
              "      <td>6</td>\n",
              "      <td>4.62</td>\n",
              "      <td>10.0</td>\n",
              "      <td>...</td>\n",
              "      <td>Dortmund</td>\n",
              "      <td>Schüren</td>\n",
              "      <td>Die ebenerdig zu erreichende Erdgeschosswohnun...</td>\n",
              "      <td>Die Wohnung ist mit Laminat ausgelegt. Das Bad...</td>\n",
              "      <td>NaN</td>\n",
              "      <td>NaN</td>\n",
              "      <td>NaN</td>\n",
              "      <td>NaN</td>\n",
              "      <td>NaN</td>\n",
              "      <td>May19</td>\n",
              "    </tr>\n",
              "    <tr>\n",
              "      <th>1</th>\n",
              "      <td>Rheinland_Pfalz</td>\n",
              "      <td>134.00</td>\n",
              "      <td>self_contained_central_heating</td>\n",
              "      <td>ONE_YEAR_FREE</td>\n",
              "      <td>NaN</td>\n",
              "      <td>False</td>\n",
              "      <td>True</td>\n",
              "      <td>8</td>\n",
              "      <td>3.47</td>\n",
              "      <td>10.0</td>\n",
              "      <td>...</td>\n",
              "      <td>Rhein_Pfalz_Kreis</td>\n",
              "      <td>Böhl_Iggelheim</td>\n",
              "      <td>Alles neu macht der Mai – so kann es auch für ...</td>\n",
              "      <td>NaN</td>\n",
              "      <td>NaN</td>\n",
              "      <td>NaN</td>\n",
              "      <td>2019.0</td>\n",
              "      <td>NaN</td>\n",
              "      <td>NaN</td>\n",
              "      <td>May19</td>\n",
              "    </tr>\n",
              "    <tr>\n",
              "      <th>2</th>\n",
              "      <td>Sachsen</td>\n",
              "      <td>255.00</td>\n",
              "      <td>floor_heating</td>\n",
              "      <td>ONE_YEAR_FREE</td>\n",
              "      <td>10.0</td>\n",
              "      <td>True</td>\n",
              "      <td>True</td>\n",
              "      <td>8</td>\n",
              "      <td>2.72</td>\n",
              "      <td>2.4</td>\n",
              "      <td>...</td>\n",
              "      <td>Dresden</td>\n",
              "      <td>Äußere_Neustadt_Antonstadt</td>\n",
              "      <td>Der Neubau entsteht im Herzen der Dresdner Neu...</td>\n",
              "      <td>* 9 m² Balkon\\n* Bad mit bodengleicher Dusche,...</td>\n",
              "      <td>NaN</td>\n",
              "      <td>NaN</td>\n",
              "      <td>NaN</td>\n",
              "      <td>NaN</td>\n",
              "      <td>NaN</td>\n",
              "      <td>Oct19</td>\n",
              "    </tr>\n",
              "    <tr>\n",
              "      <th>3</th>\n",
              "      <td>Sachsen</td>\n",
              "      <td>58.15</td>\n",
              "      <td>district_heating</td>\n",
              "      <td>ONE_YEAR_FREE</td>\n",
              "      <td>NaN</td>\n",
              "      <td>False</td>\n",
              "      <td>True</td>\n",
              "      <td>9</td>\n",
              "      <td>1.53</td>\n",
              "      <td>40.0</td>\n",
              "      <td>...</td>\n",
              "      <td>Mittelsachsen_Kreis</td>\n",
              "      <td>Freiberg</td>\n",
              "      <td>Abseits von Lärm und Abgasen in Ihre neue Wohn...</td>\n",
              "      <td>NaN</td>\n",
              "      <td>87.23</td>\n",
              "      <td>NaN</td>\n",
              "      <td>NaN</td>\n",
              "      <td>NaN</td>\n",
              "      <td>NaN</td>\n",
              "      <td>May19</td>\n",
              "    </tr>\n",
              "    <tr>\n",
              "      <th>4</th>\n",
              "      <td>Bremen</td>\n",
              "      <td>138.00</td>\n",
              "      <td>self_contained_central_heating</td>\n",
              "      <td>NaN</td>\n",
              "      <td>NaN</td>\n",
              "      <td>False</td>\n",
              "      <td>True</td>\n",
              "      <td>19</td>\n",
              "      <td>2.46</td>\n",
              "      <td>NaN</td>\n",
              "      <td>...</td>\n",
              "      <td>Bremen</td>\n",
              "      <td>Neu_Schwachhausen</td>\n",
              "      <td>Es handelt sich hier um ein saniertes Mehrfami...</td>\n",
              "      <td>Diese Wohnung wurde neu saniert und ist wie fo...</td>\n",
              "      <td>NaN</td>\n",
              "      <td>NaN</td>\n",
              "      <td>NaN</td>\n",
              "      <td>NaN</td>\n",
              "      <td>NaN</td>\n",
              "      <td>Feb20</td>\n",
              "    </tr>\n",
              "  </tbody>\n",
              "</table>\n",
              "<p>5 rows × 49 columns</p>\n",
              "</div>\n",
              "      <button class=\"colab-df-convert\" onclick=\"convertToInteractive('df-893fa573-db84-4747-aaab-4f573821c0bb')\"\n",
              "              title=\"Convert this dataframe to an interactive table.\"\n",
              "              style=\"display:none;\">\n",
              "        \n",
              "  <svg xmlns=\"http://www.w3.org/2000/svg\" height=\"24px\"viewBox=\"0 0 24 24\"\n",
              "       width=\"24px\">\n",
              "    <path d=\"M0 0h24v24H0V0z\" fill=\"none\"/>\n",
              "    <path d=\"M18.56 5.44l.94 2.06.94-2.06 2.06-.94-2.06-.94-.94-2.06-.94 2.06-2.06.94zm-11 1L8.5 8.5l.94-2.06 2.06-.94-2.06-.94L8.5 2.5l-.94 2.06-2.06.94zm10 10l.94 2.06.94-2.06 2.06-.94-2.06-.94-.94-2.06-.94 2.06-2.06.94z\"/><path d=\"M17.41 7.96l-1.37-1.37c-.4-.4-.92-.59-1.43-.59-.52 0-1.04.2-1.43.59L10.3 9.45l-7.72 7.72c-.78.78-.78 2.05 0 2.83L4 21.41c.39.39.9.59 1.41.59.51 0 1.02-.2 1.41-.59l7.78-7.78 2.81-2.81c.8-.78.8-2.07 0-2.86zM5.41 20L4 18.59l7.72-7.72 1.47 1.35L5.41 20z\"/>\n",
              "  </svg>\n",
              "      </button>\n",
              "      \n",
              "  <style>\n",
              "    .colab-df-container {\n",
              "      display:flex;\n",
              "      flex-wrap:wrap;\n",
              "      gap: 12px;\n",
              "    }\n",
              "\n",
              "    .colab-df-convert {\n",
              "      background-color: #E8F0FE;\n",
              "      border: none;\n",
              "      border-radius: 50%;\n",
              "      cursor: pointer;\n",
              "      display: none;\n",
              "      fill: #1967D2;\n",
              "      height: 32px;\n",
              "      padding: 0 0 0 0;\n",
              "      width: 32px;\n",
              "    }\n",
              "\n",
              "    .colab-df-convert:hover {\n",
              "      background-color: #E2EBFA;\n",
              "      box-shadow: 0px 1px 2px rgba(60, 64, 67, 0.3), 0px 1px 3px 1px rgba(60, 64, 67, 0.15);\n",
              "      fill: #174EA6;\n",
              "    }\n",
              "\n",
              "    [theme=dark] .colab-df-convert {\n",
              "      background-color: #3B4455;\n",
              "      fill: #D2E3FC;\n",
              "    }\n",
              "\n",
              "    [theme=dark] .colab-df-convert:hover {\n",
              "      background-color: #434B5C;\n",
              "      box-shadow: 0px 1px 3px 1px rgba(0, 0, 0, 0.15);\n",
              "      filter: drop-shadow(0px 1px 2px rgba(0, 0, 0, 0.3));\n",
              "      fill: #FFFFFF;\n",
              "    }\n",
              "  </style>\n",
              "\n",
              "      <script>\n",
              "        const buttonEl =\n",
              "          document.querySelector('#df-893fa573-db84-4747-aaab-4f573821c0bb button.colab-df-convert');\n",
              "        buttonEl.style.display =\n",
              "          google.colab.kernel.accessAllowed ? 'block' : 'none';\n",
              "\n",
              "        async function convertToInteractive(key) {\n",
              "          const element = document.querySelector('#df-893fa573-db84-4747-aaab-4f573821c0bb');\n",
              "          const dataTable =\n",
              "            await google.colab.kernel.invokeFunction('convertToInteractive',\n",
              "                                                     [key], {});\n",
              "          if (!dataTable) return;\n",
              "\n",
              "          const docLinkHtml = 'Like what you see? Visit the ' +\n",
              "            '<a target=\"_blank\" href=https://colab.research.google.com/notebooks/data_table.ipynb>data table notebook</a>'\n",
              "            + ' to learn more about interactive tables.';\n",
              "          element.innerHTML = '';\n",
              "          dataTable['output_type'] = 'display_data';\n",
              "          await google.colab.output.renderOutput(dataTable, element);\n",
              "          const docLink = document.createElement('div');\n",
              "          docLink.innerHTML = docLinkHtml;\n",
              "          element.appendChild(docLink);\n",
              "        }\n",
              "      </script>\n",
              "    </div>\n",
              "  </div>\n",
              "  "
            ]
          },
          "metadata": {},
          "execution_count": 76
        }
      ],
      "source": [
        "immo = pd.read_csv('/immo_data.csv', engine=\"python\")\n",
        "immo.head()"
      ]
    },
    {
      "cell_type": "code",
      "execution_count": 77,
      "metadata": {
        "colab": {
          "base_uri": "https://localhost:8080/"
        },
        "id": "euP78yfOtkff",
        "outputId": "babe17be-eb5f-4e7d-b4c3-9021f103212a"
      },
      "outputs": [
        {
          "output_type": "execute_result",
          "data": {
            "text/plain": [
              "(268850, 49)"
            ]
          },
          "metadata": {},
          "execution_count": 77
        }
      ],
      "source": [
        "immo.shape"
      ]
    },
    {
      "cell_type": "code",
      "execution_count": 78,
      "metadata": {
        "colab": {
          "base_uri": "https://localhost:8080/",
          "height": 393
        },
        "id": "ZX0ovCkItkff",
        "outputId": "0896abae-bd27-43bf-b7c7-bc85792d1b0a"
      },
      "outputs": [
        {
          "output_type": "execute_result",
          "data": {
            "text/plain": [
              "       serviceCharge  telekomHybridUploadSpeed   picturecount     pricetrend  \\\n",
              "count  261941.000000                   45020.0  268850.000000  267018.000000   \n",
              "mean      151.206113                      10.0       9.791958       3.389001   \n",
              "std       308.295790                       0.0       6.408399       1.964874   \n",
              "min         0.000000                      10.0       0.000000     -12.330000   \n",
              "25%        95.000000                      10.0       6.000000       2.000000   \n",
              "50%       135.000000                      10.0       9.000000       3.390000   \n",
              "75%       190.000000                      10.0      13.000000       4.570000   \n",
              "max    146118.000000                      10.0     121.000000      14.920000   \n",
              "\n",
              "       telekomUploadSpeed     totalRent  yearConstructed       scoutId  \\\n",
              "count       235492.000000  2.283330e+05    211805.000000  2.688500e+05   \n",
              "mean            28.804928  9.013315e+02      1966.400590  1.069697e+08   \n",
              "std             16.337151  3.323833e+04        46.992207  1.250093e+07   \n",
              "min              1.000000  0.000000e+00      1000.000000  2.887174e+07   \n",
              "25%             10.000000  4.698000e+02      1950.000000  1.066910e+08   \n",
              "50%             40.000000  6.500000e+02      1973.000000  1.111584e+08   \n",
              "75%             40.000000  9.850000e+02      1996.000000  1.137688e+08   \n",
              "max            100.000000  1.575154e+07      2090.000000  1.157117e+08   \n",
              "\n",
              "       noParkSpaces  yearConstructedRange  ...        noRooms    thermalChar  \\\n",
              "count  93052.000000         211805.000000  ...  268850.000000  162344.000000   \n",
              "mean       1.327634              3.714544  ...       2.641261     114.749533   \n",
              "std        8.361403              2.738134  ...       2.633440      61.653663   \n",
              "min        0.000000              1.000000  ...       1.000000       0.100000   \n",
              "25%        1.000000              1.000000  ...       2.000000      79.000000   \n",
              "50%        1.000000              3.000000  ...       3.000000     107.000000   \n",
              "75%        1.000000              5.000000  ...       3.000000     140.300000   \n",
              "max     2241.000000              9.000000  ...     999.990000    1996.000000   \n",
              "\n",
              "               floor  numberOfFloors   noRoomsRange  livingSpaceRange  \\\n",
              "count  217541.000000   171118.000000  268850.000000     268850.000000   \n",
              "mean        2.122405        3.572319       2.571542          3.070790   \n",
              "std         3.634934        6.375496       0.937594          1.407127   \n",
              "min        -1.000000        0.000000       1.000000          1.000000   \n",
              "25%         1.000000        2.000000       2.000000          2.000000   \n",
              "50%         2.000000        3.000000       3.000000          3.000000   \n",
              "75%         3.000000        4.000000       3.000000          4.000000   \n",
              "max       999.000000      999.000000       5.000000          7.000000   \n",
              "\n",
              "       heatingCosts  lastRefurbish  electricityBasePrice  electricityKwhPrice  \n",
              "count  85518.000000   80711.000000          46846.000000         46846.000000  \n",
              "mean      76.990866    2013.904536             89.113612             0.199769  \n",
              "std      147.716278      10.963125              5.395805             0.009667  \n",
              "min        0.000000    1015.000000             71.430000             0.170500  \n",
              "25%       54.000000    2012.000000             90.760000             0.191500  \n",
              "50%       70.000000    2017.000000             90.760000             0.198500  \n",
              "75%       90.000000    2019.000000             90.760000             0.205500  \n",
              "max    12613.000000    2919.000000             90.760000             0.227600  \n",
              "\n",
              "[8 rows x 24 columns]"
            ],
            "text/html": [
              "\n",
              "  <div id=\"df-3e5ccc7b-9956-4479-bb7e-21d018468887\">\n",
              "    <div class=\"colab-df-container\">\n",
              "      <div>\n",
              "<style scoped>\n",
              "    .dataframe tbody tr th:only-of-type {\n",
              "        vertical-align: middle;\n",
              "    }\n",
              "\n",
              "    .dataframe tbody tr th {\n",
              "        vertical-align: top;\n",
              "    }\n",
              "\n",
              "    .dataframe thead th {\n",
              "        text-align: right;\n",
              "    }\n",
              "</style>\n",
              "<table border=\"1\" class=\"dataframe\">\n",
              "  <thead>\n",
              "    <tr style=\"text-align: right;\">\n",
              "      <th></th>\n",
              "      <th>serviceCharge</th>\n",
              "      <th>telekomHybridUploadSpeed</th>\n",
              "      <th>picturecount</th>\n",
              "      <th>pricetrend</th>\n",
              "      <th>telekomUploadSpeed</th>\n",
              "      <th>totalRent</th>\n",
              "      <th>yearConstructed</th>\n",
              "      <th>scoutId</th>\n",
              "      <th>noParkSpaces</th>\n",
              "      <th>yearConstructedRange</th>\n",
              "      <th>...</th>\n",
              "      <th>noRooms</th>\n",
              "      <th>thermalChar</th>\n",
              "      <th>floor</th>\n",
              "      <th>numberOfFloors</th>\n",
              "      <th>noRoomsRange</th>\n",
              "      <th>livingSpaceRange</th>\n",
              "      <th>heatingCosts</th>\n",
              "      <th>lastRefurbish</th>\n",
              "      <th>electricityBasePrice</th>\n",
              "      <th>electricityKwhPrice</th>\n",
              "    </tr>\n",
              "  </thead>\n",
              "  <tbody>\n",
              "    <tr>\n",
              "      <th>count</th>\n",
              "      <td>261941.000000</td>\n",
              "      <td>45020.0</td>\n",
              "      <td>268850.000000</td>\n",
              "      <td>267018.000000</td>\n",
              "      <td>235492.000000</td>\n",
              "      <td>2.283330e+05</td>\n",
              "      <td>211805.000000</td>\n",
              "      <td>2.688500e+05</td>\n",
              "      <td>93052.000000</td>\n",
              "      <td>211805.000000</td>\n",
              "      <td>...</td>\n",
              "      <td>268850.000000</td>\n",
              "      <td>162344.000000</td>\n",
              "      <td>217541.000000</td>\n",
              "      <td>171118.000000</td>\n",
              "      <td>268850.000000</td>\n",
              "      <td>268850.000000</td>\n",
              "      <td>85518.000000</td>\n",
              "      <td>80711.000000</td>\n",
              "      <td>46846.000000</td>\n",
              "      <td>46846.000000</td>\n",
              "    </tr>\n",
              "    <tr>\n",
              "      <th>mean</th>\n",
              "      <td>151.206113</td>\n",
              "      <td>10.0</td>\n",
              "      <td>9.791958</td>\n",
              "      <td>3.389001</td>\n",
              "      <td>28.804928</td>\n",
              "      <td>9.013315e+02</td>\n",
              "      <td>1966.400590</td>\n",
              "      <td>1.069697e+08</td>\n",
              "      <td>1.327634</td>\n",
              "      <td>3.714544</td>\n",
              "      <td>...</td>\n",
              "      <td>2.641261</td>\n",
              "      <td>114.749533</td>\n",
              "      <td>2.122405</td>\n",
              "      <td>3.572319</td>\n",
              "      <td>2.571542</td>\n",
              "      <td>3.070790</td>\n",
              "      <td>76.990866</td>\n",
              "      <td>2013.904536</td>\n",
              "      <td>89.113612</td>\n",
              "      <td>0.199769</td>\n",
              "    </tr>\n",
              "    <tr>\n",
              "      <th>std</th>\n",
              "      <td>308.295790</td>\n",
              "      <td>0.0</td>\n",
              "      <td>6.408399</td>\n",
              "      <td>1.964874</td>\n",
              "      <td>16.337151</td>\n",
              "      <td>3.323833e+04</td>\n",
              "      <td>46.992207</td>\n",
              "      <td>1.250093e+07</td>\n",
              "      <td>8.361403</td>\n",
              "      <td>2.738134</td>\n",
              "      <td>...</td>\n",
              "      <td>2.633440</td>\n",
              "      <td>61.653663</td>\n",
              "      <td>3.634934</td>\n",
              "      <td>6.375496</td>\n",
              "      <td>0.937594</td>\n",
              "      <td>1.407127</td>\n",
              "      <td>147.716278</td>\n",
              "      <td>10.963125</td>\n",
              "      <td>5.395805</td>\n",
              "      <td>0.009667</td>\n",
              "    </tr>\n",
              "    <tr>\n",
              "      <th>min</th>\n",
              "      <td>0.000000</td>\n",
              "      <td>10.0</td>\n",
              "      <td>0.000000</td>\n",
              "      <td>-12.330000</td>\n",
              "      <td>1.000000</td>\n",
              "      <td>0.000000e+00</td>\n",
              "      <td>1000.000000</td>\n",
              "      <td>2.887174e+07</td>\n",
              "      <td>0.000000</td>\n",
              "      <td>1.000000</td>\n",
              "      <td>...</td>\n",
              "      <td>1.000000</td>\n",
              "      <td>0.100000</td>\n",
              "      <td>-1.000000</td>\n",
              "      <td>0.000000</td>\n",
              "      <td>1.000000</td>\n",
              "      <td>1.000000</td>\n",
              "      <td>0.000000</td>\n",
              "      <td>1015.000000</td>\n",
              "      <td>71.430000</td>\n",
              "      <td>0.170500</td>\n",
              "    </tr>\n",
              "    <tr>\n",
              "      <th>25%</th>\n",
              "      <td>95.000000</td>\n",
              "      <td>10.0</td>\n",
              "      <td>6.000000</td>\n",
              "      <td>2.000000</td>\n",
              "      <td>10.000000</td>\n",
              "      <td>4.698000e+02</td>\n",
              "      <td>1950.000000</td>\n",
              "      <td>1.066910e+08</td>\n",
              "      <td>1.000000</td>\n",
              "      <td>1.000000</td>\n",
              "      <td>...</td>\n",
              "      <td>2.000000</td>\n",
              "      <td>79.000000</td>\n",
              "      <td>1.000000</td>\n",
              "      <td>2.000000</td>\n",
              "      <td>2.000000</td>\n",
              "      <td>2.000000</td>\n",
              "      <td>54.000000</td>\n",
              "      <td>2012.000000</td>\n",
              "      <td>90.760000</td>\n",
              "      <td>0.191500</td>\n",
              "    </tr>\n",
              "    <tr>\n",
              "      <th>50%</th>\n",
              "      <td>135.000000</td>\n",
              "      <td>10.0</td>\n",
              "      <td>9.000000</td>\n",
              "      <td>3.390000</td>\n",
              "      <td>40.000000</td>\n",
              "      <td>6.500000e+02</td>\n",
              "      <td>1973.000000</td>\n",
              "      <td>1.111584e+08</td>\n",
              "      <td>1.000000</td>\n",
              "      <td>3.000000</td>\n",
              "      <td>...</td>\n",
              "      <td>3.000000</td>\n",
              "      <td>107.000000</td>\n",
              "      <td>2.000000</td>\n",
              "      <td>3.000000</td>\n",
              "      <td>3.000000</td>\n",
              "      <td>3.000000</td>\n",
              "      <td>70.000000</td>\n",
              "      <td>2017.000000</td>\n",
              "      <td>90.760000</td>\n",
              "      <td>0.198500</td>\n",
              "    </tr>\n",
              "    <tr>\n",
              "      <th>75%</th>\n",
              "      <td>190.000000</td>\n",
              "      <td>10.0</td>\n",
              "      <td>13.000000</td>\n",
              "      <td>4.570000</td>\n",
              "      <td>40.000000</td>\n",
              "      <td>9.850000e+02</td>\n",
              "      <td>1996.000000</td>\n",
              "      <td>1.137688e+08</td>\n",
              "      <td>1.000000</td>\n",
              "      <td>5.000000</td>\n",
              "      <td>...</td>\n",
              "      <td>3.000000</td>\n",
              "      <td>140.300000</td>\n",
              "      <td>3.000000</td>\n",
              "      <td>4.000000</td>\n",
              "      <td>3.000000</td>\n",
              "      <td>4.000000</td>\n",
              "      <td>90.000000</td>\n",
              "      <td>2019.000000</td>\n",
              "      <td>90.760000</td>\n",
              "      <td>0.205500</td>\n",
              "    </tr>\n",
              "    <tr>\n",
              "      <th>max</th>\n",
              "      <td>146118.000000</td>\n",
              "      <td>10.0</td>\n",
              "      <td>121.000000</td>\n",
              "      <td>14.920000</td>\n",
              "      <td>100.000000</td>\n",
              "      <td>1.575154e+07</td>\n",
              "      <td>2090.000000</td>\n",
              "      <td>1.157117e+08</td>\n",
              "      <td>2241.000000</td>\n",
              "      <td>9.000000</td>\n",
              "      <td>...</td>\n",
              "      <td>999.990000</td>\n",
              "      <td>1996.000000</td>\n",
              "      <td>999.000000</td>\n",
              "      <td>999.000000</td>\n",
              "      <td>5.000000</td>\n",
              "      <td>7.000000</td>\n",
              "      <td>12613.000000</td>\n",
              "      <td>2919.000000</td>\n",
              "      <td>90.760000</td>\n",
              "      <td>0.227600</td>\n",
              "    </tr>\n",
              "  </tbody>\n",
              "</table>\n",
              "<p>8 rows × 24 columns</p>\n",
              "</div>\n",
              "      <button class=\"colab-df-convert\" onclick=\"convertToInteractive('df-3e5ccc7b-9956-4479-bb7e-21d018468887')\"\n",
              "              title=\"Convert this dataframe to an interactive table.\"\n",
              "              style=\"display:none;\">\n",
              "        \n",
              "  <svg xmlns=\"http://www.w3.org/2000/svg\" height=\"24px\"viewBox=\"0 0 24 24\"\n",
              "       width=\"24px\">\n",
              "    <path d=\"M0 0h24v24H0V0z\" fill=\"none\"/>\n",
              "    <path d=\"M18.56 5.44l.94 2.06.94-2.06 2.06-.94-2.06-.94-.94-2.06-.94 2.06-2.06.94zm-11 1L8.5 8.5l.94-2.06 2.06-.94-2.06-.94L8.5 2.5l-.94 2.06-2.06.94zm10 10l.94 2.06.94-2.06 2.06-.94-2.06-.94-.94-2.06-.94 2.06-2.06.94z\"/><path d=\"M17.41 7.96l-1.37-1.37c-.4-.4-.92-.59-1.43-.59-.52 0-1.04.2-1.43.59L10.3 9.45l-7.72 7.72c-.78.78-.78 2.05 0 2.83L4 21.41c.39.39.9.59 1.41.59.51 0 1.02-.2 1.41-.59l7.78-7.78 2.81-2.81c.8-.78.8-2.07 0-2.86zM5.41 20L4 18.59l7.72-7.72 1.47 1.35L5.41 20z\"/>\n",
              "  </svg>\n",
              "      </button>\n",
              "      \n",
              "  <style>\n",
              "    .colab-df-container {\n",
              "      display:flex;\n",
              "      flex-wrap:wrap;\n",
              "      gap: 12px;\n",
              "    }\n",
              "\n",
              "    .colab-df-convert {\n",
              "      background-color: #E8F0FE;\n",
              "      border: none;\n",
              "      border-radius: 50%;\n",
              "      cursor: pointer;\n",
              "      display: none;\n",
              "      fill: #1967D2;\n",
              "      height: 32px;\n",
              "      padding: 0 0 0 0;\n",
              "      width: 32px;\n",
              "    }\n",
              "\n",
              "    .colab-df-convert:hover {\n",
              "      background-color: #E2EBFA;\n",
              "      box-shadow: 0px 1px 2px rgba(60, 64, 67, 0.3), 0px 1px 3px 1px rgba(60, 64, 67, 0.15);\n",
              "      fill: #174EA6;\n",
              "    }\n",
              "\n",
              "    [theme=dark] .colab-df-convert {\n",
              "      background-color: #3B4455;\n",
              "      fill: #D2E3FC;\n",
              "    }\n",
              "\n",
              "    [theme=dark] .colab-df-convert:hover {\n",
              "      background-color: #434B5C;\n",
              "      box-shadow: 0px 1px 3px 1px rgba(0, 0, 0, 0.15);\n",
              "      filter: drop-shadow(0px 1px 2px rgba(0, 0, 0, 0.3));\n",
              "      fill: #FFFFFF;\n",
              "    }\n",
              "  </style>\n",
              "\n",
              "      <script>\n",
              "        const buttonEl =\n",
              "          document.querySelector('#df-3e5ccc7b-9956-4479-bb7e-21d018468887 button.colab-df-convert');\n",
              "        buttonEl.style.display =\n",
              "          google.colab.kernel.accessAllowed ? 'block' : 'none';\n",
              "\n",
              "        async function convertToInteractive(key) {\n",
              "          const element = document.querySelector('#df-3e5ccc7b-9956-4479-bb7e-21d018468887');\n",
              "          const dataTable =\n",
              "            await google.colab.kernel.invokeFunction('convertToInteractive',\n",
              "                                                     [key], {});\n",
              "          if (!dataTable) return;\n",
              "\n",
              "          const docLinkHtml = 'Like what you see? Visit the ' +\n",
              "            '<a target=\"_blank\" href=https://colab.research.google.com/notebooks/data_table.ipynb>data table notebook</a>'\n",
              "            + ' to learn more about interactive tables.';\n",
              "          element.innerHTML = '';\n",
              "          dataTable['output_type'] = 'display_data';\n",
              "          await google.colab.output.renderOutput(dataTable, element);\n",
              "          const docLink = document.createElement('div');\n",
              "          docLink.innerHTML = docLinkHtml;\n",
              "          element.appendChild(docLink);\n",
              "        }\n",
              "      </script>\n",
              "    </div>\n",
              "  </div>\n",
              "  "
            ]
          },
          "metadata": {},
          "execution_count": 78
        }
      ],
      "source": [
        "immo.describe()"
      ]
    },
    {
      "cell_type": "code",
      "execution_count": 66,
      "metadata": {
        "colab": {
          "base_uri": "https://localhost:8080/"
        },
        "id": "W5Ddmsi_tkfg",
        "outputId": "853a673b-2401-4d60-98ee-e98e9d5b03b5"
      },
      "outputs": [
        {
          "output_type": "execute_result",
          "data": {
            "text/plain": [
              "regio1                      0.000000\n",
              "serviceCharge               0.025698\n",
              "heatingType                 0.166844\n",
              "telekomTvOffer              0.121328\n",
              "telekomHybridUploadSpeed    0.832546\n",
              "newlyConst                  0.000000\n",
              "balcony                     0.000000\n",
              "picturecount                0.000000\n",
              "pricetrend                  0.006814\n",
              "telekomUploadSpeed          0.124077\n",
              "totalRent                   0.150705\n",
              "yearConstructed             0.212182\n",
              "scoutId                     0.000000\n",
              "noParkSpaces                0.653889\n",
              "firingTypes                 0.211880\n",
              "hasKitchen                  0.000000\n",
              "geo_bln                     0.000000\n",
              "cellar                      0.000000\n",
              "yearConstructedRange        0.212182\n",
              "baseRent                    0.000000\n",
              "houseNumber                 0.264155\n",
              "livingSpace                 0.000000\n",
              "geo_krs                     0.000000\n",
              "condition                   0.254748\n",
              "interiorQual                0.419063\n",
              "petsAllowed                 0.426160\n",
              "street                      0.000000\n",
              "streetPlain                 0.264136\n",
              "lift                        0.000000\n",
              "baseRentRange               0.000000\n",
              "typeOfFlat                  0.136187\n",
              "geo_plz                     0.000000\n",
              "noRooms                     0.000000\n",
              "thermalChar                 0.396154\n",
              "floor                       0.190846\n",
              "numberOfFloors              0.363519\n",
              "noRoomsRange                0.000000\n",
              "garden                      0.000000\n",
              "livingSpaceRange            0.000000\n",
              "regio2                      0.000000\n",
              "regio3                      0.000000\n",
              "description                 0.073450\n",
              "facilities                  0.196853\n",
              "heatingCosts                0.681912\n",
              "energyEfficiencyClass       0.710668\n",
              "lastRefurbish               0.699792\n",
              "electricityBasePrice        0.825754\n",
              "electricityKwhPrice         0.825754\n",
              "date                        0.000000\n",
              "dtype: float64"
            ]
          },
          "metadata": {},
          "execution_count": 66
        }
      ],
      "source": [
        "immo.isna().sum() / len(immo)"
      ]
    },
    {
      "cell_type": "code",
      "source": [
        "immo = immo.dropna(subset= [\"totalRent\"])\n",
        "immo.shape"
      ],
      "metadata": {
        "colab": {
          "base_uri": "https://localhost:8080/"
        },
        "id": "rP67euyPEveU",
        "outputId": "d3a62512-7a57-4d50-9999-9d91c6374af7"
      },
      "execution_count": 79,
      "outputs": [
        {
          "output_type": "execute_result",
          "data": {
            "text/plain": [
              "(228333, 49)"
            ]
          },
          "metadata": {},
          "execution_count": 79
        }
      ]
    },
    {
      "cell_type": "code",
      "execution_count": 80,
      "metadata": {
        "colab": {
          "base_uri": "https://localhost:8080/"
        },
        "id": "lprDcOQ5tkfg",
        "outputId": "df230e15-3edd-4f42-ee8a-43bc548fd98d"
      },
      "outputs": [
        {
          "output_type": "execute_result",
          "data": {
            "text/plain": [
              "Index(['regio1', 'serviceCharge', 'heatingType', 'telekomTvOffer',\n",
              "       'telekomHybridUploadSpeed', 'newlyConst', 'balcony', 'picturecount',\n",
              "       'pricetrend', 'telekomUploadSpeed', 'totalRent', 'yearConstructed',\n",
              "       'scoutId', 'noParkSpaces', 'firingTypes', 'hasKitchen', 'geo_bln',\n",
              "       'cellar', 'yearConstructedRange', 'baseRent', 'houseNumber',\n",
              "       'livingSpace', 'geo_krs', 'condition', 'interiorQual', 'petsAllowed',\n",
              "       'street', 'streetPlain', 'lift', 'baseRentRange', 'typeOfFlat',\n",
              "       'geo_plz', 'noRooms', 'thermalChar', 'floor', 'numberOfFloors',\n",
              "       'noRoomsRange', 'garden', 'livingSpaceRange', 'regio2', 'regio3',\n",
              "       'description', 'facilities', 'heatingCosts', 'energyEfficiencyClass',\n",
              "       'lastRefurbish', 'electricityBasePrice', 'electricityKwhPrice', 'date'],\n",
              "      dtype='object')"
            ]
          },
          "metadata": {},
          "execution_count": 80
        }
      ],
      "source": [
        "immo.columns"
      ]
    },
    {
      "cell_type": "code",
      "execution_count": null,
      "metadata": {
        "id": "RhuO1eostkfh",
        "outputId": "a3170a98-a0fe-4d54-a607-0e2ae42fcf58"
      },
      "outputs": [
        {
          "data": {
            "text/plain": [
              "central_heating                   128977\n",
              "district_heating                   24808\n",
              "gas_heating                        19955\n",
              "self_contained_central_heating     19087\n",
              "floor_heating                      17697\n",
              "oil_heating                         5042\n",
              "heat_pump                           2737\n",
              "combined_heat_and_power_plant       1978\n",
              "night_storage_heater                1341\n",
              "wood_pellet_heating                  961\n",
              "electric_heating                     901\n",
              "stove_heating                        344\n",
              "solar_heating                        166\n",
              "Name: heatingType, dtype: int64"
            ]
          },
          "execution_count": 151,
          "metadata": {},
          "output_type": "execute_result"
        }
      ],
      "source": [
        "immo[\"heatingType\"].value_counts()"
      ]
    },
    {
      "cell_type": "code",
      "execution_count": null,
      "metadata": {
        "id": "IkXVHO_itkfj",
        "outputId": "e014f115-c90b-4fd2-bba4-5b3f194e8e51"
      },
      "outputs": [
        {
          "data": {
            "text/plain": [
              "ONE_YEAR_FREE    227632\n",
              "NONE               4957\n",
              "ON_DEMAND          3642\n",
              "Name: telekomTvOffer, dtype: int64"
            ]
          },
          "execution_count": 152,
          "metadata": {},
          "output_type": "execute_result"
        }
      ],
      "source": [
        "\n",
        "immo[\"telekomTvOffer\"].value_counts()"
      ]
    },
    {
      "cell_type": "code",
      "execution_count": null,
      "metadata": {
        "id": "GqxurvZNtkfk",
        "outputId": "76fa8ec4-fdbb-4661-f615-b44047dc1616"
      },
      "outputs": [
        {
          "data": {
            "text/plain": [
              "well_kept                             66591\n",
              "refurbished                           26964\n",
              "fully_renovated                       26368\n",
              "first_time_use                        21959\n",
              "mint_condition                        21938\n",
              "modernized                            17226\n",
              "first_time_use_after_refurbishment    15699\n",
              "negotiable                             2240\n",
              "need_of_renovation                     1372\n",
              "ripe_for_demolition                       4\n",
              "Name: condition, dtype: int64"
            ]
          },
          "execution_count": 155,
          "metadata": {},
          "output_type": "execute_result"
        }
      ],
      "source": [
        "immo[\"condition\"].value_counts()"
      ]
    },
    {
      "cell_type": "code",
      "execution_count": null,
      "metadata": {
        "id": "jpoP39-Utkfl",
        "outputId": "08f005f4-ba62-44e3-bb09-8745a4c455c5"
      },
      "outputs": [
        {
          "data": {
            "text/plain": [
              "Nordrhein_Westfalen       62863\n",
              "Sachsen                   58154\n",
              "Bayern                    21609\n",
              "Sachsen_Anhalt            20124\n",
              "Hessen                    17845\n",
              "Niedersachsen             16593\n",
              "Baden_Württemberg         16091\n",
              "Berlin                    10406\n",
              "Thüringen                  8388\n",
              "Rheinland_Pfalz            8368\n",
              "Brandenburg                6954\n",
              "Schleswig_Holstein         6668\n",
              "Mecklenburg_Vorpommern     6634\n",
              "Hamburg                    3759\n",
              "Bremen                     2965\n",
              "Saarland                   1429\n",
              "Name: regio1, dtype: int64"
            ]
          },
          "execution_count": 181,
          "metadata": {},
          "output_type": "execute_result"
        }
      ],
      "source": [
        "immo[\"regio1\"].value_counts()"
      ]
    },
    {
      "cell_type": "code",
      "execution_count": 17,
      "metadata": {
        "colab": {
          "base_uri": "https://localhost:8080/"
        },
        "id": "X3daeMiUtkfl",
        "outputId": "1fd35f12-c327-44d0-9e81-5cfbfb6b82c5"
      },
      "outputs": [
        {
          "output_type": "execute_result",
          "data": {
            "text/plain": [
              "True     3079\n",
              "False    1953\n",
              "Name: balcony, dtype: int64"
            ]
          },
          "metadata": {},
          "execution_count": 17
        }
      ],
      "source": [
        "immo[\"balcony\"].value_counts()"
      ]
    },
    {
      "cell_type": "code",
      "execution_count": 81,
      "metadata": {
        "id": "JBci4wMstkfm"
      },
      "outputs": [],
      "source": [
        "num_cols = ['serviceCharge','picturecount','pricetrend','yearConstructed','noParkSpaces','baseRent','livingSpace','noRooms','thermalChar','numberOfFloors']\n",
        "cat_cols = ['regio1','heatingType','telekomTvOffer','firingTypes','condition','interiorQual','petsAllowed','typeOfFlat']\n",
        "binary_cols = ['newlyConst','balcony','hasKitchen','cellar','lift','garden']"
      ]
    },
    {
      "cell_type": "code",
      "execution_count": 82,
      "metadata": {
        "id": "cjvOEzUbtkfm"
      },
      "outputs": [],
      "source": [
        "immo[num_cols] = immo[num_cols].fillna(0)\n",
        "immo[cat_cols] = immo[cat_cols].fillna(\"unknown\")"
      ]
    },
    {
      "cell_type": "code",
      "source": [
        "cols = num_cols+cat_cols+binary_cols"
      ],
      "metadata": {
        "id": "QNEeKOM2vMT7"
      },
      "execution_count": 83,
      "outputs": []
    },
    {
      "cell_type": "code",
      "source": [
        "for col in binary_cols:\n",
        "  immo[col] = immo[col]*1"
      ],
      "metadata": {
        "id": "da82FotTFmqr"
      },
      "execution_count": 84,
      "outputs": []
    },
    {
      "cell_type": "code",
      "source": [
        "immo[binary_cols]"
      ],
      "metadata": {
        "colab": {
          "base_uri": "https://localhost:8080/",
          "height": 423
        },
        "id": "NZLBW8SyG1Hm",
        "outputId": "baba84bb-75da-4452-bc5d-1458e2a24e5b"
      },
      "execution_count": 85,
      "outputs": [
        {
          "output_type": "execute_result",
          "data": {
            "text/plain": [
              "        newlyConst  balcony  hasKitchen  cellar  lift  garden\n",
              "0                0        0           0       1     0       1\n",
              "2                1        1           0       1     1       0\n",
              "4                0        1           0       0     0       0\n",
              "6                0        0           0       1     0       1\n",
              "7                0        1           0       1     0       0\n",
              "...            ...      ...         ...     ...   ...     ...\n",
              "268844           0        0           0       0     0       0\n",
              "268845           0        1           0       1     0       0\n",
              "268846           0        1           1       0     0       0\n",
              "268847           0        1           0       1     0       1\n",
              "268848           1        1           0       1     1       0\n",
              "\n",
              "[228333 rows x 6 columns]"
            ],
            "text/html": [
              "\n",
              "  <div id=\"df-a6518785-c2a0-4b51-bb38-fb165e363592\">\n",
              "    <div class=\"colab-df-container\">\n",
              "      <div>\n",
              "<style scoped>\n",
              "    .dataframe tbody tr th:only-of-type {\n",
              "        vertical-align: middle;\n",
              "    }\n",
              "\n",
              "    .dataframe tbody tr th {\n",
              "        vertical-align: top;\n",
              "    }\n",
              "\n",
              "    .dataframe thead th {\n",
              "        text-align: right;\n",
              "    }\n",
              "</style>\n",
              "<table border=\"1\" class=\"dataframe\">\n",
              "  <thead>\n",
              "    <tr style=\"text-align: right;\">\n",
              "      <th></th>\n",
              "      <th>newlyConst</th>\n",
              "      <th>balcony</th>\n",
              "      <th>hasKitchen</th>\n",
              "      <th>cellar</th>\n",
              "      <th>lift</th>\n",
              "      <th>garden</th>\n",
              "    </tr>\n",
              "  </thead>\n",
              "  <tbody>\n",
              "    <tr>\n",
              "      <th>0</th>\n",
              "      <td>0</td>\n",
              "      <td>0</td>\n",
              "      <td>0</td>\n",
              "      <td>1</td>\n",
              "      <td>0</td>\n",
              "      <td>1</td>\n",
              "    </tr>\n",
              "    <tr>\n",
              "      <th>2</th>\n",
              "      <td>1</td>\n",
              "      <td>1</td>\n",
              "      <td>0</td>\n",
              "      <td>1</td>\n",
              "      <td>1</td>\n",
              "      <td>0</td>\n",
              "    </tr>\n",
              "    <tr>\n",
              "      <th>4</th>\n",
              "      <td>0</td>\n",
              "      <td>1</td>\n",
              "      <td>0</td>\n",
              "      <td>0</td>\n",
              "      <td>0</td>\n",
              "      <td>0</td>\n",
              "    </tr>\n",
              "    <tr>\n",
              "      <th>6</th>\n",
              "      <td>0</td>\n",
              "      <td>0</td>\n",
              "      <td>0</td>\n",
              "      <td>1</td>\n",
              "      <td>0</td>\n",
              "      <td>1</td>\n",
              "    </tr>\n",
              "    <tr>\n",
              "      <th>7</th>\n",
              "      <td>0</td>\n",
              "      <td>1</td>\n",
              "      <td>0</td>\n",
              "      <td>1</td>\n",
              "      <td>0</td>\n",
              "      <td>0</td>\n",
              "    </tr>\n",
              "    <tr>\n",
              "      <th>...</th>\n",
              "      <td>...</td>\n",
              "      <td>...</td>\n",
              "      <td>...</td>\n",
              "      <td>...</td>\n",
              "      <td>...</td>\n",
              "      <td>...</td>\n",
              "    </tr>\n",
              "    <tr>\n",
              "      <th>268844</th>\n",
              "      <td>0</td>\n",
              "      <td>0</td>\n",
              "      <td>0</td>\n",
              "      <td>0</td>\n",
              "      <td>0</td>\n",
              "      <td>0</td>\n",
              "    </tr>\n",
              "    <tr>\n",
              "      <th>268845</th>\n",
              "      <td>0</td>\n",
              "      <td>1</td>\n",
              "      <td>0</td>\n",
              "      <td>1</td>\n",
              "      <td>0</td>\n",
              "      <td>0</td>\n",
              "    </tr>\n",
              "    <tr>\n",
              "      <th>268846</th>\n",
              "      <td>0</td>\n",
              "      <td>1</td>\n",
              "      <td>1</td>\n",
              "      <td>0</td>\n",
              "      <td>0</td>\n",
              "      <td>0</td>\n",
              "    </tr>\n",
              "    <tr>\n",
              "      <th>268847</th>\n",
              "      <td>0</td>\n",
              "      <td>1</td>\n",
              "      <td>0</td>\n",
              "      <td>1</td>\n",
              "      <td>0</td>\n",
              "      <td>1</td>\n",
              "    </tr>\n",
              "    <tr>\n",
              "      <th>268848</th>\n",
              "      <td>1</td>\n",
              "      <td>1</td>\n",
              "      <td>0</td>\n",
              "      <td>1</td>\n",
              "      <td>1</td>\n",
              "      <td>0</td>\n",
              "    </tr>\n",
              "  </tbody>\n",
              "</table>\n",
              "<p>228333 rows × 6 columns</p>\n",
              "</div>\n",
              "      <button class=\"colab-df-convert\" onclick=\"convertToInteractive('df-a6518785-c2a0-4b51-bb38-fb165e363592')\"\n",
              "              title=\"Convert this dataframe to an interactive table.\"\n",
              "              style=\"display:none;\">\n",
              "        \n",
              "  <svg xmlns=\"http://www.w3.org/2000/svg\" height=\"24px\"viewBox=\"0 0 24 24\"\n",
              "       width=\"24px\">\n",
              "    <path d=\"M0 0h24v24H0V0z\" fill=\"none\"/>\n",
              "    <path d=\"M18.56 5.44l.94 2.06.94-2.06 2.06-.94-2.06-.94-.94-2.06-.94 2.06-2.06.94zm-11 1L8.5 8.5l.94-2.06 2.06-.94-2.06-.94L8.5 2.5l-.94 2.06-2.06.94zm10 10l.94 2.06.94-2.06 2.06-.94-2.06-.94-.94-2.06-.94 2.06-2.06.94z\"/><path d=\"M17.41 7.96l-1.37-1.37c-.4-.4-.92-.59-1.43-.59-.52 0-1.04.2-1.43.59L10.3 9.45l-7.72 7.72c-.78.78-.78 2.05 0 2.83L4 21.41c.39.39.9.59 1.41.59.51 0 1.02-.2 1.41-.59l7.78-7.78 2.81-2.81c.8-.78.8-2.07 0-2.86zM5.41 20L4 18.59l7.72-7.72 1.47 1.35L5.41 20z\"/>\n",
              "  </svg>\n",
              "      </button>\n",
              "      \n",
              "  <style>\n",
              "    .colab-df-container {\n",
              "      display:flex;\n",
              "      flex-wrap:wrap;\n",
              "      gap: 12px;\n",
              "    }\n",
              "\n",
              "    .colab-df-convert {\n",
              "      background-color: #E8F0FE;\n",
              "      border: none;\n",
              "      border-radius: 50%;\n",
              "      cursor: pointer;\n",
              "      display: none;\n",
              "      fill: #1967D2;\n",
              "      height: 32px;\n",
              "      padding: 0 0 0 0;\n",
              "      width: 32px;\n",
              "    }\n",
              "\n",
              "    .colab-df-convert:hover {\n",
              "      background-color: #E2EBFA;\n",
              "      box-shadow: 0px 1px 2px rgba(60, 64, 67, 0.3), 0px 1px 3px 1px rgba(60, 64, 67, 0.15);\n",
              "      fill: #174EA6;\n",
              "    }\n",
              "\n",
              "    [theme=dark] .colab-df-convert {\n",
              "      background-color: #3B4455;\n",
              "      fill: #D2E3FC;\n",
              "    }\n",
              "\n",
              "    [theme=dark] .colab-df-convert:hover {\n",
              "      background-color: #434B5C;\n",
              "      box-shadow: 0px 1px 3px 1px rgba(0, 0, 0, 0.15);\n",
              "      filter: drop-shadow(0px 1px 2px rgba(0, 0, 0, 0.3));\n",
              "      fill: #FFFFFF;\n",
              "    }\n",
              "  </style>\n",
              "\n",
              "      <script>\n",
              "        const buttonEl =\n",
              "          document.querySelector('#df-a6518785-c2a0-4b51-bb38-fb165e363592 button.colab-df-convert');\n",
              "        buttonEl.style.display =\n",
              "          google.colab.kernel.accessAllowed ? 'block' : 'none';\n",
              "\n",
              "        async function convertToInteractive(key) {\n",
              "          const element = document.querySelector('#df-a6518785-c2a0-4b51-bb38-fb165e363592');\n",
              "          const dataTable =\n",
              "            await google.colab.kernel.invokeFunction('convertToInteractive',\n",
              "                                                     [key], {});\n",
              "          if (!dataTable) return;\n",
              "\n",
              "          const docLinkHtml = 'Like what you see? Visit the ' +\n",
              "            '<a target=\"_blank\" href=https://colab.research.google.com/notebooks/data_table.ipynb>data table notebook</a>'\n",
              "            + ' to learn more about interactive tables.';\n",
              "          element.innerHTML = '';\n",
              "          dataTable['output_type'] = 'display_data';\n",
              "          await google.colab.output.renderOutput(dataTable, element);\n",
              "          const docLink = document.createElement('div');\n",
              "          docLink.innerHTML = docLinkHtml;\n",
              "          element.appendChild(docLink);\n",
              "        }\n",
              "      </script>\n",
              "    </div>\n",
              "  </div>\n",
              "  "
            ]
          },
          "metadata": {},
          "execution_count": 85
        }
      ]
    },
    {
      "cell_type": "code",
      "execution_count": 86,
      "metadata": {
        "id": "VapTQ5Rwtkfn"
      },
      "outputs": [],
      "source": [
        "x = immo[cols]\n",
        "y= immo['totalRent']"
      ]
    },
    {
      "cell_type": "code",
      "source": [
        "x.columns"
      ],
      "metadata": {
        "colab": {
          "base_uri": "https://localhost:8080/"
        },
        "id": "WXfbt2TSIoiE",
        "outputId": "a603708a-28b9-4f33-92ce-189b59f38942"
      },
      "execution_count": 87,
      "outputs": [
        {
          "output_type": "execute_result",
          "data": {
            "text/plain": [
              "Index(['serviceCharge', 'picturecount', 'pricetrend', 'yearConstructed',\n",
              "       'noParkSpaces', 'baseRent', 'livingSpace', 'noRooms', 'thermalChar',\n",
              "       'numberOfFloors', 'regio1', 'heatingType', 'telekomTvOffer',\n",
              "       'firingTypes', 'condition', 'interiorQual', 'petsAllowed', 'typeOfFlat',\n",
              "       'newlyConst', 'balcony', 'hasKitchen', 'cellar', 'lift', 'garden'],\n",
              "      dtype='object')"
            ]
          },
          "metadata": {},
          "execution_count": 87
        }
      ]
    },
    {
      "cell_type": "code",
      "source": [
        "# encode categorical variables\n",
        "oh = OneHotEncoder(sparse=False)\n",
        "xoh = oh.fit_transform(x[cat_cols])\n",
        "xoh = pd.DataFrame(xoh,columns = oh.get_feature_names_out())"
      ],
      "metadata": {
        "id": "_E_BlASC4TBe"
      },
      "execution_count": 88,
      "outputs": []
    },
    {
      "cell_type": "code",
      "source": [
        "#x = pd.concat([xoh, immo[num_cols+binary_cols]],axis=1)"
      ],
      "metadata": {
        "id": "MBmCKjhN5jWb"
      },
      "execution_count": 92,
      "outputs": []
    },
    {
      "cell_type": "code",
      "source": [
        "#x.shape"
      ],
      "metadata": {
        "colab": {
          "base_uri": "https://localhost:8080/"
        },
        "id": "gm50uIVz6aCN",
        "outputId": "47e4a813-ae71-4bc6-d2ae-b5459109b6a9"
      },
      "execution_count": 93,
      "outputs": [
        {
          "output_type": "execute_result",
          "data": {
            "text/plain": [
              "(262560, 201)"
            ]
          },
          "metadata": {},
          "execution_count": 93
        }
      ]
    },
    {
      "cell_type": "code",
      "source": [
        "x = pd.merge(xoh.reset_index(drop=True),immo[num_cols+binary_cols].reset_index(drop=True), left_index=True, right_index=True)"
      ],
      "metadata": {
        "id": "Y_6zBz6lJZMU"
      },
      "execution_count": 94,
      "outputs": []
    },
    {
      "cell_type": "code",
      "source": [
        "x.shape"
      ],
      "metadata": {
        "colab": {
          "base_uri": "https://localhost:8080/"
        },
        "id": "21EZ_PGmOGfQ",
        "outputId": "2da91bbf-a498-4aea-f142-5ead3d5f1771"
      },
      "execution_count": 95,
      "outputs": [
        {
          "output_type": "execute_result",
          "data": {
            "text/plain": [
              "(228333, 201)"
            ]
          },
          "metadata": {},
          "execution_count": 95
        }
      ]
    },
    {
      "cell_type": "code",
      "source": [
        "x_train,x_test,y_train,y_test= train_test_split(x,y, train_size=0.8, random_state=123)"
      ],
      "metadata": {
        "id": "nxrrIAIc7EO-"
      },
      "execution_count": 96,
      "outputs": []
    },
    {
      "cell_type": "code",
      "execution_count": 97,
      "metadata": {
        "id": "wkhR0LK8tkfn"
      },
      "outputs": [],
      "source": [
        "column_transformer = make_column_transformer(\n",
        "    #(OneHotEncoder(sparse=False), cat_cols),\n",
        "    (StandardScaler(), num_cols),\n",
        "    remainder='passthrough')\n",
        "\n",
        "X_train = column_transformer.fit_transform(x_train)\n"
      ]
    },
    {
      "cell_type": "code",
      "source": [
        "X_train.shape"
      ],
      "metadata": {
        "colab": {
          "base_uri": "https://localhost:8080/"
        },
        "id": "xTS7cQbHuJFY",
        "outputId": "f085ccac-fde0-43a5-8802-aa8840136516"
      },
      "execution_count": 98,
      "outputs": [
        {
          "output_type": "execute_result",
          "data": {
            "text/plain": [
              "(182666, 201)"
            ]
          },
          "metadata": {},
          "execution_count": 98
        }
      ]
    },
    {
      "cell_type": "code",
      "source": [
        "#from github\n",
        "from sklearn.pipeline import Pipeline\n",
        "\n",
        "def get_column_names_from_ColumnTransformer(column_transformer):    \n",
        "    col_name = []\n",
        "    for transformer_in_columns in column_transformer.transformers_[:-1]:#the last transformer is ColumnTransformer's 'remainder'\n",
        "        raw_col_name = transformer_in_columns[2]\n",
        "        if isinstance(transformer_in_columns[1],Pipeline): \n",
        "            transformer = transformer_in_columns[1].steps[-1][1]\n",
        "        else:\n",
        "            transformer = transformer_in_columns[1]\n",
        "        try:\n",
        "            names = transformer.get_feature_names_out()\n",
        "        except AttributeError: # if no 'get_feature_names' function, use raw column name\n",
        "            names = raw_col_name\n",
        "        if isinstance(names,np.ndarray): # eg.\n",
        "            col_name += names.tolist()\n",
        "        elif isinstance(names,list):\n",
        "            col_name += names    \n",
        "        elif isinstance(names,str):\n",
        "            col_name.append(names)\n",
        "    return col_name\n",
        "  "
      ],
      "metadata": {
        "id": "NUMgEmijvyW8"
      },
      "execution_count": 99,
      "outputs": []
    },
    {
      "cell_type": "code",
      "source": [
        "x_train = pd.DataFrame(data=X_train, columns=get_column_names_from_ColumnTransformer(column_transformer)+list(xoh.columns)+binary_cols)"
      ],
      "metadata": {
        "id": "yE9_PuZBzQu-"
      },
      "execution_count": 100,
      "outputs": []
    },
    {
      "cell_type": "code",
      "source": [
        "x_test = column_transformer.fit_transform(x_test)\n",
        "x_test = pd.DataFrame(data=x_test, columns=get_column_names_from_ColumnTransformer(column_transformer)+list(xoh.columns)+binary_cols)"
      ],
      "metadata": {
        "id": "Ob61t8sn09ZN"
      },
      "execution_count": 101,
      "outputs": []
    },
    {
      "cell_type": "code",
      "source": [
        "x_test.shape"
      ],
      "metadata": {
        "colab": {
          "base_uri": "https://localhost:8080/"
        },
        "id": "s5DxHJ_v29Ra",
        "outputId": "8c3e190d-6762-4bc8-90f6-3cc5d7ce8e22"
      },
      "execution_count": 102,
      "outputs": [
        {
          "output_type": "execute_result",
          "data": {
            "text/plain": [
              "(45667, 201)"
            ]
          },
          "metadata": {},
          "execution_count": 102
        }
      ]
    },
    {
      "cell_type": "code",
      "source": [
        "y_pred = knn_regession(x_train,x_test,5,\"euclidean\")\n",
        "plt.scatter(y_test,y_pred,alpha=0.3)\n",
        "plt.show()"
      ],
      "metadata": {
        "id": "HAvvOLTo2rmr"
      },
      "execution_count": null,
      "outputs": []
    },
    {
      "cell_type": "code",
      "source": [
        ""
      ],
      "metadata": {
        "id": "zn4wXQE9HdXK"
      },
      "execution_count": null,
      "outputs": []
    },
    {
      "cell_type": "code",
      "source": [
        "knn = KNeighborsRegressor(n_neighbors=5, metric=\"euclidean\")\n",
        "knn_model = knn.fit(x_train,y_train)\n",
        "knn_prediction = knn_model.predict(x_test)\n",
        "\n",
        "plt.scatter(y_test,knn_prediction,alpha=0.3)\n",
        "plt.show()"
      ],
      "metadata": {
        "colab": {
          "base_uri": "https://localhost:8080/",
          "height": 278
        },
        "id": "EArybt33Cmy2",
        "outputId": "92e7b6d7-bcc4-491f-b3c0-c0621e7a5762"
      },
      "execution_count": 103,
      "outputs": [
        {
          "output_type": "display_data",
          "data": {
            "text/plain": [
              "<Figure size 432x288 with 1 Axes>"
            ],
            "image/png": "[encoded data removed]"
          },
          "metadata": {
            "needs_background": "light"
          }
        }
      ]
    },
    {
      "cell_type": "code",
      "source": [
        ""
      ],
      "metadata": {
        "id": "_STA87NKCytU"
      },
      "execution_count": null,
      "outputs": []
    },
    {
      "cell_type": "code",
      "source": [
        ""
      ],
      "metadata": {
        "id": "rCXWtHGmCyqK"
      },
      "execution_count": null,
      "outputs": []
    },
    {
      "cell_type": "code",
      "source": [
        ""
      ],
      "metadata": {
        "id": "FTEXzoX8CyoW"
      },
      "execution_count": null,
      "outputs": []
    },
    {
      "cell_type": "code",
      "source": [
        ""
      ],
      "metadata": {
        "id": "AbNcVqsDCylv"
      },
      "execution_count": null,
      "outputs": []
    },
    {
      "cell_type": "code",
      "source": [
        ""
      ],
      "metadata": {
        "id": "aO_MWp9aCyj2"
      },
      "execution_count": null,
      "outputs": []
    },
    {
      "cell_type": "code",
      "source": [
        ""
      ],
      "metadata": {
        "id": "qDuIpFSICyfd"
      },
      "execution_count": null,
      "outputs": []
    }
  ],
  "metadata": {
    "interpreter": {
      "hash": "9ff6981a40a25e7d7f81b038f49390a155b5506515243c0fd67dd5026b82895d"
    },
    "kernelspec": {
      "display_name": "Python 3.7.11 ('env_py')",
      "language": "python",
      "name": "python3"
    },
    "language_info": {
      "codemirror_mode": {
        "name": "ipython",
        "version": 3
      },
      "file_extension": ".py",
      "mimetype": "text/x-python",
      "name": "python",
      "nbconvert_exporter": "python",
      "pygments_lexer": "ipython3",
      "version": "3.7.11"
    },
    "orig_nbformat": 4,
    "colab": {
      "name": "KNN.ipynb",
      "provenance": []
    }
  },
  "nbformat": 4,
  "nbformat_minor": 0
}