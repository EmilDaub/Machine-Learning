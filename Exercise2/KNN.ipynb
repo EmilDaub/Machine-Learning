{
  "cells": [
    {
      "cell_type": "markdown",
      "metadata": {
        "id": "7jazXNdYtke-"
      },
      "source": [
        "# Exercise 2 - KNN"
      ]
    },
    {
      "cell_type": "code",
      "execution_count": 2,
      "metadata": {
        "id": "ypP4GIUVtkfD"
      },
      "outputs": [],
      "source": [
        "import pandas as pd\n",
        "import numpy as np\n",
        "from sklearn.utils import shuffle\n",
        "from sklearn.model_selection import train_test_split\n",
        "from scipy.spatial import distance\n",
        "from sklearn.preprocessing import StandardScaler\n",
        "\n",
        "from sklearn.metrics import mean_squared_error\n",
        "from sklearn.metrics import mean_absolute_error\n",
        "\n",
        "import matplotlib.pyplot  as plt\n",
        "from sklearn.neighbors import KNeighborsRegressor\n",
        "\n",
        "#from sklearn.preprocessing import OneHotEncoder\n",
        "from sklearn.compose import make_column_transformer\n",
        "from sklearn.model_selection import KFold\n"
      ]
    },
    {
      "cell_type": "markdown",
      "metadata": {
        "id": "Yzu6PSAJtkfF"
      },
      "source": [
        "## Parkinson data"
      ]
    },
    {
      "cell_type": "code",
      "execution_count": 26,
      "metadata": {
        "colab": {
          "base_uri": "https://localhost:8080/",
          "height": 299
        },
        "id": "yhMGKRIPtkfG",
        "outputId": "74c13a94-5752-4fc7-b972-5fbfbd08b04b"
      },
      "outputs": [
        {
          "output_type": "execute_result",
          "data": {
            "text/plain": [
              "   subject#  age  sex  test_time  motor_UPDRS  total_UPDRS  Jitter(%)  \\\n",
              "0         1   72    0     5.6431       28.199       34.398    0.00662   \n",
              "1         1   72    0    12.6660       28.447       34.894    0.00300   \n",
              "2         1   72    0    19.6810       28.695       35.389    0.00481   \n",
              "3         1   72    0    25.6470       28.905       35.810    0.00528   \n",
              "4         1   72    0    33.6420       29.187       36.375    0.00335   \n",
              "\n",
              "   Jitter(Abs)  Jitter:RAP  Jitter:PPQ5  ...  Shimmer(dB)  Shimmer:APQ3  \\\n",
              "0     0.000034     0.00401      0.00317  ...        0.230       0.01438   \n",
              "1     0.000017     0.00132      0.00150  ...        0.179       0.00994   \n",
              "2     0.000025     0.00205      0.00208  ...        0.181       0.00734   \n",
              "3     0.000027     0.00191      0.00264  ...        0.327       0.01106   \n",
              "4     0.000020     0.00093      0.00130  ...        0.176       0.00679   \n",
              "\n",
              "   Shimmer:APQ5  Shimmer:APQ11  Shimmer:DDA       NHR     HNR     RPDE  \\\n",
              "0       0.01309        0.01662      0.04314  0.014290  21.640  0.41888   \n",
              "1       0.01072        0.01689      0.02982  0.011112  27.183  0.43493   \n",
              "2       0.00844        0.01458      0.02202  0.020220  23.047  0.46222   \n",
              "3       0.01265        0.01963      0.03317  0.027837  24.445  0.48730   \n",
              "4       0.00929        0.01819      0.02036  0.011625  26.126  0.47188   \n",
              "\n",
              "       DFA      PPE  \n",
              "0  0.54842  0.16006  \n",
              "1  0.56477  0.10810  \n",
              "2  0.54405  0.21014  \n",
              "3  0.57794  0.33277  \n",
              "4  0.56122  0.19361  \n",
              "\n",
              "[5 rows x 22 columns]"
            ],
            "text/html": [
              "\n",
              "  <div id=\"df-629aa537-2dfb-4b8f-a8e9-2bb0b7ac808c\">\n",
              "    <div class=\"colab-df-container\">\n",
              "      <div>\n",
              "<style scoped>\n",
              "    .dataframe tbody tr th:only-of-type {\n",
              "        vertical-align: middle;\n",
              "    }\n",
              "\n",
              "    .dataframe tbody tr th {\n",
              "        vertical-align: top;\n",
              "    }\n",
              "\n",
              "    .dataframe thead th {\n",
              "        text-align: right;\n",
              "    }\n",
              "</style>\n",
              "<table border=\"1\" class=\"dataframe\">\n",
              "  <thead>\n",
              "    <tr style=\"text-align: right;\">\n",
              "      <th></th>\n",
              "      <th>subject#</th>\n",
              "      <th>age</th>\n",
              "      <th>sex</th>\n",
              "      <th>test_time</th>\n",
              "      <th>motor_UPDRS</th>\n",
              "      <th>total_UPDRS</th>\n",
              "      <th>Jitter(%)</th>\n",
              "      <th>Jitter(Abs)</th>\n",
              "      <th>Jitter:RAP</th>\n",
              "      <th>Jitter:PPQ5</th>\n",
              "      <th>...</th>\n",
              "      <th>Shimmer(dB)</th>\n",
              "      <th>Shimmer:APQ3</th>\n",
              "      <th>Shimmer:APQ5</th>\n",
              "      <th>Shimmer:APQ11</th>\n",
              "      <th>Shimmer:DDA</th>\n",
              "      <th>NHR</th>\n",
              "      <th>HNR</th>\n",
              "      <th>RPDE</th>\n",
              "      <th>DFA</th>\n",
              "      <th>PPE</th>\n",
              "    </tr>\n",
              "  </thead>\n",
              "  <tbody>\n",
              "    <tr>\n",
              "      <th>0</th>\n",
              "      <td>1</td>\n",
              "      <td>72</td>\n",
              "      <td>0</td>\n",
              "      <td>5.6431</td>\n",
              "      <td>28.199</td>\n",
              "      <td>34.398</td>\n",
              "      <td>0.00662</td>\n",
              "      <td>0.000034</td>\n",
              "      <td>0.00401</td>\n",
              "      <td>0.00317</td>\n",
              "      <td>...</td>\n",
              "      <td>0.230</td>\n",
              "      <td>0.01438</td>\n",
              "      <td>0.01309</td>\n",
              "      <td>0.01662</td>\n",
              "      <td>0.04314</td>\n",
              "      <td>0.014290</td>\n",
              "      <td>21.640</td>\n",
              "      <td>0.41888</td>\n",
              "      <td>0.54842</td>\n",
              "      <td>0.16006</td>\n",
              "    </tr>\n",
              "    <tr>\n",
              "      <th>1</th>\n",
              "      <td>1</td>\n",
              "      <td>72</td>\n",
              "      <td>0</td>\n",
              "      <td>12.6660</td>\n",
              "      <td>28.447</td>\n",
              "      <td>34.894</td>\n",
              "      <td>0.00300</td>\n",
              "      <td>0.000017</td>\n",
              "      <td>0.00132</td>\n",
              "      <td>0.00150</td>\n",
              "      <td>...</td>\n",
              "      <td>0.179</td>\n",
              "      <td>0.00994</td>\n",
              "      <td>0.01072</td>\n",
              "      <td>0.01689</td>\n",
              "      <td>0.02982</td>\n",
              "      <td>0.011112</td>\n",
              "      <td>27.183</td>\n",
              "      <td>0.43493</td>\n",
              "      <td>0.56477</td>\n",
              "      <td>0.10810</td>\n",
              "    </tr>\n",
              "    <tr>\n",
              "      <th>2</th>\n",
              "      <td>1</td>\n",
              "      <td>72</td>\n",
              "      <td>0</td>\n",
              "      <td>19.6810</td>\n",
              "      <td>28.695</td>\n",
              "      <td>35.389</td>\n",
              "      <td>0.00481</td>\n",
              "      <td>0.000025</td>\n",
              "      <td>0.00205</td>\n",
              "      <td>0.00208</td>\n",
              "      <td>...</td>\n",
              "      <td>0.181</td>\n",
              "      <td>0.00734</td>\n",
              "      <td>0.00844</td>\n",
              "      <td>0.01458</td>\n",
              "      <td>0.02202</td>\n",
              "      <td>0.020220</td>\n",
              "      <td>23.047</td>\n",
              "      <td>0.46222</td>\n",
              "      <td>0.54405</td>\n",
              "      <td>0.21014</td>\n",
              "    </tr>\n",
              "    <tr>\n",
              "      <th>3</th>\n",
              "      <td>1</td>\n",
              "      <td>72</td>\n",
              "      <td>0</td>\n",
              "      <td>25.6470</td>\n",
              "      <td>28.905</td>\n",
              "      <td>35.810</td>\n",
              "      <td>0.00528</td>\n",
              "      <td>0.000027</td>\n",
              "      <td>0.00191</td>\n",
              "      <td>0.00264</td>\n",
              "      <td>...</td>\n",
              "      <td>0.327</td>\n",
              "      <td>0.01106</td>\n",
              "      <td>0.01265</td>\n",
              "      <td>0.01963</td>\n",
              "      <td>0.03317</td>\n",
              "      <td>0.027837</td>\n",
              "      <td>24.445</td>\n",
              "      <td>0.48730</td>\n",
              "      <td>0.57794</td>\n",
              "      <td>0.33277</td>\n",
              "    </tr>\n",
              "    <tr>\n",
              "      <th>4</th>\n",
              "      <td>1</td>\n",
              "      <td>72</td>\n",
              "      <td>0</td>\n",
              "      <td>33.6420</td>\n",
              "      <td>29.187</td>\n",
              "      <td>36.375</td>\n",
              "      <td>0.00335</td>\n",
              "      <td>0.000020</td>\n",
              "      <td>0.00093</td>\n",
              "      <td>0.00130</td>\n",
              "      <td>...</td>\n",
              "      <td>0.176</td>\n",
              "      <td>0.00679</td>\n",
              "      <td>0.00929</td>\n",
              "      <td>0.01819</td>\n",
              "      <td>0.02036</td>\n",
              "      <td>0.011625</td>\n",
              "      <td>26.126</td>\n",
              "      <td>0.47188</td>\n",
              "      <td>0.56122</td>\n",
              "      <td>0.19361</td>\n",
              "    </tr>\n",
              "  </tbody>\n",
              "</table>\n",
              "<p>5 rows × 22 columns</p>\n",
              "</div>\n",
              "      <button class=\"colab-df-convert\" onclick=\"convertToInteractive('df-629aa537-2dfb-4b8f-a8e9-2bb0b7ac808c')\"\n",
              "              title=\"Convert this dataframe to an interactive table.\"\n",
              "              style=\"display:none;\">\n",
              "        \n",
              "  <svg xmlns=\"http://www.w3.org/2000/svg\" height=\"24px\"viewBox=\"0 0 24 24\"\n",
              "       width=\"24px\">\n",
              "    <path d=\"M0 0h24v24H0V0z\" fill=\"none\"/>\n",
              "    <path d=\"M18.56 5.44l.94 2.06.94-2.06 2.06-.94-2.06-.94-.94-2.06-.94 2.06-2.06.94zm-11 1L8.5 8.5l.94-2.06 2.06-.94-2.06-.94L8.5 2.5l-.94 2.06-2.06.94zm10 10l.94 2.06.94-2.06 2.06-.94-2.06-.94-.94-2.06-.94 2.06-2.06.94z\"/><path d=\"M17.41 7.96l-1.37-1.37c-.4-.4-.92-.59-1.43-.59-.52 0-1.04.2-1.43.59L10.3 9.45l-7.72 7.72c-.78.78-.78 2.05 0 2.83L4 21.41c.39.39.9.59 1.41.59.51 0 1.02-.2 1.41-.59l7.78-7.78 2.81-2.81c.8-.78.8-2.07 0-2.86zM5.41 20L4 18.59l7.72-7.72 1.47 1.35L5.41 20z\"/>\n",
              "  </svg>\n",
              "      </button>\n",
              "      \n",
              "  <style>\n",
              "    .colab-df-container {\n",
              "      display:flex;\n",
              "      flex-wrap:wrap;\n",
              "      gap: 12px;\n",
              "    }\n",
              "\n",
              "    .colab-df-convert {\n",
              "      background-color: #E8F0FE;\n",
              "      border: none;\n",
              "      border-radius: 50%;\n",
              "      cursor: pointer;\n",
              "      display: none;\n",
              "      fill: #1967D2;\n",
              "      height: 32px;\n",
              "      padding: 0 0 0 0;\n",
              "      width: 32px;\n",
              "    }\n",
              "\n",
              "    .colab-df-convert:hover {\n",
              "      background-color: #E2EBFA;\n",
              "      box-shadow: 0px 1px 2px rgba(60, 64, 67, 0.3), 0px 1px 3px 1px rgba(60, 64, 67, 0.15);\n",
              "      fill: #174EA6;\n",
              "    }\n",
              "\n",
              "    [theme=dark] .colab-df-convert {\n",
              "      background-color: #3B4455;\n",
              "      fill: #D2E3FC;\n",
              "    }\n",
              "\n",
              "    [theme=dark] .colab-df-convert:hover {\n",
              "      background-color: #434B5C;\n",
              "      box-shadow: 0px 1px 3px 1px rgba(0, 0, 0, 0.15);\n",
              "      filter: drop-shadow(0px 1px 2px rgba(0, 0, 0, 0.3));\n",
              "      fill: #FFFFFF;\n",
              "    }\n",
              "  </style>\n",
              "\n",
              "      <script>\n",
              "        const buttonEl =\n",
              "          document.querySelector('#df-629aa537-2dfb-4b8f-a8e9-2bb0b7ac808c button.colab-df-convert');\n",
              "        buttonEl.style.display =\n",
              "          google.colab.kernel.accessAllowed ? 'block' : 'none';\n",
              "\n",
              "        async function convertToInteractive(key) {\n",
              "          const element = document.querySelector('#df-629aa537-2dfb-4b8f-a8e9-2bb0b7ac808c');\n",
              "          const dataTable =\n",
              "            await google.colab.kernel.invokeFunction('convertToInteractive',\n",
              "                                                     [key], {});\n",
              "          if (!dataTable) return;\n",
              "\n",
              "          const docLinkHtml = 'Like what you see? Visit the ' +\n",
              "            '<a target=\"_blank\" href=https://colab.research.google.com/notebooks/data_table.ipynb>data table notebook</a>'\n",
              "            + ' to learn more about interactive tables.';\n",
              "          element.innerHTML = '';\n",
              "          dataTable['output_type'] = 'display_data';\n",
              "          await google.colab.output.renderOutput(dataTable, element);\n",
              "          const docLink = document.createElement('div');\n",
              "          docLink.innerHTML = docLinkHtml;\n",
              "          element.appendChild(docLink);\n",
              "        }\n",
              "      </script>\n",
              "    </div>\n",
              "  </div>\n",
              "  "
            ]
          },
          "metadata": {},
          "execution_count": 26
        }
      ],
      "source": [
        "parkinson_path = 'parkinsons_updrs.data'\n",
        "parkinsons  = pd.read_csv(parkinson_path)\n",
        "\n",
        "parkinsons.head()"
      ]
    },
    {
      "cell_type": "code",
      "execution_count": null,
      "metadata": {
        "colab": {
          "base_uri": "https://localhost:8080/"
        },
        "id": "bLzxsblILq0f",
        "outputId": "f7e8eeec-4031-4163-984c-145acccb4535"
      },
      "outputs": [
        {
          "data": {
            "text/plain": [
              "(5875, 22)"
            ]
          },
          "execution_count": 119,
          "metadata": {},
          "output_type": "execute_result"
        }
      ],
      "source": [
        "parkinsons.shape"
      ]
    },
    {
      "cell_type": "code",
      "execution_count": null,
      "metadata": {
        "colab": {
          "base_uri": "https://localhost:8080/",
          "height": 393
        },
        "id": "1UuMGlfxtkfI",
        "outputId": "ebb7517e-3dbe-4317-9a08-5734afbaf6a1"
      },
      "outputs": [
        {
          "data": {
            "text/html": [
              "\n",
              "  <div id=\"df-22be2aa0-23d8-4ec7-86c7-84ffc410681a\">\n",
              "    <div class=\"colab-df-container\">\n",
              "      <div>\n",
              "<style scoped>\n",
              "    .dataframe tbody tr th:only-of-type {\n",
              "        vertical-align: middle;\n",
              "    }\n",
              "\n",
              "    .dataframe tbody tr th {\n",
              "        vertical-align: top;\n",
              "    }\n",
              "\n",
              "    .dataframe thead th {\n",
              "        text-align: right;\n",
              "    }\n",
              "</style>\n",
              "<table border=\"1\" class=\"dataframe\">\n",
              "  <thead>\n",
              "    <tr style=\"text-align: right;\">\n",
              "      <th></th>\n",
              "      <th>subject#</th>\n",
              "      <th>age</th>\n",
              "      <th>sex</th>\n",
              "      <th>test_time</th>\n",
              "      <th>motor_UPDRS</th>\n",
              "      <th>total_UPDRS</th>\n",
              "      <th>Jitter(%)</th>\n",
              "      <th>Jitter(Abs)</th>\n",
              "      <th>Jitter:RAP</th>\n",
              "      <th>Jitter:PPQ5</th>\n",
              "      <th>...</th>\n",
              "      <th>Shimmer(dB)</th>\n",
              "      <th>Shimmer:APQ3</th>\n",
              "      <th>Shimmer:APQ5</th>\n",
              "      <th>Shimmer:APQ11</th>\n",
              "      <th>Shimmer:DDA</th>\n",
              "      <th>NHR</th>\n",
              "      <th>HNR</th>\n",
              "      <th>RPDE</th>\n",
              "      <th>DFA</th>\n",
              "      <th>PPE</th>\n",
              "    </tr>\n",
              "  </thead>\n",
              "  <tbody>\n",
              "    <tr>\n",
              "      <th>count</th>\n",
              "      <td>5875.000000</td>\n",
              "      <td>5875.000000</td>\n",
              "      <td>5875.000000</td>\n",
              "      <td>5875.000000</td>\n",
              "      <td>5875.000000</td>\n",
              "      <td>5875.000000</td>\n",
              "      <td>5875.000000</td>\n",
              "      <td>5875.000000</td>\n",
              "      <td>5875.000000</td>\n",
              "      <td>5875.000000</td>\n",
              "      <td>...</td>\n",
              "      <td>5875.000000</td>\n",
              "      <td>5875.000000</td>\n",
              "      <td>5875.000000</td>\n",
              "      <td>5875.000000</td>\n",
              "      <td>5875.000000</td>\n",
              "      <td>5875.000000</td>\n",
              "      <td>5875.000000</td>\n",
              "      <td>5875.000000</td>\n",
              "      <td>5875.000000</td>\n",
              "      <td>5875.000000</td>\n",
              "    </tr>\n",
              "    <tr>\n",
              "      <th>mean</th>\n",
              "      <td>21.494128</td>\n",
              "      <td>64.804936</td>\n",
              "      <td>0.317787</td>\n",
              "      <td>92.863722</td>\n",
              "      <td>21.296229</td>\n",
              "      <td>29.018942</td>\n",
              "      <td>0.006154</td>\n",
              "      <td>0.000044</td>\n",
              "      <td>0.002987</td>\n",
              "      <td>0.003277</td>\n",
              "      <td>...</td>\n",
              "      <td>0.310960</td>\n",
              "      <td>0.017156</td>\n",
              "      <td>0.020144</td>\n",
              "      <td>0.027481</td>\n",
              "      <td>0.051467</td>\n",
              "      <td>0.032120</td>\n",
              "      <td>21.679495</td>\n",
              "      <td>0.541473</td>\n",
              "      <td>0.653240</td>\n",
              "      <td>0.219589</td>\n",
              "    </tr>\n",
              "    <tr>\n",
              "      <th>std</th>\n",
              "      <td>12.372279</td>\n",
              "      <td>8.821524</td>\n",
              "      <td>0.465656</td>\n",
              "      <td>53.445602</td>\n",
              "      <td>8.129282</td>\n",
              "      <td>10.700283</td>\n",
              "      <td>0.005624</td>\n",
              "      <td>0.000036</td>\n",
              "      <td>0.003124</td>\n",
              "      <td>0.003732</td>\n",
              "      <td>...</td>\n",
              "      <td>0.230254</td>\n",
              "      <td>0.013237</td>\n",
              "      <td>0.016664</td>\n",
              "      <td>0.019986</td>\n",
              "      <td>0.039711</td>\n",
              "      <td>0.059692</td>\n",
              "      <td>4.291096</td>\n",
              "      <td>0.100986</td>\n",
              "      <td>0.070902</td>\n",
              "      <td>0.091498</td>\n",
              "    </tr>\n",
              "    <tr>\n",
              "      <th>min</th>\n",
              "      <td>1.000000</td>\n",
              "      <td>36.000000</td>\n",
              "      <td>0.000000</td>\n",
              "      <td>-4.262500</td>\n",
              "      <td>5.037700</td>\n",
              "      <td>7.000000</td>\n",
              "      <td>0.000830</td>\n",
              "      <td>0.000002</td>\n",
              "      <td>0.000330</td>\n",
              "      <td>0.000430</td>\n",
              "      <td>...</td>\n",
              "      <td>0.026000</td>\n",
              "      <td>0.001610</td>\n",
              "      <td>0.001940</td>\n",
              "      <td>0.002490</td>\n",
              "      <td>0.004840</td>\n",
              "      <td>0.000286</td>\n",
              "      <td>1.659000</td>\n",
              "      <td>0.151020</td>\n",
              "      <td>0.514040</td>\n",
              "      <td>0.021983</td>\n",
              "    </tr>\n",
              "    <tr>\n",
              "      <th>25%</th>\n",
              "      <td>10.000000</td>\n",
              "      <td>58.000000</td>\n",
              "      <td>0.000000</td>\n",
              "      <td>46.847500</td>\n",
              "      <td>15.000000</td>\n",
              "      <td>21.371000</td>\n",
              "      <td>0.003580</td>\n",
              "      <td>0.000022</td>\n",
              "      <td>0.001580</td>\n",
              "      <td>0.001820</td>\n",
              "      <td>...</td>\n",
              "      <td>0.175000</td>\n",
              "      <td>0.009280</td>\n",
              "      <td>0.010790</td>\n",
              "      <td>0.015665</td>\n",
              "      <td>0.027830</td>\n",
              "      <td>0.010955</td>\n",
              "      <td>19.406000</td>\n",
              "      <td>0.469785</td>\n",
              "      <td>0.596180</td>\n",
              "      <td>0.156340</td>\n",
              "    </tr>\n",
              "    <tr>\n",
              "      <th>50%</th>\n",
              "      <td>22.000000</td>\n",
              "      <td>65.000000</td>\n",
              "      <td>0.000000</td>\n",
              "      <td>91.523000</td>\n",
              "      <td>20.871000</td>\n",
              "      <td>27.576000</td>\n",
              "      <td>0.004900</td>\n",
              "      <td>0.000035</td>\n",
              "      <td>0.002250</td>\n",
              "      <td>0.002490</td>\n",
              "      <td>...</td>\n",
              "      <td>0.253000</td>\n",
              "      <td>0.013700</td>\n",
              "      <td>0.015940</td>\n",
              "      <td>0.022710</td>\n",
              "      <td>0.041110</td>\n",
              "      <td>0.018448</td>\n",
              "      <td>21.920000</td>\n",
              "      <td>0.542250</td>\n",
              "      <td>0.643600</td>\n",
              "      <td>0.205500</td>\n",
              "    </tr>\n",
              "    <tr>\n",
              "      <th>75%</th>\n",
              "      <td>33.000000</td>\n",
              "      <td>72.000000</td>\n",
              "      <td>1.000000</td>\n",
              "      <td>138.445000</td>\n",
              "      <td>27.596500</td>\n",
              "      <td>36.399000</td>\n",
              "      <td>0.006800</td>\n",
              "      <td>0.000053</td>\n",
              "      <td>0.003290</td>\n",
              "      <td>0.003460</td>\n",
              "      <td>...</td>\n",
              "      <td>0.365000</td>\n",
              "      <td>0.020575</td>\n",
              "      <td>0.023755</td>\n",
              "      <td>0.032715</td>\n",
              "      <td>0.061735</td>\n",
              "      <td>0.031463</td>\n",
              "      <td>24.444000</td>\n",
              "      <td>0.614045</td>\n",
              "      <td>0.711335</td>\n",
              "      <td>0.264490</td>\n",
              "    </tr>\n",
              "    <tr>\n",
              "      <th>max</th>\n",
              "      <td>42.000000</td>\n",
              "      <td>85.000000</td>\n",
              "      <td>1.000000</td>\n",
              "      <td>215.490000</td>\n",
              "      <td>39.511000</td>\n",
              "      <td>54.992000</td>\n",
              "      <td>0.099990</td>\n",
              "      <td>0.000446</td>\n",
              "      <td>0.057540</td>\n",
              "      <td>0.069560</td>\n",
              "      <td>...</td>\n",
              "      <td>2.107000</td>\n",
              "      <td>0.162670</td>\n",
              "      <td>0.167020</td>\n",
              "      <td>0.275460</td>\n",
              "      <td>0.488020</td>\n",
              "      <td>0.748260</td>\n",
              "      <td>37.875000</td>\n",
              "      <td>0.966080</td>\n",
              "      <td>0.865600</td>\n",
              "      <td>0.731730</td>\n",
              "    </tr>\n",
              "  </tbody>\n",
              "</table>\n",
              "<p>8 rows × 22 columns</p>\n",
              "</div>\n",
              "      <button class=\"colab-df-convert\" onclick=\"convertToInteractive('df-22be2aa0-23d8-4ec7-86c7-84ffc410681a')\"\n",
              "              title=\"Convert this dataframe to an interactive table.\"\n",
              "              style=\"display:none;\">\n",
              "        \n",
              "  <svg xmlns=\"http://www.w3.org/2000/svg\" height=\"24px\"viewBox=\"0 0 24 24\"\n",
              "       width=\"24px\">\n",
              "    <path d=\"M0 0h24v24H0V0z\" fill=\"none\"/>\n",
              "    <path d=\"M18.56 5.44l.94 2.06.94-2.06 2.06-.94-2.06-.94-.94-2.06-.94 2.06-2.06.94zm-11 1L8.5 8.5l.94-2.06 2.06-.94-2.06-.94L8.5 2.5l-.94 2.06-2.06.94zm10 10l.94 2.06.94-2.06 2.06-.94-2.06-.94-.94-2.06-.94 2.06-2.06.94z\"/><path d=\"M17.41 7.96l-1.37-1.37c-.4-.4-.92-.59-1.43-.59-.52 0-1.04.2-1.43.59L10.3 9.45l-7.72 7.72c-.78.78-.78 2.05 0 2.83L4 21.41c.39.39.9.59 1.41.59.51 0 1.02-.2 1.41-.59l7.78-7.78 2.81-2.81c.8-.78.8-2.07 0-2.86zM5.41 20L4 18.59l7.72-7.72 1.47 1.35L5.41 20z\"/>\n",
              "  </svg>\n",
              "      </button>\n",
              "      \n",
              "  <style>\n",
              "    .colab-df-container {\n",
              "      display:flex;\n",
              "      flex-wrap:wrap;\n",
              "      gap: 12px;\n",
              "    }\n",
              "\n",
              "    .colab-df-convert {\n",
              "      background-color: #E8F0FE;\n",
              "      border: none;\n",
              "      border-radius: 50%;\n",
              "      cursor: pointer;\n",
              "      display: none;\n",
              "      fill: #1967D2;\n",
              "      height: 32px;\n",
              "      padding: 0 0 0 0;\n",
              "      width: 32px;\n",
              "    }\n",
              "\n",
              "    .colab-df-convert:hover {\n",
              "      background-color: #E2EBFA;\n",
              "      box-shadow: 0px 1px 2px rgba(60, 64, 67, 0.3), 0px 1px 3px 1px rgba(60, 64, 67, 0.15);\n",
              "      fill: #174EA6;\n",
              "    }\n",
              "\n",
              "    [theme=dark] .colab-df-convert {\n",
              "      background-color: #3B4455;\n",
              "      fill: #D2E3FC;\n",
              "    }\n",
              "\n",
              "    [theme=dark] .colab-df-convert:hover {\n",
              "      background-color: #434B5C;\n",
              "      box-shadow: 0px 1px 3px 1px rgba(0, 0, 0, 0.15);\n",
              "      filter: drop-shadow(0px 1px 2px rgba(0, 0, 0, 0.3));\n",
              "      fill: #FFFFFF;\n",
              "    }\n",
              "  </style>\n",
              "\n",
              "      <script>\n",
              "        const buttonEl =\n",
              "          document.querySelector('#df-22be2aa0-23d8-4ec7-86c7-84ffc410681a button.colab-df-convert');\n",
              "        buttonEl.style.display =\n",
              "          google.colab.kernel.accessAllowed ? 'block' : 'none';\n",
              "\n",
              "        async function convertToInteractive(key) {\n",
              "          const element = document.querySelector('#df-22be2aa0-23d8-4ec7-86c7-84ffc410681a');\n",
              "          const dataTable =\n",
              "            await google.colab.kernel.invokeFunction('convertToInteractive',\n",
              "                                                     [key], {});\n",
              "          if (!dataTable) return;\n",
              "\n",
              "          const docLinkHtml = 'Like what you see? Visit the ' +\n",
              "            '<a target=\"_blank\" href=https://colab.research.google.com/notebooks/data_table.ipynb>data table notebook</a>'\n",
              "            + ' to learn more about interactive tables.';\n",
              "          element.innerHTML = '';\n",
              "          dataTable['output_type'] = 'display_data';\n",
              "          await google.colab.output.renderOutput(dataTable, element);\n",
              "          const docLink = document.createElement('div');\n",
              "          docLink.innerHTML = docLinkHtml;\n",
              "          element.appendChild(docLink);\n",
              "        }\n",
              "      </script>\n",
              "    </div>\n",
              "  </div>\n",
              "  "
            ],
            "text/plain": [
              "          subject#          age          sex    test_time  motor_UPDRS  \\\n",
              "count  5875.000000  5875.000000  5875.000000  5875.000000  5875.000000   \n",
              "mean     21.494128    64.804936     0.317787    92.863722    21.296229   \n",
              "std      12.372279     8.821524     0.465656    53.445602     8.129282   \n",
              "min       1.000000    36.000000     0.000000    -4.262500     5.037700   \n",
              "25%      10.000000    58.000000     0.000000    46.847500    15.000000   \n",
              "50%      22.000000    65.000000     0.000000    91.523000    20.871000   \n",
              "75%      33.000000    72.000000     1.000000   138.445000    27.596500   \n",
              "max      42.000000    85.000000     1.000000   215.490000    39.511000   \n",
              "\n",
              "       total_UPDRS    Jitter(%)  Jitter(Abs)   Jitter:RAP  Jitter:PPQ5  ...  \\\n",
              "count  5875.000000  5875.000000  5875.000000  5875.000000  5875.000000  ...   \n",
              "mean     29.018942     0.006154     0.000044     0.002987     0.003277  ...   \n",
              "std      10.700283     0.005624     0.000036     0.003124     0.003732  ...   \n",
              "min       7.000000     0.000830     0.000002     0.000330     0.000430  ...   \n",
              "25%      21.371000     0.003580     0.000022     0.001580     0.001820  ...   \n",
              "50%      27.576000     0.004900     0.000035     0.002250     0.002490  ...   \n",
              "75%      36.399000     0.006800     0.000053     0.003290     0.003460  ...   \n",
              "max      54.992000     0.099990     0.000446     0.057540     0.069560  ...   \n",
              "\n",
              "       Shimmer(dB)  Shimmer:APQ3  Shimmer:APQ5  Shimmer:APQ11  Shimmer:DDA  \\\n",
              "count  5875.000000   5875.000000   5875.000000    5875.000000  5875.000000   \n",
              "mean      0.310960      0.017156      0.020144       0.027481     0.051467   \n",
              "std       0.230254      0.013237      0.016664       0.019986     0.039711   \n",
              "min       0.026000      0.001610      0.001940       0.002490     0.004840   \n",
              "25%       0.175000      0.009280      0.010790       0.015665     0.027830   \n",
              "50%       0.253000      0.013700      0.015940       0.022710     0.041110   \n",
              "75%       0.365000      0.020575      0.023755       0.032715     0.061735   \n",
              "max       2.107000      0.162670      0.167020       0.275460     0.488020   \n",
              "\n",
              "               NHR          HNR         RPDE          DFA          PPE  \n",
              "count  5875.000000  5875.000000  5875.000000  5875.000000  5875.000000  \n",
              "mean      0.032120    21.679495     0.541473     0.653240     0.219589  \n",
              "std       0.059692     4.291096     0.100986     0.070902     0.091498  \n",
              "min       0.000286     1.659000     0.151020     0.514040     0.021983  \n",
              "25%       0.010955    19.406000     0.469785     0.596180     0.156340  \n",
              "50%       0.018448    21.920000     0.542250     0.643600     0.205500  \n",
              "75%       0.031463    24.444000     0.614045     0.711335     0.264490  \n",
              "max       0.748260    37.875000     0.966080     0.865600     0.731730  \n",
              "\n",
              "[8 rows x 22 columns]"
            ]
          },
          "execution_count": 9,
          "metadata": {},
          "output_type": "execute_result"
        }
      ],
      "source": [
        "#summary of every column\n",
        "parkinsons.describe()"
      ]
    },
    {
      "cell_type": "code",
      "execution_count": null,
      "metadata": {
        "colab": {
          "base_uri": "https://localhost:8080/"
        },
        "id": "IIZSunV5tkfJ",
        "outputId": "f3cf8936-3b50-4263-894e-16ed340c4bda"
      },
      "outputs": [
        {
          "data": {
            "text/plain": [
              "subject#         0\n",
              "age              0\n",
              "sex              0\n",
              "test_time        0\n",
              "motor_UPDRS      0\n",
              "total_UPDRS      0\n",
              "Jitter(%)        0\n",
              "Jitter(Abs)      0\n",
              "Jitter:RAP       0\n",
              "Jitter:PPQ5      0\n",
              "Jitter:DDP       0\n",
              "Shimmer          0\n",
              "Shimmer(dB)      0\n",
              "Shimmer:APQ3     0\n",
              "Shimmer:APQ5     0\n",
              "Shimmer:APQ11    0\n",
              "Shimmer:DDA      0\n",
              "NHR              0\n",
              "HNR              0\n",
              "RPDE             0\n",
              "DFA              0\n",
              "PPE              0\n",
              "dtype: int64"
            ]
          },
          "execution_count": 10,
          "metadata": {},
          "output_type": "execute_result"
        }
      ],
      "source": [
        "#check for missing values\n",
        "parkinsons.isna().sum()"
      ]
    },
    {
      "cell_type": "code",
      "execution_count": null,
      "metadata": {
        "colab": {
          "base_uri": "https://localhost:8080/",
          "height": 832
        },
        "id": "4HPVJNMGtkfJ",
        "outputId": "b71e70cd-5a7c-4081-8120-97b0df1df4f7"
      },
      "outputs": [
        {
          "data": {
            "text/html": [
              "\n",
              "  <div id=\"df-52b1c51f-1d33-492a-84b0-2f153c85647c\">\n",
              "    <div class=\"colab-df-container\">\n",
              "      <div>\n",
              "<style scoped>\n",
              "    .dataframe tbody tr th:only-of-type {\n",
              "        vertical-align: middle;\n",
              "    }\n",
              "\n",
              "    .dataframe tbody tr th {\n",
              "        vertical-align: top;\n",
              "    }\n",
              "\n",
              "    .dataframe thead th {\n",
              "        text-align: right;\n",
              "    }\n",
              "</style>\n",
              "<table border=\"1\" class=\"dataframe\">\n",
              "  <thead>\n",
              "    <tr style=\"text-align: right;\">\n",
              "      <th></th>\n",
              "      <th>subject#</th>\n",
              "      <th>age</th>\n",
              "      <th>sex</th>\n",
              "      <th>test_time</th>\n",
              "      <th>motor_UPDRS</th>\n",
              "      <th>total_UPDRS</th>\n",
              "      <th>Jitter(%)</th>\n",
              "      <th>Jitter(Abs)</th>\n",
              "      <th>Jitter:RAP</th>\n",
              "      <th>Jitter:PPQ5</th>\n",
              "      <th>...</th>\n",
              "      <th>Shimmer(dB)</th>\n",
              "      <th>Shimmer:APQ3</th>\n",
              "      <th>Shimmer:APQ5</th>\n",
              "      <th>Shimmer:APQ11</th>\n",
              "      <th>Shimmer:DDA</th>\n",
              "      <th>NHR</th>\n",
              "      <th>HNR</th>\n",
              "      <th>RPDE</th>\n",
              "      <th>DFA</th>\n",
              "      <th>PPE</th>\n",
              "    </tr>\n",
              "  </thead>\n",
              "  <tbody>\n",
              "    <tr>\n",
              "      <th>subject#</th>\n",
              "      <td>1.000000</td>\n",
              "      <td>-0.030864</td>\n",
              "      <td>0.286851</td>\n",
              "      <td>-0.000882</td>\n",
              "      <td>0.252919</td>\n",
              "      <td>0.253643</td>\n",
              "      <td>0.135448</td>\n",
              "      <td>0.075156</td>\n",
              "      <td>0.120339</td>\n",
              "      <td>0.136474</td>\n",
              "      <td>...</td>\n",
              "      <td>0.142864</td>\n",
              "      <td>0.112950</td>\n",
              "      <td>0.138264</td>\n",
              "      <td>0.173333</td>\n",
              "      <td>0.112949</td>\n",
              "      <td>0.168743</td>\n",
              "      <td>-0.206929</td>\n",
              "      <td>0.147300</td>\n",
              "      <td>0.097464</td>\n",
              "      <td>0.157559</td>\n",
              "    </tr>\n",
              "    <tr>\n",
              "      <th>age</th>\n",
              "      <td>-0.030864</td>\n",
              "      <td>1.000000</td>\n",
              "      <td>-0.041602</td>\n",
              "      <td>0.019884</td>\n",
              "      <td>0.273665</td>\n",
              "      <td>0.310290</td>\n",
              "      <td>0.023071</td>\n",
              "      <td>0.035691</td>\n",
              "      <td>0.010255</td>\n",
              "      <td>0.013199</td>\n",
              "      <td>...</td>\n",
              "      <td>0.111130</td>\n",
              "      <td>0.098912</td>\n",
              "      <td>0.089983</td>\n",
              "      <td>0.135238</td>\n",
              "      <td>0.098913</td>\n",
              "      <td>0.007093</td>\n",
              "      <td>-0.104842</td>\n",
              "      <td>0.090208</td>\n",
              "      <td>-0.092870</td>\n",
              "      <td>0.120790</td>\n",
              "    </tr>\n",
              "    <tr>\n",
              "      <th>sex</th>\n",
              "      <td>0.286851</td>\n",
              "      <td>-0.041602</td>\n",
              "      <td>1.000000</td>\n",
              "      <td>-0.009805</td>\n",
              "      <td>-0.031205</td>\n",
              "      <td>-0.096559</td>\n",
              "      <td>0.051422</td>\n",
              "      <td>-0.154645</td>\n",
              "      <td>0.076718</td>\n",
              "      <td>0.087995</td>\n",
              "      <td>...</td>\n",
              "      <td>0.056481</td>\n",
              "      <td>0.044937</td>\n",
              "      <td>0.064819</td>\n",
              "      <td>0.023360</td>\n",
              "      <td>0.044938</td>\n",
              "      <td>0.168170</td>\n",
              "      <td>-0.000167</td>\n",
              "      <td>-0.159262</td>\n",
              "      <td>-0.165113</td>\n",
              "      <td>-0.099901</td>\n",
              "    </tr>\n",
              "    <tr>\n",
              "      <th>test_time</th>\n",
              "      <td>-0.000882</td>\n",
              "      <td>0.019884</td>\n",
              "      <td>-0.009805</td>\n",
              "      <td>1.000000</td>\n",
              "      <td>0.067918</td>\n",
              "      <td>0.075263</td>\n",
              "      <td>-0.022837</td>\n",
              "      <td>-0.011365</td>\n",
              "      <td>-0.028888</td>\n",
              "      <td>-0.023290</td>\n",
              "      <td>...</td>\n",
              "      <td>-0.030962</td>\n",
              "      <td>-0.029020</td>\n",
              "      <td>-0.036504</td>\n",
              "      <td>-0.039110</td>\n",
              "      <td>-0.029017</td>\n",
              "      <td>-0.026357</td>\n",
              "      <td>0.036545</td>\n",
              "      <td>-0.038887</td>\n",
              "      <td>0.019261</td>\n",
              "      <td>-0.000563</td>\n",
              "    </tr>\n",
              "    <tr>\n",
              "      <th>motor_UPDRS</th>\n",
              "      <td>0.252919</td>\n",
              "      <td>0.273665</td>\n",
              "      <td>-0.031205</td>\n",
              "      <td>0.067918</td>\n",
              "      <td>1.000000</td>\n",
              "      <td>0.947231</td>\n",
              "      <td>0.084816</td>\n",
              "      <td>0.050903</td>\n",
              "      <td>0.072684</td>\n",
              "      <td>0.076291</td>\n",
              "      <td>...</td>\n",
              "      <td>0.110076</td>\n",
              "      <td>0.084261</td>\n",
              "      <td>0.092105</td>\n",
              "      <td>0.136560</td>\n",
              "      <td>0.084260</td>\n",
              "      <td>0.074967</td>\n",
              "      <td>-0.157029</td>\n",
              "      <td>0.128607</td>\n",
              "      <td>-0.116242</td>\n",
              "      <td>0.162433</td>\n",
              "    </tr>\n",
              "    <tr>\n",
              "      <th>total_UPDRS</th>\n",
              "      <td>0.253643</td>\n",
              "      <td>0.310290</td>\n",
              "      <td>-0.096559</td>\n",
              "      <td>0.075263</td>\n",
              "      <td>0.947231</td>\n",
              "      <td>1.000000</td>\n",
              "      <td>0.074247</td>\n",
              "      <td>0.066927</td>\n",
              "      <td>0.064015</td>\n",
              "      <td>0.063352</td>\n",
              "      <td>...</td>\n",
              "      <td>0.098790</td>\n",
              "      <td>0.079363</td>\n",
              "      <td>0.083467</td>\n",
              "      <td>0.120838</td>\n",
              "      <td>0.079363</td>\n",
              "      <td>0.060952</td>\n",
              "      <td>-0.162117</td>\n",
              "      <td>0.156897</td>\n",
              "      <td>-0.113475</td>\n",
              "      <td>0.156195</td>\n",
              "    </tr>\n",
              "    <tr>\n",
              "      <th>Jitter(%)</th>\n",
              "      <td>0.135448</td>\n",
              "      <td>0.023071</td>\n",
              "      <td>0.051422</td>\n",
              "      <td>-0.022837</td>\n",
              "      <td>0.084816</td>\n",
              "      <td>0.074247</td>\n",
              "      <td>1.000000</td>\n",
              "      <td>0.865577</td>\n",
              "      <td>0.984181</td>\n",
              "      <td>0.968214</td>\n",
              "      <td>...</td>\n",
              "      <td>0.716704</td>\n",
              "      <td>0.664149</td>\n",
              "      <td>0.694002</td>\n",
              "      <td>0.645965</td>\n",
              "      <td>0.664147</td>\n",
              "      <td>0.825294</td>\n",
              "      <td>-0.675188</td>\n",
              "      <td>0.427128</td>\n",
              "      <td>0.226550</td>\n",
              "      <td>0.721849</td>\n",
              "    </tr>\n",
              "    <tr>\n",
              "      <th>Jitter(Abs)</th>\n",
              "      <td>0.075156</td>\n",
              "      <td>0.035691</td>\n",
              "      <td>-0.154645</td>\n",
              "      <td>-0.011365</td>\n",
              "      <td>0.050903</td>\n",
              "      <td>0.066927</td>\n",
              "      <td>0.865577</td>\n",
              "      <td>1.000000</td>\n",
              "      <td>0.844626</td>\n",
              "      <td>0.790538</td>\n",
              "      <td>...</td>\n",
              "      <td>0.655871</td>\n",
              "      <td>0.623830</td>\n",
              "      <td>0.621401</td>\n",
              "      <td>0.589998</td>\n",
              "      <td>0.623827</td>\n",
              "      <td>0.699960</td>\n",
              "      <td>-0.706418</td>\n",
              "      <td>0.547100</td>\n",
              "      <td>0.352264</td>\n",
              "      <td>0.787853</td>\n",
              "    </tr>\n",
              "    <tr>\n",
              "      <th>Jitter:RAP</th>\n",
              "      <td>0.120339</td>\n",
              "      <td>0.010255</td>\n",
              "      <td>0.076718</td>\n",
              "      <td>-0.028888</td>\n",
              "      <td>0.072684</td>\n",
              "      <td>0.064015</td>\n",
              "      <td>0.984181</td>\n",
              "      <td>0.844626</td>\n",
              "      <td>1.000000</td>\n",
              "      <td>0.947196</td>\n",
              "      <td>...</td>\n",
              "      <td>0.685551</td>\n",
              "      <td>0.650226</td>\n",
              "      <td>0.659831</td>\n",
              "      <td>0.603082</td>\n",
              "      <td>0.650225</td>\n",
              "      <td>0.792373</td>\n",
              "      <td>-0.641473</td>\n",
              "      <td>0.382891</td>\n",
              "      <td>0.214881</td>\n",
              "      <td>0.670652</td>\n",
              "    </tr>\n",
              "    <tr>\n",
              "      <th>Jitter:PPQ5</th>\n",
              "      <td>0.136474</td>\n",
              "      <td>0.013199</td>\n",
              "      <td>0.087995</td>\n",
              "      <td>-0.023290</td>\n",
              "      <td>0.076291</td>\n",
              "      <td>0.063352</td>\n",
              "      <td>0.968214</td>\n",
              "      <td>0.790538</td>\n",
              "      <td>0.947196</td>\n",
              "      <td>1.000000</td>\n",
              "      <td>...</td>\n",
              "      <td>0.734591</td>\n",
              "      <td>0.676711</td>\n",
              "      <td>0.734021</td>\n",
              "      <td>0.668413</td>\n",
              "      <td>0.676710</td>\n",
              "      <td>0.864864</td>\n",
              "      <td>-0.662409</td>\n",
              "      <td>0.381503</td>\n",
              "      <td>0.175359</td>\n",
              "      <td>0.663491</td>\n",
              "    </tr>\n",
              "    <tr>\n",
              "      <th>Jitter:DDP</th>\n",
              "      <td>0.120350</td>\n",
              "      <td>0.010258</td>\n",
              "      <td>0.076703</td>\n",
              "      <td>-0.028876</td>\n",
              "      <td>0.072698</td>\n",
              "      <td>0.064027</td>\n",
              "      <td>0.984184</td>\n",
              "      <td>0.844630</td>\n",
              "      <td>1.000000</td>\n",
              "      <td>0.947203</td>\n",
              "      <td>...</td>\n",
              "      <td>0.685556</td>\n",
              "      <td>0.650228</td>\n",
              "      <td>0.659833</td>\n",
              "      <td>0.603090</td>\n",
              "      <td>0.650227</td>\n",
              "      <td>0.792377</td>\n",
              "      <td>-0.641482</td>\n",
              "      <td>0.382886</td>\n",
              "      <td>0.214893</td>\n",
              "      <td>0.670660</td>\n",
              "    </tr>\n",
              "    <tr>\n",
              "      <th>Shimmer</th>\n",
              "      <td>0.146202</td>\n",
              "      <td>0.101554</td>\n",
              "      <td>0.058736</td>\n",
              "      <td>-0.033870</td>\n",
              "      <td>0.102349</td>\n",
              "      <td>0.092141</td>\n",
              "      <td>0.709791</td>\n",
              "      <td>0.649046</td>\n",
              "      <td>0.681729</td>\n",
              "      <td>0.732747</td>\n",
              "      <td>...</td>\n",
              "      <td>0.992334</td>\n",
              "      <td>0.979828</td>\n",
              "      <td>0.984904</td>\n",
              "      <td>0.935457</td>\n",
              "      <td>0.979827</td>\n",
              "      <td>0.795158</td>\n",
              "      <td>-0.801416</td>\n",
              "      <td>0.468235</td>\n",
              "      <td>0.132540</td>\n",
              "      <td>0.615709</td>\n",
              "    </tr>\n",
              "    <tr>\n",
              "      <th>Shimmer(dB)</th>\n",
              "      <td>0.142864</td>\n",
              "      <td>0.111130</td>\n",
              "      <td>0.056481</td>\n",
              "      <td>-0.030962</td>\n",
              "      <td>0.110076</td>\n",
              "      <td>0.098790</td>\n",
              "      <td>0.716704</td>\n",
              "      <td>0.655871</td>\n",
              "      <td>0.685551</td>\n",
              "      <td>0.734591</td>\n",
              "      <td>...</td>\n",
              "      <td>1.000000</td>\n",
              "      <td>0.968015</td>\n",
              "      <td>0.976373</td>\n",
              "      <td>0.936338</td>\n",
              "      <td>0.968014</td>\n",
              "      <td>0.798077</td>\n",
              "      <td>-0.802496</td>\n",
              "      <td>0.472409</td>\n",
              "      <td>0.126111</td>\n",
              "      <td>0.635163</td>\n",
              "    </tr>\n",
              "    <tr>\n",
              "      <th>Shimmer:APQ3</th>\n",
              "      <td>0.112950</td>\n",
              "      <td>0.098912</td>\n",
              "      <td>0.044937</td>\n",
              "      <td>-0.029020</td>\n",
              "      <td>0.084261</td>\n",
              "      <td>0.079363</td>\n",
              "      <td>0.664149</td>\n",
              "      <td>0.623830</td>\n",
              "      <td>0.650226</td>\n",
              "      <td>0.676711</td>\n",
              "      <td>...</td>\n",
              "      <td>0.968015</td>\n",
              "      <td>1.000000</td>\n",
              "      <td>0.962723</td>\n",
              "      <td>0.885695</td>\n",
              "      <td>1.000000</td>\n",
              "      <td>0.732736</td>\n",
              "      <td>-0.780697</td>\n",
              "      <td>0.436878</td>\n",
              "      <td>0.130735</td>\n",
              "      <td>0.576704</td>\n",
              "    </tr>\n",
              "    <tr>\n",
              "      <th>Shimmer:APQ5</th>\n",
              "      <td>0.138264</td>\n",
              "      <td>0.089983</td>\n",
              "      <td>0.064819</td>\n",
              "      <td>-0.036504</td>\n",
              "      <td>0.092105</td>\n",
              "      <td>0.083467</td>\n",
              "      <td>0.694002</td>\n",
              "      <td>0.621401</td>\n",
              "      <td>0.659831</td>\n",
              "      <td>0.734021</td>\n",
              "      <td>...</td>\n",
              "      <td>0.976373</td>\n",
              "      <td>0.962723</td>\n",
              "      <td>1.000000</td>\n",
              "      <td>0.938935</td>\n",
              "      <td>0.962723</td>\n",
              "      <td>0.798173</td>\n",
              "      <td>-0.790638</td>\n",
              "      <td>0.450890</td>\n",
              "      <td>0.128038</td>\n",
              "      <td>0.593677</td>\n",
              "    </tr>\n",
              "    <tr>\n",
              "      <th>Shimmer:APQ11</th>\n",
              "      <td>0.173333</td>\n",
              "      <td>0.135238</td>\n",
              "      <td>0.023360</td>\n",
              "      <td>-0.039110</td>\n",
              "      <td>0.136560</td>\n",
              "      <td>0.120838</td>\n",
              "      <td>0.645965</td>\n",
              "      <td>0.589998</td>\n",
              "      <td>0.603082</td>\n",
              "      <td>0.668413</td>\n",
              "      <td>...</td>\n",
              "      <td>0.936338</td>\n",
              "      <td>0.885695</td>\n",
              "      <td>0.938935</td>\n",
              "      <td>1.000000</td>\n",
              "      <td>0.885694</td>\n",
              "      <td>0.711546</td>\n",
              "      <td>-0.777974</td>\n",
              "      <td>0.480739</td>\n",
              "      <td>0.179648</td>\n",
              "      <td>0.623416</td>\n",
              "    </tr>\n",
              "    <tr>\n",
              "      <th>Shimmer:DDA</th>\n",
              "      <td>0.112949</td>\n",
              "      <td>0.098913</td>\n",
              "      <td>0.044938</td>\n",
              "      <td>-0.029017</td>\n",
              "      <td>0.084260</td>\n",
              "      <td>0.079363</td>\n",
              "      <td>0.664147</td>\n",
              "      <td>0.623827</td>\n",
              "      <td>0.650225</td>\n",
              "      <td>0.676710</td>\n",
              "      <td>...</td>\n",
              "      <td>0.968014</td>\n",
              "      <td>1.000000</td>\n",
              "      <td>0.962723</td>\n",
              "      <td>0.885694</td>\n",
              "      <td>1.000000</td>\n",
              "      <td>0.732734</td>\n",
              "      <td>-0.780696</td>\n",
              "      <td>0.436872</td>\n",
              "      <td>0.130736</td>\n",
              "      <td>0.576702</td>\n",
              "    </tr>\n",
              "    <tr>\n",
              "      <th>NHR</th>\n",
              "      <td>0.168743</td>\n",
              "      <td>0.007093</td>\n",
              "      <td>0.168170</td>\n",
              "      <td>-0.026357</td>\n",
              "      <td>0.074967</td>\n",
              "      <td>0.060952</td>\n",
              "      <td>0.825294</td>\n",
              "      <td>0.699960</td>\n",
              "      <td>0.792373</td>\n",
              "      <td>0.864864</td>\n",
              "      <td>...</td>\n",
              "      <td>0.798077</td>\n",
              "      <td>0.732736</td>\n",
              "      <td>0.798173</td>\n",
              "      <td>0.711546</td>\n",
              "      <td>0.732734</td>\n",
              "      <td>1.000000</td>\n",
              "      <td>-0.684412</td>\n",
              "      <td>0.416660</td>\n",
              "      <td>-0.022088</td>\n",
              "      <td>0.564654</td>\n",
              "    </tr>\n",
              "    <tr>\n",
              "      <th>HNR</th>\n",
              "      <td>-0.206929</td>\n",
              "      <td>-0.104842</td>\n",
              "      <td>-0.000167</td>\n",
              "      <td>0.036545</td>\n",
              "      <td>-0.157029</td>\n",
              "      <td>-0.162117</td>\n",
              "      <td>-0.675188</td>\n",
              "      <td>-0.706418</td>\n",
              "      <td>-0.641473</td>\n",
              "      <td>-0.662409</td>\n",
              "      <td>...</td>\n",
              "      <td>-0.802496</td>\n",
              "      <td>-0.780697</td>\n",
              "      <td>-0.790638</td>\n",
              "      <td>-0.777974</td>\n",
              "      <td>-0.780696</td>\n",
              "      <td>-0.684412</td>\n",
              "      <td>1.000000</td>\n",
              "      <td>-0.659053</td>\n",
              "      <td>-0.290519</td>\n",
              "      <td>-0.758722</td>\n",
              "    </tr>\n",
              "    <tr>\n",
              "      <th>RPDE</th>\n",
              "      <td>0.147300</td>\n",
              "      <td>0.090208</td>\n",
              "      <td>-0.159262</td>\n",
              "      <td>-0.038887</td>\n",
              "      <td>0.128607</td>\n",
              "      <td>0.156897</td>\n",
              "      <td>0.427128</td>\n",
              "      <td>0.547100</td>\n",
              "      <td>0.382891</td>\n",
              "      <td>0.381503</td>\n",
              "      <td>...</td>\n",
              "      <td>0.472409</td>\n",
              "      <td>0.436878</td>\n",
              "      <td>0.450890</td>\n",
              "      <td>0.480739</td>\n",
              "      <td>0.436872</td>\n",
              "      <td>0.416660</td>\n",
              "      <td>-0.659053</td>\n",
              "      <td>1.000000</td>\n",
              "      <td>0.192030</td>\n",
              "      <td>0.566065</td>\n",
              "    </tr>\n",
              "    <tr>\n",
              "      <th>DFA</th>\n",
              "      <td>0.097464</td>\n",
              "      <td>-0.092870</td>\n",
              "      <td>-0.165113</td>\n",
              "      <td>0.019261</td>\n",
              "      <td>-0.116242</td>\n",
              "      <td>-0.113475</td>\n",
              "      <td>0.226550</td>\n",
              "      <td>0.352264</td>\n",
              "      <td>0.214881</td>\n",
              "      <td>0.175359</td>\n",
              "      <td>...</td>\n",
              "      <td>0.126111</td>\n",
              "      <td>0.130735</td>\n",
              "      <td>0.128038</td>\n",
              "      <td>0.179648</td>\n",
              "      <td>0.130736</td>\n",
              "      <td>-0.022088</td>\n",
              "      <td>-0.290519</td>\n",
              "      <td>0.192030</td>\n",
              "      <td>1.000000</td>\n",
              "      <td>0.394650</td>\n",
              "    </tr>\n",
              "    <tr>\n",
              "      <th>PPE</th>\n",
              "      <td>0.157559</td>\n",
              "      <td>0.120790</td>\n",
              "      <td>-0.099901</td>\n",
              "      <td>-0.000563</td>\n",
              "      <td>0.162433</td>\n",
              "      <td>0.156195</td>\n",
              "      <td>0.721849</td>\n",
              "      <td>0.787853</td>\n",
              "      <td>0.670652</td>\n",
              "      <td>0.663491</td>\n",
              "      <td>...</td>\n",
              "      <td>0.635163</td>\n",
              "      <td>0.576704</td>\n",
              "      <td>0.593677</td>\n",
              "      <td>0.623416</td>\n",
              "      <td>0.576702</td>\n",
              "      <td>0.564654</td>\n",
              "      <td>-0.758722</td>\n",
              "      <td>0.566065</td>\n",
              "      <td>0.394650</td>\n",
              "      <td>1.000000</td>\n",
              "    </tr>\n",
              "  </tbody>\n",
              "</table>\n",
              "<p>22 rows × 22 columns</p>\n",
              "</div>\n",
              "      <button class=\"colab-df-convert\" onclick=\"convertToInteractive('df-52b1c51f-1d33-492a-84b0-2f153c85647c')\"\n",
              "              title=\"Convert this dataframe to an interactive table.\"\n",
              "              style=\"display:none;\">\n",
              "        \n",
              "  <svg xmlns=\"http://www.w3.org/2000/svg\" height=\"24px\"viewBox=\"0 0 24 24\"\n",
              "       width=\"24px\">\n",
              "    <path d=\"M0 0h24v24H0V0z\" fill=\"none\"/>\n",
              "    <path d=\"M18.56 5.44l.94 2.06.94-2.06 2.06-.94-2.06-.94-.94-2.06-.94 2.06-2.06.94zm-11 1L8.5 8.5l.94-2.06 2.06-.94-2.06-.94L8.5 2.5l-.94 2.06-2.06.94zm10 10l.94 2.06.94-2.06 2.06-.94-2.06-.94-.94-2.06-.94 2.06-2.06.94z\"/><path d=\"M17.41 7.96l-1.37-1.37c-.4-.4-.92-.59-1.43-.59-.52 0-1.04.2-1.43.59L10.3 9.45l-7.72 7.72c-.78.78-.78 2.05 0 2.83L4 21.41c.39.39.9.59 1.41.59.51 0 1.02-.2 1.41-.59l7.78-7.78 2.81-2.81c.8-.78.8-2.07 0-2.86zM5.41 20L4 18.59l7.72-7.72 1.47 1.35L5.41 20z\"/>\n",
              "  </svg>\n",
              "      </button>\n",
              "      \n",
              "  <style>\n",
              "    .colab-df-container {\n",
              "      display:flex;\n",
              "      flex-wrap:wrap;\n",
              "      gap: 12px;\n",
              "    }\n",
              "\n",
              "    .colab-df-convert {\n",
              "      background-color: #E8F0FE;\n",
              "      border: none;\n",
              "      border-radius: 50%;\n",
              "      cursor: pointer;\n",
              "      display: none;\n",
              "      fill: #1967D2;\n",
              "      height: 32px;\n",
              "      padding: 0 0 0 0;\n",
              "      width: 32px;\n",
              "    }\n",
              "\n",
              "    .colab-df-convert:hover {\n",
              "      background-color: #E2EBFA;\n",
              "      box-shadow: 0px 1px 2px rgba(60, 64, 67, 0.3), 0px 1px 3px 1px rgba(60, 64, 67, 0.15);\n",
              "      fill: #174EA6;\n",
              "    }\n",
              "\n",
              "    [theme=dark] .colab-df-convert {\n",
              "      background-color: #3B4455;\n",
              "      fill: #D2E3FC;\n",
              "    }\n",
              "\n",
              "    [theme=dark] .colab-df-convert:hover {\n",
              "      background-color: #434B5C;\n",
              "      box-shadow: 0px 1px 3px 1px rgba(0, 0, 0, 0.15);\n",
              "      filter: drop-shadow(0px 1px 2px rgba(0, 0, 0, 0.3));\n",
              "      fill: #FFFFFF;\n",
              "    }\n",
              "  </style>\n",
              "\n",
              "      <script>\n",
              "        const buttonEl =\n",
              "          document.querySelector('#df-52b1c51f-1d33-492a-84b0-2f153c85647c button.colab-df-convert');\n",
              "        buttonEl.style.display =\n",
              "          google.colab.kernel.accessAllowed ? 'block' : 'none';\n",
              "\n",
              "        async function convertToInteractive(key) {\n",
              "          const element = document.querySelector('#df-52b1c51f-1d33-492a-84b0-2f153c85647c');\n",
              "          const dataTable =\n",
              "            await google.colab.kernel.invokeFunction('convertToInteractive',\n",
              "                                                     [key], {});\n",
              "          if (!dataTable) return;\n",
              "\n",
              "          const docLinkHtml = 'Like what you see? Visit the ' +\n",
              "            '<a target=\"_blank\" href=https://colab.research.google.com/notebooks/data_table.ipynb>data table notebook</a>'\n",
              "            + ' to learn more about interactive tables.';\n",
              "          element.innerHTML = '';\n",
              "          dataTable['output_type'] = 'display_data';\n",
              "          await google.colab.output.renderOutput(dataTable, element);\n",
              "          const docLink = document.createElement('div');\n",
              "          docLink.innerHTML = docLinkHtml;\n",
              "          element.appendChild(docLink);\n",
              "        }\n",
              "      </script>\n",
              "    </div>\n",
              "  </div>\n",
              "  "
            ],
            "text/plain": [
              "               subject#       age       sex  test_time  motor_UPDRS  \\\n",
              "subject#       1.000000 -0.030864  0.286851  -0.000882     0.252919   \n",
              "age           -0.030864  1.000000 -0.041602   0.019884     0.273665   \n",
              "sex            0.286851 -0.041602  1.000000  -0.009805    -0.031205   \n",
              "test_time     -0.000882  0.019884 -0.009805   1.000000     0.067918   \n",
              "motor_UPDRS    0.252919  0.273665 -0.031205   0.067918     1.000000   \n",
              "total_UPDRS    0.253643  0.310290 -0.096559   0.075263     0.947231   \n",
              "Jitter(%)      0.135448  0.023071  0.051422  -0.022837     0.084816   \n",
              "Jitter(Abs)    0.075156  0.035691 -0.154645  -0.011365     0.050903   \n",
              "Jitter:RAP     0.120339  0.010255  0.076718  -0.028888     0.072684   \n",
              "Jitter:PPQ5    0.136474  0.013199  0.087995  -0.023290     0.076291   \n",
              "Jitter:DDP     0.120350  0.010258  0.076703  -0.028876     0.072698   \n",
              "Shimmer        0.146202  0.101554  0.058736  -0.033870     0.102349   \n",
              "Shimmer(dB)    0.142864  0.111130  0.056481  -0.030962     0.110076   \n",
              "Shimmer:APQ3   0.112950  0.098912  0.044937  -0.029020     0.084261   \n",
              "Shimmer:APQ5   0.138264  0.089983  0.064819  -0.036504     0.092105   \n",
              "Shimmer:APQ11  0.173333  0.135238  0.023360  -0.039110     0.136560   \n",
              "Shimmer:DDA    0.112949  0.098913  0.044938  -0.029017     0.084260   \n",
              "NHR            0.168743  0.007093  0.168170  -0.026357     0.074967   \n",
              "HNR           -0.206929 -0.104842 -0.000167   0.036545    -0.157029   \n",
              "RPDE           0.147300  0.090208 -0.159262  -0.038887     0.128607   \n",
              "DFA            0.097464 -0.092870 -0.165113   0.019261    -0.116242   \n",
              "PPE            0.157559  0.120790 -0.099901  -0.000563     0.162433   \n",
              "\n",
              "               total_UPDRS  Jitter(%)  Jitter(Abs)  Jitter:RAP  Jitter:PPQ5  \\\n",
              "subject#          0.253643   0.135448     0.075156    0.120339     0.136474   \n",
              "age               0.310290   0.023071     0.035691    0.010255     0.013199   \n",
              "sex              -0.096559   0.051422    -0.154645    0.076718     0.087995   \n",
              "test_time         0.075263  -0.022837    -0.011365   -0.028888    -0.023290   \n",
              "motor_UPDRS       0.947231   0.084816     0.050903    0.072684     0.076291   \n",
              "total_UPDRS       1.000000   0.074247     0.066927    0.064015     0.063352   \n",
              "Jitter(%)         0.074247   1.000000     0.865577    0.984181     0.968214   \n",
              "Jitter(Abs)       0.066927   0.865577     1.000000    0.844626     0.790538   \n",
              "Jitter:RAP        0.064015   0.984181     0.844626    1.000000     0.947196   \n",
              "Jitter:PPQ5       0.063352   0.968214     0.790538    0.947196     1.000000   \n",
              "Jitter:DDP        0.064027   0.984184     0.844630    1.000000     0.947203   \n",
              "Shimmer           0.092141   0.709791     0.649046    0.681729     0.732747   \n",
              "Shimmer(dB)       0.098790   0.716704     0.655871    0.685551     0.734591   \n",
              "Shimmer:APQ3      0.079363   0.664149     0.623830    0.650226     0.676711   \n",
              "Shimmer:APQ5      0.083467   0.694002     0.621401    0.659831     0.734021   \n",
              "Shimmer:APQ11     0.120838   0.645965     0.589998    0.603082     0.668413   \n",
              "Shimmer:DDA       0.079363   0.664147     0.623827    0.650225     0.676710   \n",
              "NHR               0.060952   0.825294     0.699960    0.792373     0.864864   \n",
              "HNR              -0.162117  -0.675188    -0.706418   -0.641473    -0.662409   \n",
              "RPDE              0.156897   0.427128     0.547100    0.382891     0.381503   \n",
              "DFA              -0.113475   0.226550     0.352264    0.214881     0.175359   \n",
              "PPE               0.156195   0.721849     0.787853    0.670652     0.663491   \n",
              "\n",
              "               ...  Shimmer(dB)  Shimmer:APQ3  Shimmer:APQ5  Shimmer:APQ11  \\\n",
              "subject#       ...     0.142864      0.112950      0.138264       0.173333   \n",
              "age            ...     0.111130      0.098912      0.089983       0.135238   \n",
              "sex            ...     0.056481      0.044937      0.064819       0.023360   \n",
              "test_time      ...    -0.030962     -0.029020     -0.036504      -0.039110   \n",
              "motor_UPDRS    ...     0.110076      0.084261      0.092105       0.136560   \n",
              "total_UPDRS    ...     0.098790      0.079363      0.083467       0.120838   \n",
              "Jitter(%)      ...     0.716704      0.664149      0.694002       0.645965   \n",
              "Jitter(Abs)    ...     0.655871      0.623830      0.621401       0.589998   \n",
              "Jitter:RAP     ...     0.685551      0.650226      0.659831       0.603082   \n",
              "Jitter:PPQ5    ...     0.734591      0.676711      0.734021       0.668413   \n",
              "Jitter:DDP     ...     0.685556      0.650228      0.659833       0.603090   \n",
              "Shimmer        ...     0.992334      0.979828      0.984904       0.935457   \n",
              "Shimmer(dB)    ...     1.000000      0.968015      0.976373       0.936338   \n",
              "Shimmer:APQ3   ...     0.968015      1.000000      0.962723       0.885695   \n",
              "Shimmer:APQ5   ...     0.976373      0.962723      1.000000       0.938935   \n",
              "Shimmer:APQ11  ...     0.936338      0.885695      0.938935       1.000000   \n",
              "Shimmer:DDA    ...     0.968014      1.000000      0.962723       0.885694   \n",
              "NHR            ...     0.798077      0.732736      0.798173       0.711546   \n",
              "HNR            ...    -0.802496     -0.780697     -0.790638      -0.777974   \n",
              "RPDE           ...     0.472409      0.436878      0.450890       0.480739   \n",
              "DFA            ...     0.126111      0.130735      0.128038       0.179648   \n",
              "PPE            ...     0.635163      0.576704      0.593677       0.623416   \n",
              "\n",
              "               Shimmer:DDA       NHR       HNR      RPDE       DFA       PPE  \n",
              "subject#          0.112949  0.168743 -0.206929  0.147300  0.097464  0.157559  \n",
              "age               0.098913  0.007093 -0.104842  0.090208 -0.092870  0.120790  \n",
              "sex               0.044938  0.168170 -0.000167 -0.159262 -0.165113 -0.099901  \n",
              "test_time        -0.029017 -0.026357  0.036545 -0.038887  0.019261 -0.000563  \n",
              "motor_UPDRS       0.084260  0.074967 -0.157029  0.128607 -0.116242  0.162433  \n",
              "total_UPDRS       0.079363  0.060952 -0.162117  0.156897 -0.113475  0.156195  \n",
              "Jitter(%)         0.664147  0.825294 -0.675188  0.427128  0.226550  0.721849  \n",
              "Jitter(Abs)       0.623827  0.699960 -0.706418  0.547100  0.352264  0.787853  \n",
              "Jitter:RAP        0.650225  0.792373 -0.641473  0.382891  0.214881  0.670652  \n",
              "Jitter:PPQ5       0.676710  0.864864 -0.662409  0.381503  0.175359  0.663491  \n",
              "Jitter:DDP        0.650227  0.792377 -0.641482  0.382886  0.214893  0.670660  \n",
              "Shimmer           0.979827  0.795158 -0.801416  0.468235  0.132540  0.615709  \n",
              "Shimmer(dB)       0.968014  0.798077 -0.802496  0.472409  0.126111  0.635163  \n",
              "Shimmer:APQ3      1.000000  0.732736 -0.780697  0.436878  0.130735  0.576704  \n",
              "Shimmer:APQ5      0.962723  0.798173 -0.790638  0.450890  0.128038  0.593677  \n",
              "Shimmer:APQ11     0.885694  0.711546 -0.777974  0.480739  0.179648  0.623416  \n",
              "Shimmer:DDA       1.000000  0.732734 -0.780696  0.436872  0.130736  0.576702  \n",
              "NHR               0.732734  1.000000 -0.684412  0.416660 -0.022088  0.564654  \n",
              "HNR              -0.780696 -0.684412  1.000000 -0.659053 -0.290519 -0.758722  \n",
              "RPDE              0.436872  0.416660 -0.659053  1.000000  0.192030  0.566065  \n",
              "DFA               0.130736 -0.022088 -0.290519  0.192030  1.000000  0.394650  \n",
              "PPE               0.576702  0.564654 -0.758722  0.566065  0.394650  1.000000  \n",
              "\n",
              "[22 rows x 22 columns]"
            ]
          },
          "execution_count": 11,
          "metadata": {},
          "output_type": "execute_result"
        }
      ],
      "source": [
        "parkinsons.corr()"
      ]
    },
    {
      "cell_type": "code",
      "execution_count": 35,
      "metadata": {
        "id": "mtIb9ayItkfL"
      },
      "outputs": [],
      "source": [
        "parkinsons = shuffle(parkinsons, random_state=1)\n",
        "X_parkinsons= parkinsons.drop(['motor_UPDRS','total_UPDRS'],axis=1)#[['age', 'sex',  'Jitter(%)', 'Shimmer',  'NHR', 'HNR', 'RPDE', 'DFA', 'PPE']] \n",
        "y_parkinsons= parkinsons[\"total_UPDRS\"]\n",
        "x_train_parkinsons, x_test_parkinsons, y_train_parkinsons, y_test_parkinsons = train_test_split(X_parkinsons, y_parkinsons, test_size=0.2, random_state= 0)\n",
        "# scale data\n",
        "scaler = StandardScaler()\n",
        "x_train_parkinsons_sc =  scaler.fit_transform(x_train_parkinsons)\n",
        "x_test_parkinsons_sc =  scaler.fit_transform(x_test_parkinsons)\n",
        "x_train_parkinsons_sc = pd.DataFrame(x_train_parkinsons_sc)"
      ]
    },
    {
      "cell_type": "code",
      "execution_count": null,
      "metadata": {
        "colab": {
          "base_uri": "https://localhost:8080/",
          "height": 279
        },
        "id": "ZF1uXfIPMK_U",
        "outputId": "cc3568cb-830d-482a-8617-d1f5007d727c"
      },
      "outputs": [
        {
          "data": {
            "image/png": "[encoded data removed]",
            "text/plain": [
              "<Figure size 432x288 with 1 Axes>"
            ]
          },
          "metadata": {},
          "output_type": "display_data"
        }
      ],
      "source": [
        "plt.hist(y_parkinsons,bins = 50,alpha=0.8,color = \"gray\", edgecolor = \"dimgray\")\n",
        "plt.xlabel('UPDRS score')\n",
        "plt.ylabel('count')\n",
        "plt.show()"
      ]
    },
    {
      "cell_type": "markdown",
      "metadata": {
        "id": "0-iLSyW5fd-4"
      },
      "source": [
        "Implement KNN function:"
      ]
    },
    {
      "cell_type": "code",
      "execution_count": 28,
      "metadata": {
        "id": "uhyC6jXMtkfN"
      },
      "outputs": [],
      "source": [
        "def knn_regession(train,test,y_train, k, dist = 'euclidean'):\n",
        "    \n",
        "    distances = distance.cdist(test, train, dist)\n",
        "\n",
        "    def get_prediction(i):\n",
        "      closest_indices =  np.argsort(distances[i,:])[:k]\n",
        "      return y_train.iloc[closest_indices].mean()\n",
        "\n",
        "    res = list(map(get_prediction,range(len(test))))\n",
        "\n",
        "    return res"
      ]
    },
    {
      "cell_type": "code",
      "execution_count": 29,
      "metadata": {
        "colab": {
          "base_uri": "https://localhost:8080/"
        },
        "id": "IyUCSXy1tkfO",
        "outputId": "4ff5a723-a755-4183-e232-c495a4401d28"
      },
      "outputs": [
        {
          "output_type": "stream",
          "name": "stdout",
          "text": [
            "15.446009812454127\n",
            "2.0913538723404255\n"
          ]
        }
      ],
      "source": [
        "# test on random parameters\n",
        "predicted = knn_regession(x_train_parkinsons_sc,x_test_parkinsons_sc,y_train_parkinsons, 5)\n",
        "print(mean_squared_error(y_test_parkinsons, predicted))\n",
        "print(mean_absolute_error(y_test_parkinsons,predicted))"
      ]
    },
    {
      "cell_type": "markdown",
      "metadata": {
        "id": "WlQAkkeXtkfU"
      },
      "source": [
        "Find optimal distance function and number of neighbors using cross validation:"
      ]
    },
    {
      "cell_type": "code",
      "execution_count": 4,
      "metadata": {
        "id": "6CyhTj15tkfY"
      },
      "outputs": [],
      "source": [
        "dist_list = [ 'canberra', 'chebyshev', 'cityblock', 'cosine', 'euclidean',  'minkowski']\n",
        "\n",
        "def CV(x_train,y_train, k_cv, k_range, dist_list,metric):\n",
        "\n",
        "    kf = KFold(n_splits=k_cv)\n",
        "    \n",
        "    all_mse = []\n",
        "\n",
        "    if metric == \"MAE\":\n",
        "        metric_func = mean_absolute_error\n",
        "    elif metric == \"MSE\":\n",
        "        metric_func = mean_squared_error\n",
        "\n",
        "    for dist in dist_list:\n",
        "        for k in k_range:\n",
        "            err = []\n",
        "            for train, test in kf.split(x_train):\n",
        "                res =  knn_regession(x_train.iloc[train],x_train.iloc[test],y_train, k,dist)\n",
        "                err.append(metric_func(y_train.iloc[test], res))\n",
        "            all_mse.append(np.mean(err))\n",
        "\n",
        "    dists = np.repeat(dist_list,len(k_range))\n",
        "    ks = list(k_range)*len(dist_list)\n",
        "\n",
        "    zipped= zip(dists,ks)\n",
        "    indixes = list(zipped)\n",
        "    result_combination = indixes[np.argmin(all_mse)]\n",
        "\n",
        "    return print(\"Best\",k_cv,\"fold cross-validation results using\", result_combination[1],\"nearest neighbors and the\", result_combination[0],\"distance\",\"\\nMSE:\",np.min(all_mse))\n",
        "\n"
      ]
    },
    {
      "cell_type": "code",
      "execution_count": 40,
      "metadata": {
        "colab": {
          "base_uri": "https://localhost:8080/"
        },
        "id": "i8jIrTJcZyJ3",
        "outputId": "fc26e6e5-fd86-4790-8974-eb931826d7f0"
      },
      "outputs": [
        {
          "output_type": "stream",
          "name": "stdout",
          "text": [
            "Best 5 fold cross-validation results using 13 nearest neighbors and the cityblock distance \n",
            "MSE: 59.68399555647485\n"
          ]
        }
      ],
      "source": [
        "k_range = range(1,20)\n",
        "CV(x_train_parkinsons_sc,y_train_parkinsons,5,k_range,dist_list,\"MSE\")"
      ]
    },
    {
      "cell_type": "code",
      "execution_count": 5,
      "metadata": {
        "id": "OlLyIh-GtkfY"
      },
      "outputs": [],
      "source": [
        "def k_seq(train,test,y_train,y_test,k_range, metric,dist):\n",
        "    all_mse = []\n",
        "    \n",
        "    if metric == \"MAE\":\n",
        "        metric_func = mean_absolute_error\n",
        "    elif metric == \"MSE\":\n",
        "        metric_func = mean_squared_error\n",
        "\n",
        "    def get_metric(k):\n",
        "      return metric_func(y_test, knn_regession(train,test,y_train,k,dist))\n",
        "\n",
        "    all_mse = list(map(get_metric,k_range))\n",
        "\n",
        "    best_k_ind = np.argmin(all_mse)\n",
        "    best_k = k_range[best_k_ind]\n",
        "    \n",
        "    c = [\"r\" if k == best_k else \"#653700\" for k in k_range]\n",
        "\n",
        "    plt.scatter(k_range, all_mse,c = c)\n",
        "    plt.title('Evaluation on different k')\n",
        "    plt.xlabel('k')\n",
        "    plt.ylabel(metric)\n",
        "    plt.show()\n",
        "\n",
        "    return(print(\"Best k using\",dist,\"distance:\",best_k, \"\\n\",metric,\": \",all_mse[best_k_ind]))"
      ]
    },
    {
      "cell_type": "code",
      "execution_count": 30,
      "metadata": {
        "colab": {
          "base_uri": "https://localhost:8080/",
          "height": 332
        },
        "id": "ALaz32sztkfZ",
        "outputId": "7b7a0d7e-be5f-41d8-af7a-aff59d62d1ec"
      },
      "outputs": [
        {
          "output_type": "display_data",
          "data": {
            "text/plain": [
              "<Figure size 432x288 with 1 Axes>"
            ],
            "image/png": "[encoded data removed]"
          },
          "metadata": {
            "needs_background": "light"
          }
        },
        {
          "output_type": "stream",
          "name": "stdout",
          "text": [
            "Best k using cityblock distance: 5 \n",
            " MSE :  14.56879647450996\n"
          ]
        }
      ],
      "source": [
        "k_seq(x_train_parkinsons_sc,x_test_parkinsons_sc, y_train_parkinsons,y_test_parkinsons, range(1,100,2),\"MSE\",\"cityblock\")"
      ]
    },
    {
      "cell_type": "code",
      "execution_count": 31,
      "metadata": {
        "colab": {
          "base_uri": "https://localhost:8080/",
          "height": 332
        },
        "id": "H1eauJPctkfa",
        "outputId": "3c73a157-d35a-488c-bcb8-5bf76c27c5ed"
      },
      "outputs": [
        {
          "output_type": "display_data",
          "data": {
            "text/plain": [
              "<Figure size 432x288 with 1 Axes>"
            ],
            "image/png": "[encoded data removed]"
          },
          "metadata": {
            "needs_background": "light"
          }
        },
        {
          "output_type": "stream",
          "name": "stdout",
          "text": [
            "Best k using cityblock distance: 1 \n",
            " MAE :  1.9154936170212766\n"
          ]
        }
      ],
      "source": [
        "k_seq(x_train_parkinsons_sc,x_test_parkinsons_sc, y_train_parkinsons,y_test_parkinsons, range(1,100,2),\"MAE\",\"cityblock\")"
      ]
    },
    {
      "cell_type": "code",
      "execution_count": 41,
      "metadata": {
        "colab": {
          "base_uri": "https://localhost:8080/",
          "height": 332
        },
        "id": "va6xSt5itkfa",
        "outputId": "9735b8b2-60d1-450b-fdbc-eb6d1a717414"
      },
      "outputs": [
        {
          "output_type": "display_data",
          "data": {
            "text/plain": [
              "<Figure size 432x288 with 1 Axes>"
            ],
            "image/png": "[encoded data removed]"
          },
          "metadata": {
            "needs_background": "light"
          }
        },
        {
          "output_type": "stream",
          "name": "stdout",
          "text": [
            "19.397323393080143\n",
            "2.938851751227496\n"
          ]
        }
      ],
      "source": [
        "y_pred_parkinson = knn_regession(x_train_parkinsons_sc,x_test_parkinsons_sc,y_train_parkinsons,13,\"cityblock\")\n",
        "plt.scatter(y_test_parkinsons,y_pred_parkinson,alpha=0.3, c= \"#653700\")\n",
        "plt.title('My KNN')\n",
        "plt.xlabel('actual')\n",
        "plt.ylabel('predicted')\n",
        "plt.show()\n",
        "\n",
        "print(mean_squared_error(y_test_parkinsons, y_pred_parkinson))\n",
        "print(mean_absolute_error(y_test_parkinsons,y_pred_parkinson))"
      ]
    },
    {
      "cell_type": "markdown",
      "metadata": {
        "id": "OIQEbLwBtkfc"
      },
      "source": [
        "Compare the algorithm to the existing sklearn function:"
      ]
    },
    {
      "cell_type": "code",
      "execution_count": 43,
      "metadata": {
        "colab": {
          "base_uri": "https://localhost:8080/",
          "height": 295
        },
        "id": "imRY_L6dtkfb",
        "outputId": "a06c0cc1-26f5-444b-bfe3-10ea995475cd"
      },
      "outputs": [
        {
          "output_type": "display_data",
          "data": {
            "text/plain": [
              "<Figure size 432x288 with 1 Axes>"
            ],
            "image/png": "[encoded data removed]"
          },
          "metadata": {
            "needs_background": "light"
          }
        }
      ],
      "source": [
        "knn = KNeighborsRegressor(n_neighbors=13,metric=\"cityblock\")\n",
        "knn.fit(x_train_parkinsons_sc,y_train_parkinsons)\n",
        "y_pred_parkinson2 = knn.predict(x_test_parkinsons_sc)\n",
        "\n",
        "plt.scatter(y_test_parkinsons, y_pred_parkinson2,alpha=0.3, c= \"#653700\")\n",
        "plt.title('Sklearn KNN')\n",
        "plt.xlabel('actual')\n",
        "plt.ylabel('predicted')\n",
        "plt.show()"
      ]
    },
    {
      "cell_type": "code",
      "execution_count": 44,
      "metadata": {
        "colab": {
          "base_uri": "https://localhost:8080/"
        },
        "id": "cfRPzc8Ytkfc",
        "outputId": "64c60679-46c0-4e3d-9066-6be85675111b"
      },
      "outputs": [
        {
          "output_type": "stream",
          "name": "stdout",
          "text": [
            "19.397323393080143\n",
            "2.938851751227496\n"
          ]
        }
      ],
      "source": [
        "print(mean_squared_error(y_test_parkinsons, y_pred_parkinson2))\n",
        "print(mean_absolute_error(y_test_parkinsons,y_pred_parkinson2))"
      ]
    },
    {
      "cell_type": "markdown",
      "metadata": {
        "id": "xzI-z3MTCdJX"
      },
      "source": [
        "Cross validated results"
      ]
    },
    {
      "cell_type": "code",
      "execution_count": 22,
      "metadata": {
        "id": "VCxzOvfHCfA0"
      },
      "outputs": [],
      "source": [
        "def CV_final(x_train,y_train, k_cv, k, dist,metric):\n",
        "    \n",
        "    kf = KFold(n_splits=k_cv)\n",
        "    \n",
        "    if metric == \"MAE\":\n",
        "        metric_func = mean_absolute_error\n",
        "    elif metric == \"MSE\":\n",
        "        metric_func = mean_squared_error\n",
        "\n",
        "    err = []\n",
        "    for train, test in kf.split(x_train):\n",
        "        res =  knn_regession(x_train.iloc[train],x_train.iloc[test],y_train, k,dist)\n",
        "        err.append(metric_func(y_train.iloc[test], res))\n",
        "\n",
        "    return err\n"
      ]
    },
    {
      "cell_type": "code",
      "execution_count": 36,
      "metadata": {
        "colab": {
          "base_uri": "https://localhost:8080/"
        },
        "id": "aHTrp1x2DfDX",
        "outputId": "aad33723-a610-4b5c-b308-1a83793f825b"
      },
      "outputs": [
        {
          "output_type": "execute_result",
          "data": {
            "text/plain": [
              "[125.50213759596211,\n",
              " 92.0865447929847,\n",
              " 56.52271016463192,\n",
              " 35.39484627113958,\n",
              " 14.23884147266085]"
            ]
          },
          "metadata": {},
          "execution_count": 36
        }
      ],
      "source": [
        "CV_final(x_train_parkinsons_sc,y_train_parkinsons,5,5,\"cityblock\",\"MSE\")"
      ]
    },
    {
      "cell_type": "code",
      "execution_count": 37,
      "metadata": {
        "colab": {
          "base_uri": "https://localhost:8080/"
        },
        "id": "mDpLAbGODu25",
        "outputId": "1e1a04c0-58bd-46d6-afe1-f44dc8e8dd6a"
      },
      "outputs": [
        {
          "output_type": "execute_result",
          "data": {
            "text/plain": [
              "[9.07988840425532,\n",
              " 7.543786510638299,\n",
              " 5.711356021276597,\n",
              " 4.257597191489362,\n",
              " 2.1908872978723406]"
            ]
          },
          "metadata": {},
          "execution_count": 37
        }
      ],
      "source": [
        "CV_final(x_train_parkinsons_sc,y_train_parkinsons,5,5,\"cityblock\",\"MAE\")"
      ]
    },
    {
      "cell_type": "markdown",
      "metadata": {
        "id": "0apWi4KAgxtA"
      },
      "source": [
        "# Possum data"
      ]
    },
    {
      "cell_type": "code",
      "execution_count": null,
      "metadata": {
        "id": "3SN2ZgVJgzvX"
      },
      "outputs": [],
      "source": [
        "possum_path= 'possum.csv'\n",
        "possum = pd.read_csv(possum_path)\n",
        "possum = possum.dropna()\n",
        "\n",
        "possum['sex'].replace({'m':0, 'f':1}, inplace=True)\n",
        "possum['Pop'].replace({'Vic':0, 'other':1, }, inplace=True)\n",
        "X_possum= possum.drop(possum.columns[[0,4]], axis=1) \n",
        "y_possum=possum[\"age\"]\n",
        "x_train_possum, x_test_possum, y_train_possum, y_test_possum = train_test_split(X_possum, y_possum, test_size=0.2, random_state= 0)\n",
        "# scale data\n",
        "scaler = StandardScaler()\n",
        "x_train_possum_sc =  scaler.fit_transform(x_train_possum)\n",
        "x_test_possum_sc =  scaler.fit_transform(x_test_possum)"
      ]
    },
    {
      "cell_type": "code",
      "execution_count": null,
      "metadata": {
        "colab": {
          "base_uri": "https://localhost:8080/"
        },
        "id": "a30E5dtR94iV",
        "outputId": "dc275fe0-4959-4837-ce94-60648aacb2fa"
      },
      "outputs": [
        {
          "name": "stdout",
          "output_type": "stream",
          "text": [
            "Best 5 fold cross-validation results using 10 nearest neighbors and the chebyshev distance \n",
            "MSE: 3.1762499999999996\n"
          ]
        }
      ],
      "source": [
        "k_range = range(1,40)\n",
        "x_train_possum_sc = pd.DataFrame(x_train_possum_sc)\n",
        "CV(x_train_possum_sc,y_train_possum,5,k_range,dist_list,\"MSE\")"
      ]
    },
    {
      "cell_type": "code",
      "execution_count": null,
      "metadata": {
        "id": "faykfN49WFLI"
      },
      "outputs": [],
      "source": [
        ""
      ]
    },
    {
      "cell_type": "code",
      "execution_count": null,
      "metadata": {
        "colab": {
          "base_uri": "https://localhost:8080/",
          "height": 332
        },
        "id": "r1bkRgc_9hln",
        "outputId": "9f87b0a5-5c88-4d83-fc62-e9fe51a0a51b"
      },
      "outputs": [
        {
          "data": {
            "image/png": "[encoded data removed]",
            "text/plain": [
              "<Figure size 432x288 with 1 Axes>"
            ]
          },
          "metadata": {},
          "output_type": "display_data"
        },
        {
          "name": "stdout",
          "output_type": "stream",
          "text": [
            "Best k using chebyshev distance: 3 \n",
            " MSE :  3.0423280423280423\n"
          ]
        }
      ],
      "source": [
        "k_seq(x_train_possum_sc,x_test_possum_sc, y_train_possum,y_test_possum, range(1,100,2),\"MSE\",\"chebyshev\")"
      ]
    },
    {
      "cell_type": "code",
      "execution_count": null,
      "metadata": {
        "colab": {
          "base_uri": "https://localhost:8080/",
          "height": 332
        },
        "id": "BdLzjJAj9trd",
        "outputId": "85e6e15a-88e4-4a89-b060-b91f4e75a1ec"
      },
      "outputs": [
        {
          "data": {
            "image/png": "[encoded data removed]",
            "text/plain": [
              "<Figure size 432x288 with 1 Axes>"
            ]
          },
          "metadata": {},
          "output_type": "display_data"
        },
        {
          "name": "stdout",
          "output_type": "stream",
          "text": [
            "Best k using chebyshev distance: 3 \n",
            " MAE :  1.2857142857142856\n"
          ]
        }
      ],
      "source": [
        "k_seq(x_train_possum_sc,x_test_possum_sc, y_train_possum,y_test_possum, range(1,100,2),\"MAE\",\"chebyshev\")"
      ]
    },
    {
      "cell_type": "code",
      "execution_count": null,
      "metadata": {
        "colab": {
          "base_uri": "https://localhost:8080/",
          "height": 332
        },
        "id": "aqxywOXn-bLh",
        "outputId": "ae7a1827-b583-4e34-f561-ff7d2f2c88d0"
      },
      "outputs": [
        {
          "data": {
            "image/png": "[encoded data removed]",
            "text/plain": [
              "<Figure size 432x288 with 1 Axes>"
            ]
          },
          "metadata": {},
          "output_type": "display_data"
        },
        {
          "name": "stdout",
          "output_type": "stream",
          "text": [
            "3.6795238095238094\n",
            "1.519047619047619\n"
          ]
        }
      ],
      "source": [
        "y_pred_poss = knn_regession(x_train_possum_sc,x_test_possum_sc,y_train_possum,10,\"chebyshev\")\n",
        "#y_pred_poss = [round(i,0) for i in y_pred_poss]\n",
        "\n",
        "plt.scatter(y_test_possum,y_pred_poss,alpha=0.8, c= \"#653700\")\n",
        "plt.title('My KNN')\n",
        "plt.xlabel('actual')\n",
        "plt.ylabel('predicted')\n",
        "plt.show()\n",
        "\n",
        "print(mean_squared_error(y_test_possum, y_pred_poss))\n",
        "print(mean_absolute_error(y_test_possum,y_pred_poss))"
      ]
    },
    {
      "cell_type": "code",
      "execution_count": null,
      "metadata": {
        "colab": {
          "base_uri": "https://localhost:8080/",
          "height": 332
        },
        "id": "N2-hBmXPAF41",
        "outputId": "73c1531d-162c-400d-ec75-9e4ffd60ed94"
      },
      "outputs": [
        {
          "data": {
            "image/png": "[encoded data removed]",
            "text/plain": [
              "<Figure size 432x288 with 1 Axes>"
            ]
          },
          "metadata": {},
          "output_type": "display_data"
        },
        {
          "name": "stdout",
          "output_type": "stream",
          "text": [
            "3.854285714285714\n",
            "1.5238095238095242\n"
          ]
        }
      ],
      "source": [
        "knn = KNeighborsRegressor(n_neighbors=10,metric=\"chebyshev\")\n",
        "knn.fit(x_train_possum_sc,y_train_possum)\n",
        "y_pred_poss2 = knn.predict(x_test_possum_sc)\n",
        "#y_pred_poss2 = [round(i,0) for i in y_pred_poss2]\n",
        "\n",
        "plt.scatter(y_test_possum, y_pred_poss2,alpha=0.8, c= \"#653700\")\n",
        "plt.title('Sklearn KNN')\n",
        "plt.xlabel('actual')\n",
        "plt.ylabel('predicted')\n",
        "plt.show()\n",
        "\n",
        "print(mean_squared_error(y_test_possum, y_pred_poss2))\n",
        "print(mean_absolute_error(y_test_possum,y_pred_poss2))"
      ]
    },
    {
      "cell_type": "code",
      "execution_count": null,
      "metadata": {
        "colab": {
          "base_uri": "https://localhost:8080/"
        },
        "id": "x8ujp6pDD3Y0",
        "outputId": "dcc20b06-5eb9-43b4-8371-2697d2f2c894"
      },
      "outputs": [
        {
          "data": {
            "text/plain": [
              "[2.428125, 3.7731250000000003, 4.7375, 2.86, 2.0825]"
            ]
          },
          "execution_count": 115,
          "metadata": {},
          "output_type": "execute_result"
        }
      ],
      "source": [
        "CV_final(x_train_possum_sc,y_train_possum,5,10,\"chebyshev\",\"MSE\")"
      ]
    },
    {
      "cell_type": "code",
      "execution_count": null,
      "metadata": {
        "colab": {
          "base_uri": "https://localhost:8080/"
        },
        "id": "3YJyLasXD-5G",
        "outputId": "f6a9fc74-11ae-445a-a29d-58a43b7771da"
      },
      "outputs": [
        {
          "data": {
            "text/plain": [
              "[1.31875, 1.66875, 1.7875, 1.45, 1.2125]"
            ]
          },
          "execution_count": 116,
          "metadata": {},
          "output_type": "execute_result"
        }
      ],
      "source": [
        "CV_final(x_train_possum_sc,y_train_possum,5,10,\"chebyshev\",\"MAE\")"
      ]
    },
    {
      "cell_type": "markdown",
      "metadata": {
        "id": "yQGYMCZvg-Lu"
      },
      "source": [
        "## Diamonds data"
      ]
    },
    {
      "cell_type": "code",
      "execution_count": 24,
      "metadata": {
        "id": "zf285C7YhAPJ"
      },
      "outputs": [],
      "source": [
        "diamonds_path = 'diamonds.csv'\n",
        "diamonds = pd.read_csv(diamonds_path)\n",
        "\n",
        "diamonds['cut'].replace({'Fair':0, 'Good':1, '\\'Very Good\\'':2, 'Premium':3, 'Ideal':4}, inplace=True)\n",
        "diamonds['color'].replace({'J':0, 'I':1, 'H':2, 'G':3, 'F':4, 'E':5, 'D':6}, inplace=True)\n",
        "diamonds['clarity'].replace({'I1':0, 'SI2':1, 'SI1':2, 'VS2':3, 'VS1':4, 'VVS2':5, 'VVS1':6, 'IF':7}, inplace=True)\n",
        "#diamonds_norm=diamonds.apply(lambda rec:(rec-rec.mean())/rec.std(),axis=0)\n",
        "X_diamonds= diamonds.drop(diamonds.columns[[6]], axis=1) \n",
        "y_diamonds=diamonds[\"price\"]\n",
        "x_train_diamonds, x_test_diamonds, y_train_diamonds, y_test_diamonds = train_test_split(X_diamonds, y_diamonds, test_size=0.2, random_state= 0)\n",
        "# scale data\n",
        "scaler = StandardScaler()\n",
        "x_train_diamonds_sc =  scaler.fit_transform(x_train_diamonds)\n",
        "x_test_diamonds_sc =  scaler.fit_transform(x_test_diamonds)\n",
        "x_train_diamonds_sc = pd.DataFrame(x_train_diamonds_sc)\n"
      ]
    },
    {
      "cell_type": "code",
      "execution_count": 7,
      "metadata": {
        "colab": {
          "base_uri": "https://localhost:8080/",
          "height": 206
        },
        "id": "2Ck-crFVzKSX",
        "outputId": "f6da2552-089a-4653-e6d6-7479ebabf970"
      },
      "outputs": [
        {
          "output_type": "execute_result",
          "data": {
            "text/plain": [
              "   carat  cut  color  clarity  depth  table  price     x     y     z\n",
              "0   0.23    4      5        1   61.5   55.0    326  3.95  3.98  2.43\n",
              "1   0.21    3      5        2   59.8   61.0    326  3.89  3.84  2.31\n",
              "2   0.23    1      5        4   56.9   65.0    327  4.05  4.07  2.31\n",
              "3   0.29    3      1        3   62.4   58.0    334  4.20  4.23  2.63\n",
              "4   0.31    1      0        1   63.3   58.0    335  4.34  4.35  2.75"
            ],
            "text/html": [
              "\n",
              "  <div id=\"df-ec35be18-0de5-4fcd-8359-c9fe42a2eed3\">\n",
              "    <div class=\"colab-df-container\">\n",
              "      <div>\n",
              "<style scoped>\n",
              "    .dataframe tbody tr th:only-of-type {\n",
              "        vertical-align: middle;\n",
              "    }\n",
              "\n",
              "    .dataframe tbody tr th {\n",
              "        vertical-align: top;\n",
              "    }\n",
              "\n",
              "    .dataframe thead th {\n",
              "        text-align: right;\n",
              "    }\n",
              "</style>\n",
              "<table border=\"1\" class=\"dataframe\">\n",
              "  <thead>\n",
              "    <tr style=\"text-align: right;\">\n",
              "      <th></th>\n",
              "      <th>carat</th>\n",
              "      <th>cut</th>\n",
              "      <th>color</th>\n",
              "      <th>clarity</th>\n",
              "      <th>depth</th>\n",
              "      <th>table</th>\n",
              "      <th>price</th>\n",
              "      <th>x</th>\n",
              "      <th>y</th>\n",
              "      <th>z</th>\n",
              "    </tr>\n",
              "  </thead>\n",
              "  <tbody>\n",
              "    <tr>\n",
              "      <th>0</th>\n",
              "      <td>0.23</td>\n",
              "      <td>4</td>\n",
              "      <td>5</td>\n",
              "      <td>1</td>\n",
              "      <td>61.5</td>\n",
              "      <td>55.0</td>\n",
              "      <td>326</td>\n",
              "      <td>3.95</td>\n",
              "      <td>3.98</td>\n",
              "      <td>2.43</td>\n",
              "    </tr>\n",
              "    <tr>\n",
              "      <th>1</th>\n",
              "      <td>0.21</td>\n",
              "      <td>3</td>\n",
              "      <td>5</td>\n",
              "      <td>2</td>\n",
              "      <td>59.8</td>\n",
              "      <td>61.0</td>\n",
              "      <td>326</td>\n",
              "      <td>3.89</td>\n",
              "      <td>3.84</td>\n",
              "      <td>2.31</td>\n",
              "    </tr>\n",
              "    <tr>\n",
              "      <th>2</th>\n",
              "      <td>0.23</td>\n",
              "      <td>1</td>\n",
              "      <td>5</td>\n",
              "      <td>4</td>\n",
              "      <td>56.9</td>\n",
              "      <td>65.0</td>\n",
              "      <td>327</td>\n",
              "      <td>4.05</td>\n",
              "      <td>4.07</td>\n",
              "      <td>2.31</td>\n",
              "    </tr>\n",
              "    <tr>\n",
              "      <th>3</th>\n",
              "      <td>0.29</td>\n",
              "      <td>3</td>\n",
              "      <td>1</td>\n",
              "      <td>3</td>\n",
              "      <td>62.4</td>\n",
              "      <td>58.0</td>\n",
              "      <td>334</td>\n",
              "      <td>4.20</td>\n",
              "      <td>4.23</td>\n",
              "      <td>2.63</td>\n",
              "    </tr>\n",
              "    <tr>\n",
              "      <th>4</th>\n",
              "      <td>0.31</td>\n",
              "      <td>1</td>\n",
              "      <td>0</td>\n",
              "      <td>1</td>\n",
              "      <td>63.3</td>\n",
              "      <td>58.0</td>\n",
              "      <td>335</td>\n",
              "      <td>4.34</td>\n",
              "      <td>4.35</td>\n",
              "      <td>2.75</td>\n",
              "    </tr>\n",
              "  </tbody>\n",
              "</table>\n",
              "</div>\n",
              "      <button class=\"colab-df-convert\" onclick=\"convertToInteractive('df-ec35be18-0de5-4fcd-8359-c9fe42a2eed3')\"\n",
              "              title=\"Convert this dataframe to an interactive table.\"\n",
              "              style=\"display:none;\">\n",
              "        \n",
              "  <svg xmlns=\"http://www.w3.org/2000/svg\" height=\"24px\"viewBox=\"0 0 24 24\"\n",
              "       width=\"24px\">\n",
              "    <path d=\"M0 0h24v24H0V0z\" fill=\"none\"/>\n",
              "    <path d=\"M18.56 5.44l.94 2.06.94-2.06 2.06-.94-2.06-.94-.94-2.06-.94 2.06-2.06.94zm-11 1L8.5 8.5l.94-2.06 2.06-.94-2.06-.94L8.5 2.5l-.94 2.06-2.06.94zm10 10l.94 2.06.94-2.06 2.06-.94-2.06-.94-.94-2.06-.94 2.06-2.06.94z\"/><path d=\"M17.41 7.96l-1.37-1.37c-.4-.4-.92-.59-1.43-.59-.52 0-1.04.2-1.43.59L10.3 9.45l-7.72 7.72c-.78.78-.78 2.05 0 2.83L4 21.41c.39.39.9.59 1.41.59.51 0 1.02-.2 1.41-.59l7.78-7.78 2.81-2.81c.8-.78.8-2.07 0-2.86zM5.41 20L4 18.59l7.72-7.72 1.47 1.35L5.41 20z\"/>\n",
              "  </svg>\n",
              "      </button>\n",
              "      \n",
              "  <style>\n",
              "    .colab-df-container {\n",
              "      display:flex;\n",
              "      flex-wrap:wrap;\n",
              "      gap: 12px;\n",
              "    }\n",
              "\n",
              "    .colab-df-convert {\n",
              "      background-color: #E8F0FE;\n",
              "      border: none;\n",
              "      border-radius: 50%;\n",
              "      cursor: pointer;\n",
              "      display: none;\n",
              "      fill: #1967D2;\n",
              "      height: 32px;\n",
              "      padding: 0 0 0 0;\n",
              "      width: 32px;\n",
              "    }\n",
              "\n",
              "    .colab-df-convert:hover {\n",
              "      background-color: #E2EBFA;\n",
              "      box-shadow: 0px 1px 2px rgba(60, 64, 67, 0.3), 0px 1px 3px 1px rgba(60, 64, 67, 0.15);\n",
              "      fill: #174EA6;\n",
              "    }\n",
              "\n",
              "    [theme=dark] .colab-df-convert {\n",
              "      background-color: #3B4455;\n",
              "      fill: #D2E3FC;\n",
              "    }\n",
              "\n",
              "    [theme=dark] .colab-df-convert:hover {\n",
              "      background-color: #434B5C;\n",
              "      box-shadow: 0px 1px 3px 1px rgba(0, 0, 0, 0.15);\n",
              "      filter: drop-shadow(0px 1px 2px rgba(0, 0, 0, 0.3));\n",
              "      fill: #FFFFFF;\n",
              "    }\n",
              "  </style>\n",
              "\n",
              "      <script>\n",
              "        const buttonEl =\n",
              "          document.querySelector('#df-ec35be18-0de5-4fcd-8359-c9fe42a2eed3 button.colab-df-convert');\n",
              "        buttonEl.style.display =\n",
              "          google.colab.kernel.accessAllowed ? 'block' : 'none';\n",
              "\n",
              "        async function convertToInteractive(key) {\n",
              "          const element = document.querySelector('#df-ec35be18-0de5-4fcd-8359-c9fe42a2eed3');\n",
              "          const dataTable =\n",
              "            await google.colab.kernel.invokeFunction('convertToInteractive',\n",
              "                                                     [key], {});\n",
              "          if (!dataTable) return;\n",
              "\n",
              "          const docLinkHtml = 'Like what you see? Visit the ' +\n",
              "            '<a target=\"_blank\" href=https://colab.research.google.com/notebooks/data_table.ipynb>data table notebook</a>'\n",
              "            + ' to learn more about interactive tables.';\n",
              "          element.innerHTML = '';\n",
              "          dataTable['output_type'] = 'display_data';\n",
              "          await google.colab.output.renderOutput(dataTable, element);\n",
              "          const docLink = document.createElement('div');\n",
              "          docLink.innerHTML = docLinkHtml;\n",
              "          element.appendChild(docLink);\n",
              "        }\n",
              "      </script>\n",
              "    </div>\n",
              "  </div>\n",
              "  "
            ]
          },
          "metadata": {},
          "execution_count": 7
        }
      ],
      "source": [
        "diamonds.head()"
      ]
    },
    {
      "cell_type": "code",
      "execution_count": null,
      "metadata": {
        "colab": {
          "background_save": true
        },
        "id": "U4QWQWnsA4Tc",
        "outputId": "9dcecb24-8dfc-441e-f598-c6f4ba54b2ba"
      },
      "outputs": [
        {
          "name": "stdout",
          "output_type": "stream",
          "text": [
            "Best 5 fold cross-validation results using 19 nearest neighbors and the cityblock distance \n",
            "MSE: 6843911.823228983\n"
          ]
        }
      ],
      "source": [
        "k_range = range(1,20,2)\n",
        "CV(x_train_diamonds_sc,y_train_diamonds,5,k_range,dist_list,\"MSE\")"
      ]
    },
    {
      "cell_type": "code",
      "execution_count": null,
      "metadata": {
        "colab": {
          "base_uri": "https://localhost:8080/",
          "height": 360
        },
        "id": "yA0fw-30mmE1",
        "outputId": "76d9416e-4b27-4f41-9a51-2142781670d7"
      },
      "outputs": [
        {
          "ename": "KeyboardInterrupt",
          "evalue": "ignored",
          "output_type": "error",
          "traceback": [
            "\u001b[0;31m---------------------------------------------------------------------------\u001b[0m",
            "\u001b[0;31mKeyboardInterrupt\u001b[0m                         Traceback (most recent call last)",
            "\u001b[0;32m<ipython-input-88-a17cd00bda54>\u001b[0m in \u001b[0;36m<module>\u001b[0;34m()\u001b[0m\n\u001b[0;32m----> 1\u001b[0;31m \u001b[0mk_seq\u001b[0m\u001b[0;34m(\u001b[0m\u001b[0mx_train_diamonds_sc\u001b[0m\u001b[0;34m,\u001b[0m\u001b[0mx_test_diamonds_sc\u001b[0m\u001b[0;34m,\u001b[0m \u001b[0my_train_diamonds\u001b[0m\u001b[0;34m,\u001b[0m\u001b[0my_test_diamonds\u001b[0m\u001b[0;34m,\u001b[0m \u001b[0mrange\u001b[0m\u001b[0;34m(\u001b[0m\u001b[0;36m1\u001b[0m\u001b[0;34m,\u001b[0m\u001b[0;36m50\u001b[0m\u001b[0;34m,\u001b[0m\u001b[0;36m2\u001b[0m\u001b[0;34m)\u001b[0m\u001b[0;34m,\u001b[0m\u001b[0;34m\"MSE\"\u001b[0m\u001b[0;34m,\u001b[0m\u001b[0;34m\"euclidean\"\u001b[0m\u001b[0;34m)\u001b[0m\u001b[0;34m\u001b[0m\u001b[0;34m\u001b[0m\u001b[0m\n\u001b[0m",
            "\u001b[0;32m<ipython-input-85-ce61c40343dd>\u001b[0m in \u001b[0;36mk_seq\u001b[0;34m(train, test, y_train, y_test, k_range, metric, dist)\u001b[0m\n\u001b[1;32m     12\u001b[0m       \u001b[0;32mreturn\u001b[0m \u001b[0mmetric_func\u001b[0m\u001b[0;34m(\u001b[0m\u001b[0my_test\u001b[0m\u001b[0;34m,\u001b[0m \u001b[0mknn_regession\u001b[0m\u001b[0;34m(\u001b[0m\u001b[0mtrain\u001b[0m\u001b[0;34m,\u001b[0m\u001b[0mtest\u001b[0m\u001b[0;34m,\u001b[0m\u001b[0my_train\u001b[0m\u001b[0;34m,\u001b[0m\u001b[0mk\u001b[0m\u001b[0;34m,\u001b[0m\u001b[0mdist\u001b[0m\u001b[0;34m)\u001b[0m\u001b[0;34m)\u001b[0m\u001b[0;34m\u001b[0m\u001b[0;34m\u001b[0m\u001b[0m\n\u001b[1;32m     13\u001b[0m \u001b[0;34m\u001b[0m\u001b[0m\n\u001b[0;32m---> 14\u001b[0;31m     \u001b[0mall_mse\u001b[0m \u001b[0;34m=\u001b[0m \u001b[0mlist\u001b[0m\u001b[0;34m(\u001b[0m\u001b[0mmap\u001b[0m\u001b[0;34m(\u001b[0m\u001b[0mget_metric\u001b[0m\u001b[0;34m,\u001b[0m\u001b[0mk_range\u001b[0m\u001b[0;34m)\u001b[0m\u001b[0;34m)\u001b[0m\u001b[0;34m\u001b[0m\u001b[0;34m\u001b[0m\u001b[0m\n\u001b[0m\u001b[1;32m     15\u001b[0m \u001b[0;34m\u001b[0m\u001b[0m\n\u001b[1;32m     16\u001b[0m     \u001b[0mbest_k_ind\u001b[0m \u001b[0;34m=\u001b[0m \u001b[0mnp\u001b[0m\u001b[0;34m.\u001b[0m\u001b[0margmin\u001b[0m\u001b[0;34m(\u001b[0m\u001b[0mall_mse\u001b[0m\u001b[0;34m)\u001b[0m\u001b[0;34m\u001b[0m\u001b[0;34m\u001b[0m\u001b[0m\n",
            "\u001b[0;32m<ipython-input-85-ce61c40343dd>\u001b[0m in \u001b[0;36mget_metric\u001b[0;34m(k)\u001b[0m\n\u001b[1;32m     10\u001b[0m      \u001b[0;31m# all_mse.append(metric_func(y_test, knn_regession(train,test,y_train,k,dist)))\u001b[0m\u001b[0;34m\u001b[0m\u001b[0;34m\u001b[0m\u001b[0;34m\u001b[0m\u001b[0m\n\u001b[1;32m     11\u001b[0m     \u001b[0;32mdef\u001b[0m \u001b[0mget_metric\u001b[0m\u001b[0;34m(\u001b[0m\u001b[0mk\u001b[0m\u001b[0;34m)\u001b[0m\u001b[0;34m:\u001b[0m\u001b[0;34m\u001b[0m\u001b[0;34m\u001b[0m\u001b[0m\n\u001b[0;32m---> 12\u001b[0;31m       \u001b[0;32mreturn\u001b[0m \u001b[0mmetric_func\u001b[0m\u001b[0;34m(\u001b[0m\u001b[0my_test\u001b[0m\u001b[0;34m,\u001b[0m \u001b[0mknn_regession\u001b[0m\u001b[0;34m(\u001b[0m\u001b[0mtrain\u001b[0m\u001b[0;34m,\u001b[0m\u001b[0mtest\u001b[0m\u001b[0;34m,\u001b[0m\u001b[0my_train\u001b[0m\u001b[0;34m,\u001b[0m\u001b[0mk\u001b[0m\u001b[0;34m,\u001b[0m\u001b[0mdist\u001b[0m\u001b[0;34m)\u001b[0m\u001b[0;34m)\u001b[0m\u001b[0;34m\u001b[0m\u001b[0;34m\u001b[0m\u001b[0m\n\u001b[0m\u001b[1;32m     13\u001b[0m \u001b[0;34m\u001b[0m\u001b[0m\n\u001b[1;32m     14\u001b[0m     \u001b[0mall_mse\u001b[0m \u001b[0;34m=\u001b[0m \u001b[0mlist\u001b[0m\u001b[0;34m(\u001b[0m\u001b[0mmap\u001b[0m\u001b[0;34m(\u001b[0m\u001b[0mget_metric\u001b[0m\u001b[0;34m,\u001b[0m\u001b[0mk_range\u001b[0m\u001b[0;34m)\u001b[0m\u001b[0;34m)\u001b[0m\u001b[0;34m\u001b[0m\u001b[0;34m\u001b[0m\u001b[0m\n",
            "\u001b[0;32m<ipython-input-80-ce82da50a89a>\u001b[0m in \u001b[0;36mknn_regession\u001b[0;34m(train, test, y_train, k, dist)\u001b[0m\n\u001b[1;32m     12\u001b[0m       \u001b[0;32mreturn\u001b[0m \u001b[0my_train\u001b[0m\u001b[0;34m.\u001b[0m\u001b[0miloc\u001b[0m\u001b[0;34m[\u001b[0m\u001b[0mclosest_indices\u001b[0m\u001b[0;34m]\u001b[0m\u001b[0;34m.\u001b[0m\u001b[0mmean\u001b[0m\u001b[0;34m(\u001b[0m\u001b[0;34m)\u001b[0m\u001b[0;34m\u001b[0m\u001b[0;34m\u001b[0m\u001b[0m\n\u001b[1;32m     13\u001b[0m \u001b[0;34m\u001b[0m\u001b[0m\n\u001b[0;32m---> 14\u001b[0;31m     \u001b[0mres\u001b[0m \u001b[0;34m=\u001b[0m \u001b[0mlist\u001b[0m\u001b[0;34m(\u001b[0m\u001b[0mmap\u001b[0m\u001b[0;34m(\u001b[0m\u001b[0mget_prediction\u001b[0m\u001b[0;34m,\u001b[0m\u001b[0mrange\u001b[0m\u001b[0;34m(\u001b[0m\u001b[0mlen\u001b[0m\u001b[0;34m(\u001b[0m\u001b[0mtest\u001b[0m\u001b[0;34m)\u001b[0m\u001b[0;34m)\u001b[0m\u001b[0;34m)\u001b[0m\u001b[0;34m)\u001b[0m\u001b[0;34m\u001b[0m\u001b[0;34m\u001b[0m\u001b[0m\n\u001b[0m\u001b[1;32m     15\u001b[0m \u001b[0;34m\u001b[0m\u001b[0m\n\u001b[1;32m     16\u001b[0m     \u001b[0;32mreturn\u001b[0m \u001b[0mres\u001b[0m\u001b[0;34m\u001b[0m\u001b[0;34m\u001b[0m\u001b[0m\n",
            "\u001b[0;32m<ipython-input-80-ce82da50a89a>\u001b[0m in \u001b[0;36mget_prediction\u001b[0;34m(i)\u001b[0m\n\u001b[1;32m      9\u001b[0m \u001b[0;34m\u001b[0m\u001b[0m\n\u001b[1;32m     10\u001b[0m     \u001b[0;32mdef\u001b[0m \u001b[0mget_prediction\u001b[0m\u001b[0;34m(\u001b[0m\u001b[0mi\u001b[0m\u001b[0;34m)\u001b[0m\u001b[0;34m:\u001b[0m\u001b[0;34m\u001b[0m\u001b[0;34m\u001b[0m\u001b[0m\n\u001b[0;32m---> 11\u001b[0;31m       \u001b[0mclosest_indices\u001b[0m \u001b[0;34m=\u001b[0m  \u001b[0mnp\u001b[0m\u001b[0;34m.\u001b[0m\u001b[0margsort\u001b[0m\u001b[0;34m(\u001b[0m\u001b[0mdistances\u001b[0m\u001b[0;34m[\u001b[0m\u001b[0mi\u001b[0m\u001b[0;34m,\u001b[0m\u001b[0;34m:\u001b[0m\u001b[0;34m]\u001b[0m\u001b[0;34m)\u001b[0m\u001b[0;34m[\u001b[0m\u001b[0;34m:\u001b[0m\u001b[0mk\u001b[0m\u001b[0;34m]\u001b[0m\u001b[0;34m\u001b[0m\u001b[0;34m\u001b[0m\u001b[0m\n\u001b[0m\u001b[1;32m     12\u001b[0m       \u001b[0;32mreturn\u001b[0m \u001b[0my_train\u001b[0m\u001b[0;34m.\u001b[0m\u001b[0miloc\u001b[0m\u001b[0;34m[\u001b[0m\u001b[0mclosest_indices\u001b[0m\u001b[0;34m]\u001b[0m\u001b[0;34m.\u001b[0m\u001b[0mmean\u001b[0m\u001b[0;34m(\u001b[0m\u001b[0;34m)\u001b[0m\u001b[0;34m\u001b[0m\u001b[0;34m\u001b[0m\u001b[0m\n\u001b[1;32m     13\u001b[0m \u001b[0;34m\u001b[0m\u001b[0m\n",
            "\u001b[0;32m<__array_function__ internals>\u001b[0m in \u001b[0;36margsort\u001b[0;34m(*args, **kwargs)\u001b[0m\n",
            "\u001b[0;32m/usr/local/lib/python3.7/dist-packages/numpy/core/fromnumeric.py\u001b[0m in \u001b[0;36margsort\u001b[0;34m(a, axis, kind, order)\u001b[0m\n\u001b[1;32m   1112\u001b[0m \u001b[0;34m\u001b[0m\u001b[0m\n\u001b[1;32m   1113\u001b[0m     \"\"\"\n\u001b[0;32m-> 1114\u001b[0;31m     \u001b[0;32mreturn\u001b[0m \u001b[0m_wrapfunc\u001b[0m\u001b[0;34m(\u001b[0m\u001b[0ma\u001b[0m\u001b[0;34m,\u001b[0m \u001b[0;34m'argsort'\u001b[0m\u001b[0;34m,\u001b[0m \u001b[0maxis\u001b[0m\u001b[0;34m=\u001b[0m\u001b[0maxis\u001b[0m\u001b[0;34m,\u001b[0m \u001b[0mkind\u001b[0m\u001b[0;34m=\u001b[0m\u001b[0mkind\u001b[0m\u001b[0;34m,\u001b[0m \u001b[0morder\u001b[0m\u001b[0;34m=\u001b[0m\u001b[0morder\u001b[0m\u001b[0;34m)\u001b[0m\u001b[0;34m\u001b[0m\u001b[0;34m\u001b[0m\u001b[0m\n\u001b[0m\u001b[1;32m   1115\u001b[0m \u001b[0;34m\u001b[0m\u001b[0m\n\u001b[1;32m   1116\u001b[0m \u001b[0;34m\u001b[0m\u001b[0m\n",
            "\u001b[0;32m/usr/local/lib/python3.7/dist-packages/numpy/core/fromnumeric.py\u001b[0m in \u001b[0;36m_wrapfunc\u001b[0;34m(obj, method, *args, **kwds)\u001b[0m\n\u001b[1;32m     55\u001b[0m \u001b[0;34m\u001b[0m\u001b[0m\n\u001b[1;32m     56\u001b[0m     \u001b[0;32mtry\u001b[0m\u001b[0;34m:\u001b[0m\u001b[0;34m\u001b[0m\u001b[0;34m\u001b[0m\u001b[0m\n\u001b[0;32m---> 57\u001b[0;31m         \u001b[0;32mreturn\u001b[0m \u001b[0mbound\u001b[0m\u001b[0;34m(\u001b[0m\u001b[0;34m*\u001b[0m\u001b[0margs\u001b[0m\u001b[0;34m,\u001b[0m \u001b[0;34m**\u001b[0m\u001b[0mkwds\u001b[0m\u001b[0;34m)\u001b[0m\u001b[0;34m\u001b[0m\u001b[0;34m\u001b[0m\u001b[0m\n\u001b[0m\u001b[1;32m     58\u001b[0m     \u001b[0;32mexcept\u001b[0m \u001b[0mTypeError\u001b[0m\u001b[0;34m:\u001b[0m\u001b[0;34m\u001b[0m\u001b[0;34m\u001b[0m\u001b[0m\n\u001b[1;32m     59\u001b[0m         \u001b[0;31m# A TypeError occurs if the object does have such a method in its\u001b[0m\u001b[0;34m\u001b[0m\u001b[0;34m\u001b[0m\u001b[0;34m\u001b[0m\u001b[0m\n",
            "\u001b[0;31mKeyboardInterrupt\u001b[0m: "
          ]
        }
      ],
      "source": [
        "k_seq(x_train_diamonds_sc,x_test_diamonds_sc, y_train_diamonds,y_test_diamonds, range(5,50,5),\"MSE\",\"euclidean\")"
      ]
    },
    {
      "cell_type": "code",
      "execution_count": null,
      "metadata": {
        "id": "OrNmC3XNmmBZ"
      },
      "outputs": [],
      "source": [
        "k_seq(x_train_diamonds_sc,x_test_diamonds_sc, y_train_diamonds,y_test_diamonds, range(1,50,2),\"MAE\",\"euclidean\")"
      ]
    },
    {
      "cell_type": "code",
      "execution_count": 12,
      "metadata": {
        "id": "ktNTIt3Lml_Q",
        "colab": {
          "base_uri": "https://localhost:8080/",
          "height": 332
        },
        "outputId": "eea5aba6-62c6-4f3c-c6ea-ad83199df5d1"
      },
      "outputs": [
        {
          "output_type": "display_data",
          "data": {
            "text/plain": [
              "<Figure size 432x288 with 1 Axes>"
            ],
            "image/png": "[encoded data removed]"
          },
          "metadata": {
            "needs_background": "light"
          }
        },
        {
          "output_type": "stream",
          "name": "stdout",
          "text": [
            "454465.26304690394\n",
            "340.13462180200224\n"
          ]
        }
      ],
      "source": [
        "y_pred_diamonds = knn_regession(x_train_diamonds_sc,x_test_diamonds_sc,y_train_diamonds,10,\"cityblock\")\n",
        "\n",
        "plt.scatter(y_test_diamonds,y_pred_diamonds,alpha=0.3, c= \"#653700\")\n",
        "plt.title('My KNN')\n",
        "plt.xlabel('actual')\n",
        "plt.ylabel('predicted')\n",
        "plt.show()\n",
        "\n",
        "print(mean_squared_error(y_test_diamonds, y_pred_diamonds))\n",
        "print(mean_absolute_error(y_test_diamonds,y_pred_diamonds))"
      ]
    },
    {
      "cell_type": "code",
      "execution_count": 15,
      "metadata": {
        "id": "fq5C8sAiml8v",
        "colab": {
          "base_uri": "https://localhost:8080/",
          "height": 332
        },
        "outputId": "3a8d0b95-74cf-4d1d-f397-96a609edb9db"
      },
      "outputs": [
        {
          "output_type": "display_data",
          "data": {
            "text/plain": [
              "<Figure size 432x288 with 1 Axes>"
            ],
            "image/png": "[encoded data removed]"
          },
          "metadata": {
            "needs_background": "light"
          }
        },
        {
          "output_type": "stream",
          "name": "stdout",
          "text": [
            "454423.6112124583\n",
            "340.11651835372635\n"
          ]
        }
      ],
      "source": [
        "knn = KNeighborsRegressor(n_neighbors=10,metric=\"cityblock\")\n",
        "knn.fit(x_train_diamonds_sc,y_train_diamonds)\n",
        "y_pred_diamonds2 = knn.predict(x_test_diamonds_sc)\n",
        "\n",
        "plt.scatter(y_test_diamonds, y_pred_diamonds2,alpha=0.3, c= \"#653700\")\n",
        "plt.title('Sklearn KNN')\n",
        "plt.xlabel('actual')\n",
        "plt.ylabel('predicted')\n",
        "plt.show()\n",
        "\n",
        "print(mean_squared_error(y_test_diamonds, y_pred_diamonds2))\n",
        "print(mean_absolute_error(y_test_diamonds,y_pred_diamonds2))"
      ]
    },
    {
      "cell_type": "code",
      "execution_count": 45,
      "metadata": {
        "id": "WfGsNgJ0mlzm",
        "colab": {
          "base_uri": "https://localhost:8080/"
        },
        "outputId": "deddac4c-ac02-4dbe-cc67-a54a39e1a81d"
      },
      "outputs": [
        {
          "output_type": "execute_result",
          "data": {
            "text/plain": [
              "[17117145.358778816,\n",
              " 11040658.658388367,\n",
              " 5515449.565057938,\n",
              " 2166977.8150162227,\n",
              " 483027.9081216686]"
            ]
          },
          "metadata": {},
          "execution_count": 45
        }
      ],
      "source": [
        "CV_final(x_train_diamonds_sc,y_train_diamonds,5,10,\"cityblock\",\"MSE\")"
      ]
    },
    {
      "cell_type": "code",
      "execution_count": 46,
      "metadata": {
        "id": "ZTfIPwCKmlwx",
        "colab": {
          "base_uri": "https://localhost:8080/"
        },
        "outputId": "0fdbe3b5-94e5-48f9-8b1f-6f091776b35d"
      },
      "outputs": [
        {
          "output_type": "execute_result",
          "data": {
            "text/plain": [
              "[3114.573398215734,\n",
              " 2448.8816475495314,\n",
              " 1680.6185052143685,\n",
              " 968.6719003476246,\n",
              " 357.2775550405562]"
            ]
          },
          "metadata": {},
          "execution_count": 46
        }
      ],
      "source": [
        "CV_final(x_train_diamonds_sc,y_train_diamonds,5,10,\"cityblock\",\"MAE\")"
      ]
    },
    {
      "cell_type": "markdown",
      "metadata": {
        "id": "e7U4GNR0tkfe"
      },
      "source": [
        "## Immo data"
      ]
    },
    {
      "cell_type": "code",
      "execution_count": null,
      "metadata": {
        "colab": {
          "base_uri": "https://localhost:8080/",
          "height": 577
        },
        "id": "OaCU6Icttkfe",
        "outputId": "b5df8669-6121-44ba-df48-04abd968e96c"
      },
      "outputs": [
        {
          "data": {
            "text/html": [
              "\n",
              "  <div id=\"df-893fa573-db84-4747-aaab-4f573821c0bb\">\n",
              "    <div class=\"colab-df-container\">\n",
              "      <div>\n",
              "<style scoped>\n",
              "    .dataframe tbody tr th:only-of-type {\n",
              "        vertical-align: middle;\n",
              "    }\n",
              "\n",
              "    .dataframe tbody tr th {\n",
              "        vertical-align: top;\n",
              "    }\n",
              "\n",
              "    .dataframe thead th {\n",
              "        text-align: right;\n",
              "    }\n",
              "</style>\n",
              "<table border=\"1\" class=\"dataframe\">\n",
              "  <thead>\n",
              "    <tr style=\"text-align: right;\">\n",
              "      <th></th>\n",
              "      <th>regio1</th>\n",
              "      <th>serviceCharge</th>\n",
              "      <th>heatingType</th>\n",
              "      <th>telekomTvOffer</th>\n",
              "      <th>telekomHybridUploadSpeed</th>\n",
              "      <th>newlyConst</th>\n",
              "      <th>balcony</th>\n",
              "      <th>picturecount</th>\n",
              "      <th>pricetrend</th>\n",
              "      <th>telekomUploadSpeed</th>\n",
              "      <th>...</th>\n",
              "      <th>regio2</th>\n",
              "      <th>regio3</th>\n",
              "      <th>description</th>\n",
              "      <th>facilities</th>\n",
              "      <th>heatingCosts</th>\n",
              "      <th>energyEfficiencyClass</th>\n",
              "      <th>lastRefurbish</th>\n",
              "      <th>electricityBasePrice</th>\n",
              "      <th>electricityKwhPrice</th>\n",
              "      <th>date</th>\n",
              "    </tr>\n",
              "  </thead>\n",
              "  <tbody>\n",
              "    <tr>\n",
              "      <th>0</th>\n",
              "      <td>Nordrhein_Westfalen</td>\n",
              "      <td>245.00</td>\n",
              "      <td>central_heating</td>\n",
              "      <td>ONE_YEAR_FREE</td>\n",
              "      <td>NaN</td>\n",
              "      <td>False</td>\n",
              "      <td>False</td>\n",
              "      <td>6</td>\n",
              "      <td>4.62</td>\n",
              "      <td>10.0</td>\n",
              "      <td>...</td>\n",
              "      <td>Dortmund</td>\n",
              "      <td>Schüren</td>\n",
              "      <td>Die ebenerdig zu erreichende Erdgeschosswohnun...</td>\n",
              "      <td>Die Wohnung ist mit Laminat ausgelegt. Das Bad...</td>\n",
              "      <td>NaN</td>\n",
              "      <td>NaN</td>\n",
              "      <td>NaN</td>\n",
              "      <td>NaN</td>\n",
              "      <td>NaN</td>\n",
              "      <td>May19</td>\n",
              "    </tr>\n",
              "    <tr>\n",
              "      <th>1</th>\n",
              "      <td>Rheinland_Pfalz</td>\n",
              "      <td>134.00</td>\n",
              "      <td>self_contained_central_heating</td>\n",
              "      <td>ONE_YEAR_FREE</td>\n",
              "      <td>NaN</td>\n",
              "      <td>False</td>\n",
              "      <td>True</td>\n",
              "      <td>8</td>\n",
              "      <td>3.47</td>\n",
              "      <td>10.0</td>\n",
              "      <td>...</td>\n",
              "      <td>Rhein_Pfalz_Kreis</td>\n",
              "      <td>Böhl_Iggelheim</td>\n",
              "      <td>Alles neu macht der Mai – so kann es auch für ...</td>\n",
              "      <td>NaN</td>\n",
              "      <td>NaN</td>\n",
              "      <td>NaN</td>\n",
              "      <td>2019.0</td>\n",
              "      <td>NaN</td>\n",
              "      <td>NaN</td>\n",
              "      <td>May19</td>\n",
              "    </tr>\n",
              "    <tr>\n",
              "      <th>2</th>\n",
              "      <td>Sachsen</td>\n",
              "      <td>255.00</td>\n",
              "      <td>floor_heating</td>\n",
              "      <td>ONE_YEAR_FREE</td>\n",
              "      <td>10.0</td>\n",
              "      <td>True</td>\n",
              "      <td>True</td>\n",
              "      <td>8</td>\n",
              "      <td>2.72</td>\n",
              "      <td>2.4</td>\n",
              "      <td>...</td>\n",
              "      <td>Dresden</td>\n",
              "      <td>Äußere_Neustadt_Antonstadt</td>\n",
              "      <td>Der Neubau entsteht im Herzen der Dresdner Neu...</td>\n",
              "      <td>* 9 m² Balkon\\n* Bad mit bodengleicher Dusche,...</td>\n",
              "      <td>NaN</td>\n",
              "      <td>NaN</td>\n",
              "      <td>NaN</td>\n",
              "      <td>NaN</td>\n",
              "      <td>NaN</td>\n",
              "      <td>Oct19</td>\n",
              "    </tr>\n",
              "    <tr>\n",
              "      <th>3</th>\n",
              "      <td>Sachsen</td>\n",
              "      <td>58.15</td>\n",
              "      <td>district_heating</td>\n",
              "      <td>ONE_YEAR_FREE</td>\n",
              "      <td>NaN</td>\n",
              "      <td>False</td>\n",
              "      <td>True</td>\n",
              "      <td>9</td>\n",
              "      <td>1.53</td>\n",
              "      <td>40.0</td>\n",
              "      <td>...</td>\n",
              "      <td>Mittelsachsen_Kreis</td>\n",
              "      <td>Freiberg</td>\n",
              "      <td>Abseits von Lärm und Abgasen in Ihre neue Wohn...</td>\n",
              "      <td>NaN</td>\n",
              "      <td>87.23</td>\n",
              "      <td>NaN</td>\n",
              "      <td>NaN</td>\n",
              "      <td>NaN</td>\n",
              "      <td>NaN</td>\n",
              "      <td>May19</td>\n",
              "    </tr>\n",
              "    <tr>\n",
              "      <th>4</th>\n",
              "      <td>Bremen</td>\n",
              "      <td>138.00</td>\n",
              "      <td>self_contained_central_heating</td>\n",
              "      <td>NaN</td>\n",
              "      <td>NaN</td>\n",
              "      <td>False</td>\n",
              "      <td>True</td>\n",
              "      <td>19</td>\n",
              "      <td>2.46</td>\n",
              "      <td>NaN</td>\n",
              "      <td>...</td>\n",
              "      <td>Bremen</td>\n",
              "      <td>Neu_Schwachhausen</td>\n",
              "      <td>Es handelt sich hier um ein saniertes Mehrfami...</td>\n",
              "      <td>Diese Wohnung wurde neu saniert und ist wie fo...</td>\n",
              "      <td>NaN</td>\n",
              "      <td>NaN</td>\n",
              "      <td>NaN</td>\n",
              "      <td>NaN</td>\n",
              "      <td>NaN</td>\n",
              "      <td>Feb20</td>\n",
              "    </tr>\n",
              "  </tbody>\n",
              "</table>\n",
              "<p>5 rows × 49 columns</p>\n",
              "</div>\n",
              "      <button class=\"colab-df-convert\" onclick=\"convertToInteractive('df-893fa573-db84-4747-aaab-4f573821c0bb')\"\n",
              "              title=\"Convert this dataframe to an interactive table.\"\n",
              "              style=\"display:none;\">\n",
              "        \n",
              "  <svg xmlns=\"http://www.w3.org/2000/svg\" height=\"24px\"viewBox=\"0 0 24 24\"\n",
              "       width=\"24px\">\n",
              "    <path d=\"M0 0h24v24H0V0z\" fill=\"none\"/>\n",
              "    <path d=\"M18.56 5.44l.94 2.06.94-2.06 2.06-.94-2.06-.94-.94-2.06-.94 2.06-2.06.94zm-11 1L8.5 8.5l.94-2.06 2.06-.94-2.06-.94L8.5 2.5l-.94 2.06-2.06.94zm10 10l.94 2.06.94-2.06 2.06-.94-2.06-.94-.94-2.06-.94 2.06-2.06.94z\"/><path d=\"M17.41 7.96l-1.37-1.37c-.4-.4-.92-.59-1.43-.59-.52 0-1.04.2-1.43.59L10.3 9.45l-7.72 7.72c-.78.78-.78 2.05 0 2.83L4 21.41c.39.39.9.59 1.41.59.51 0 1.02-.2 1.41-.59l7.78-7.78 2.81-2.81c.8-.78.8-2.07 0-2.86zM5.41 20L4 18.59l7.72-7.72 1.47 1.35L5.41 20z\"/>\n",
              "  </svg>\n",
              "      </button>\n",
              "      \n",
              "  <style>\n",
              "    .colab-df-container {\n",
              "      display:flex;\n",
              "      flex-wrap:wrap;\n",
              "      gap: 12px;\n",
              "    }\n",
              "\n",
              "    .colab-df-convert {\n",
              "      background-color: #E8F0FE;\n",
              "      border: none;\n",
              "      border-radius: 50%;\n",
              "      cursor: pointer;\n",
              "      display: none;\n",
              "      fill: #1967D2;\n",
              "      height: 32px;\n",
              "      padding: 0 0 0 0;\n",
              "      width: 32px;\n",
              "    }\n",
              "\n",
              "    .colab-df-convert:hover {\n",
              "      background-color: #E2EBFA;\n",
              "      box-shadow: 0px 1px 2px rgba(60, 64, 67, 0.3), 0px 1px 3px 1px rgba(60, 64, 67, 0.15);\n",
              "      fill: #174EA6;\n",
              "    }\n",
              "\n",
              "    [theme=dark] .colab-df-convert {\n",
              "      background-color: #3B4455;\n",
              "      fill: #D2E3FC;\n",
              "    }\n",
              "\n",
              "    [theme=dark] .colab-df-convert:hover {\n",
              "      background-color: #434B5C;\n",
              "      box-shadow: 0px 1px 3px 1px rgba(0, 0, 0, 0.15);\n",
              "      filter: drop-shadow(0px 1px 2px rgba(0, 0, 0, 0.3));\n",
              "      fill: #FFFFFF;\n",
              "    }\n",
              "  </style>\n",
              "\n",
              "      <script>\n",
              "        const buttonEl =\n",
              "          document.querySelector('#df-893fa573-db84-4747-aaab-4f573821c0bb button.colab-df-convert');\n",
              "        buttonEl.style.display =\n",
              "          google.colab.kernel.accessAllowed ? 'block' : 'none';\n",
              "\n",
              "        async function convertToInteractive(key) {\n",
              "          const element = document.querySelector('#df-893fa573-db84-4747-aaab-4f573821c0bb');\n",
              "          const dataTable =\n",
              "            await google.colab.kernel.invokeFunction('convertToInteractive',\n",
              "                                                     [key], {});\n",
              "          if (!dataTable) return;\n",
              "\n",
              "          const docLinkHtml = 'Like what you see? Visit the ' +\n",
              "            '<a target=\"_blank\" href=https://colab.research.google.com/notebooks/data_table.ipynb>data table notebook</a>'\n",
              "            + ' to learn more about interactive tables.';\n",
              "          element.innerHTML = '';\n",
              "          dataTable['output_type'] = 'display_data';\n",
              "          await google.colab.output.renderOutput(dataTable, element);\n",
              "          const docLink = document.createElement('div');\n",
              "          docLink.innerHTML = docLinkHtml;\n",
              "          element.appendChild(docLink);\n",
              "        }\n",
              "      </script>\n",
              "    </div>\n",
              "  </div>\n",
              "  "
            ],
            "text/plain": [
              "                regio1  serviceCharge                     heatingType  \\\n",
              "0  Nordrhein_Westfalen         245.00                 central_heating   \n",
              "1      Rheinland_Pfalz         134.00  self_contained_central_heating   \n",
              "2              Sachsen         255.00                   floor_heating   \n",
              "3              Sachsen          58.15                district_heating   \n",
              "4               Bremen         138.00  self_contained_central_heating   \n",
              "\n",
              "  telekomTvOffer  telekomHybridUploadSpeed  newlyConst  balcony  picturecount  \\\n",
              "0  ONE_YEAR_FREE                       NaN       False    False             6   \n",
              "1  ONE_YEAR_FREE                       NaN       False     True             8   \n",
              "2  ONE_YEAR_FREE                      10.0        True     True             8   \n",
              "3  ONE_YEAR_FREE                       NaN       False     True             9   \n",
              "4            NaN                       NaN       False     True            19   \n",
              "\n",
              "   pricetrend  telekomUploadSpeed  ...               regio2  \\\n",
              "0        4.62                10.0  ...             Dortmund   \n",
              "1        3.47                10.0  ...    Rhein_Pfalz_Kreis   \n",
              "2        2.72                 2.4  ...              Dresden   \n",
              "3        1.53                40.0  ...  Mittelsachsen_Kreis   \n",
              "4        2.46                 NaN  ...               Bremen   \n",
              "\n",
              "                       regio3  \\\n",
              "0                     Schüren   \n",
              "1              Böhl_Iggelheim   \n",
              "2  Äußere_Neustadt_Antonstadt   \n",
              "3                    Freiberg   \n",
              "4           Neu_Schwachhausen   \n",
              "\n",
              "                                         description  \\\n",
              "0  Die ebenerdig zu erreichende Erdgeschosswohnun...   \n",
              "1  Alles neu macht der Mai – so kann es auch für ...   \n",
              "2  Der Neubau entsteht im Herzen der Dresdner Neu...   \n",
              "3  Abseits von Lärm und Abgasen in Ihre neue Wohn...   \n",
              "4  Es handelt sich hier um ein saniertes Mehrfami...   \n",
              "\n",
              "                                          facilities heatingCosts  \\\n",
              "0  Die Wohnung ist mit Laminat ausgelegt. Das Bad...          NaN   \n",
              "1                                                NaN          NaN   \n",
              "2  * 9 m² Balkon\\n* Bad mit bodengleicher Dusche,...          NaN   \n",
              "3                                                NaN        87.23   \n",
              "4  Diese Wohnung wurde neu saniert und ist wie fo...          NaN   \n",
              "\n",
              "   energyEfficiencyClass lastRefurbish  electricityBasePrice  \\\n",
              "0                    NaN           NaN                   NaN   \n",
              "1                    NaN        2019.0                   NaN   \n",
              "2                    NaN           NaN                   NaN   \n",
              "3                    NaN           NaN                   NaN   \n",
              "4                    NaN           NaN                   NaN   \n",
              "\n",
              "   electricityKwhPrice   date  \n",
              "0                  NaN  May19  \n",
              "1                  NaN  May19  \n",
              "2                  NaN  Oct19  \n",
              "3                  NaN  May19  \n",
              "4                  NaN  Feb20  \n",
              "\n",
              "[5 rows x 49 columns]"
            ]
          },
          "execution_count": 76,
          "metadata": {},
          "output_type": "execute_result"
        }
      ],
      "source": [
        "immo = pd.read_csv('/immo_data.csv', engine=\"python\")\n",
        "immo.head()"
      ]
    },
    {
      "cell_type": "code",
      "execution_count": null,
      "metadata": {
        "colab": {
          "base_uri": "https://localhost:8080/"
        },
        "id": "euP78yfOtkff",
        "outputId": "babe17be-eb5f-4e7d-b4c3-9021f103212a"
      },
      "outputs": [
        {
          "data": {
            "text/plain": [
              "(268850, 49)"
            ]
          },
          "execution_count": 77,
          "metadata": {},
          "output_type": "execute_result"
        }
      ],
      "source": [
        "immo.shape"
      ]
    },
    {
      "cell_type": "code",
      "execution_count": null,
      "metadata": {
        "colab": {
          "base_uri": "https://localhost:8080/",
          "height": 393
        },
        "id": "ZX0ovCkItkff",
        "outputId": "0896abae-bd27-43bf-b7c7-bc85792d1b0a"
      },
      "outputs": [
        {
          "data": {
            "text/html": [
              "\n",
              "  <div id=\"df-3e5ccc7b-9956-4479-bb7e-21d018468887\">\n",
              "    <div class=\"colab-df-container\">\n",
              "      <div>\n",
              "<style scoped>\n",
              "    .dataframe tbody tr th:only-of-type {\n",
              "        vertical-align: middle;\n",
              "    }\n",
              "\n",
              "    .dataframe tbody tr th {\n",
              "        vertical-align: top;\n",
              "    }\n",
              "\n",
              "    .dataframe thead th {\n",
              "        text-align: right;\n",
              "    }\n",
              "</style>\n",
              "<table border=\"1\" class=\"dataframe\">\n",
              "  <thead>\n",
              "    <tr style=\"text-align: right;\">\n",
              "      <th></th>\n",
              "      <th>serviceCharge</th>\n",
              "      <th>telekomHybridUploadSpeed</th>\n",
              "      <th>picturecount</th>\n",
              "      <th>pricetrend</th>\n",
              "      <th>telekomUploadSpeed</th>\n",
              "      <th>totalRent</th>\n",
              "      <th>yearConstructed</th>\n",
              "      <th>scoutId</th>\n",
              "      <th>noParkSpaces</th>\n",
              "      <th>yearConstructedRange</th>\n",
              "      <th>...</th>\n",
              "      <th>noRooms</th>\n",
              "      <th>thermalChar</th>\n",
              "      <th>floor</th>\n",
              "      <th>numberOfFloors</th>\n",
              "      <th>noRoomsRange</th>\n",
              "      <th>livingSpaceRange</th>\n",
              "      <th>heatingCosts</th>\n",
              "      <th>lastRefurbish</th>\n",
              "      <th>electricityBasePrice</th>\n",
              "      <th>electricityKwhPrice</th>\n",
              "    </tr>\n",
              "  </thead>\n",
              "  <tbody>\n",
              "    <tr>\n",
              "      <th>count</th>\n",
              "      <td>261941.000000</td>\n",
              "      <td>45020.0</td>\n",
              "      <td>268850.000000</td>\n",
              "      <td>267018.000000</td>\n",
              "      <td>235492.000000</td>\n",
              "      <td>2.283330e+05</td>\n",
              "      <td>211805.000000</td>\n",
              "      <td>2.688500e+05</td>\n",
              "      <td>93052.000000</td>\n",
              "      <td>211805.000000</td>\n",
              "      <td>...</td>\n",
              "      <td>268850.000000</td>\n",
              "      <td>162344.000000</td>\n",
              "      <td>217541.000000</td>\n",
              "      <td>171118.000000</td>\n",
              "      <td>268850.000000</td>\n",
              "      <td>268850.000000</td>\n",
              "      <td>85518.000000</td>\n",
              "      <td>80711.000000</td>\n",
              "      <td>46846.000000</td>\n",
              "      <td>46846.000000</td>\n",
              "    </tr>\n",
              "    <tr>\n",
              "      <th>mean</th>\n",
              "      <td>151.206113</td>\n",
              "      <td>10.0</td>\n",
              "      <td>9.791958</td>\n",
              "      <td>3.389001</td>\n",
              "      <td>28.804928</td>\n",
              "      <td>9.013315e+02</td>\n",
              "      <td>1966.400590</td>\n",
              "      <td>1.069697e+08</td>\n",
              "      <td>1.327634</td>\n",
              "      <td>3.714544</td>\n",
              "      <td>...</td>\n",
              "      <td>2.641261</td>\n",
              "      <td>114.749533</td>\n",
              "      <td>2.122405</td>\n",
              "      <td>3.572319</td>\n",
              "      <td>2.571542</td>\n",
              "      <td>3.070790</td>\n",
              "      <td>76.990866</td>\n",
              "      <td>2013.904536</td>\n",
              "      <td>89.113612</td>\n",
              "      <td>0.199769</td>\n",
              "    </tr>\n",
              "    <tr>\n",
              "      <th>std</th>\n",
              "      <td>308.295790</td>\n",
              "      <td>0.0</td>\n",
              "      <td>6.408399</td>\n",
              "      <td>1.964874</td>\n",
              "      <td>16.337151</td>\n",
              "      <td>3.323833e+04</td>\n",
              "      <td>46.992207</td>\n",
              "      <td>1.250093e+07</td>\n",
              "      <td>8.361403</td>\n",
              "      <td>2.738134</td>\n",
              "      <td>...</td>\n",
              "      <td>2.633440</td>\n",
              "      <td>61.653663</td>\n",
              "      <td>3.634934</td>\n",
              "      <td>6.375496</td>\n",
              "      <td>0.937594</td>\n",
              "      <td>1.407127</td>\n",
              "      <td>147.716278</td>\n",
              "      <td>10.963125</td>\n",
              "      <td>5.395805</td>\n",
              "      <td>0.009667</td>\n",
              "    </tr>\n",
              "    <tr>\n",
              "      <th>min</th>\n",
              "      <td>0.000000</td>\n",
              "      <td>10.0</td>\n",
              "      <td>0.000000</td>\n",
              "      <td>-12.330000</td>\n",
              "      <td>1.000000</td>\n",
              "      <td>0.000000e+00</td>\n",
              "      <td>1000.000000</td>\n",
              "      <td>2.887174e+07</td>\n",
              "      <td>0.000000</td>\n",
              "      <td>1.000000</td>\n",
              "      <td>...</td>\n",
              "      <td>1.000000</td>\n",
              "      <td>0.100000</td>\n",
              "      <td>-1.000000</td>\n",
              "      <td>0.000000</td>\n",
              "      <td>1.000000</td>\n",
              "      <td>1.000000</td>\n",
              "      <td>0.000000</td>\n",
              "      <td>1015.000000</td>\n",
              "      <td>71.430000</td>\n",
              "      <td>0.170500</td>\n",
              "    </tr>\n",
              "    <tr>\n",
              "      <th>25%</th>\n",
              "      <td>95.000000</td>\n",
              "      <td>10.0</td>\n",
              "      <td>6.000000</td>\n",
              "      <td>2.000000</td>\n",
              "      <td>10.000000</td>\n",
              "      <td>4.698000e+02</td>\n",
              "      <td>1950.000000</td>\n",
              "      <td>1.066910e+08</td>\n",
              "      <td>1.000000</td>\n",
              "      <td>1.000000</td>\n",
              "      <td>...</td>\n",
              "      <td>2.000000</td>\n",
              "      <td>79.000000</td>\n",
              "      <td>1.000000</td>\n",
              "      <td>2.000000</td>\n",
              "      <td>2.000000</td>\n",
              "      <td>2.000000</td>\n",
              "      <td>54.000000</td>\n",
              "      <td>2012.000000</td>\n",
              "      <td>90.760000</td>\n",
              "      <td>0.191500</td>\n",
              "    </tr>\n",
              "    <tr>\n",
              "      <th>50%</th>\n",
              "      <td>135.000000</td>\n",
              "      <td>10.0</td>\n",
              "      <td>9.000000</td>\n",
              "      <td>3.390000</td>\n",
              "      <td>40.000000</td>\n",
              "      <td>6.500000e+02</td>\n",
              "      <td>1973.000000</td>\n",
              "      <td>1.111584e+08</td>\n",
              "      <td>1.000000</td>\n",
              "      <td>3.000000</td>\n",
              "      <td>...</td>\n",
              "      <td>3.000000</td>\n",
              "      <td>107.000000</td>\n",
              "      <td>2.000000</td>\n",
              "      <td>3.000000</td>\n",
              "      <td>3.000000</td>\n",
              "      <td>3.000000</td>\n",
              "      <td>70.000000</td>\n",
              "      <td>2017.000000</td>\n",
              "      <td>90.760000</td>\n",
              "      <td>0.198500</td>\n",
              "    </tr>\n",
              "    <tr>\n",
              "      <th>75%</th>\n",
              "      <td>190.000000</td>\n",
              "      <td>10.0</td>\n",
              "      <td>13.000000</td>\n",
              "      <td>4.570000</td>\n",
              "      <td>40.000000</td>\n",
              "      <td>9.850000e+02</td>\n",
              "      <td>1996.000000</td>\n",
              "      <td>1.137688e+08</td>\n",
              "      <td>1.000000</td>\n",
              "      <td>5.000000</td>\n",
              "      <td>...</td>\n",
              "      <td>3.000000</td>\n",
              "      <td>140.300000</td>\n",
              "      <td>3.000000</td>\n",
              "      <td>4.000000</td>\n",
              "      <td>3.000000</td>\n",
              "      <td>4.000000</td>\n",
              "      <td>90.000000</td>\n",
              "      <td>2019.000000</td>\n",
              "      <td>90.760000</td>\n",
              "      <td>0.205500</td>\n",
              "    </tr>\n",
              "    <tr>\n",
              "      <th>max</th>\n",
              "      <td>146118.000000</td>\n",
              "      <td>10.0</td>\n",
              "      <td>121.000000</td>\n",
              "      <td>14.920000</td>\n",
              "      <td>100.000000</td>\n",
              "      <td>1.575154e+07</td>\n",
              "      <td>2090.000000</td>\n",
              "      <td>1.157117e+08</td>\n",
              "      <td>2241.000000</td>\n",
              "      <td>9.000000</td>\n",
              "      <td>...</td>\n",
              "      <td>999.990000</td>\n",
              "      <td>1996.000000</td>\n",
              "      <td>999.000000</td>\n",
              "      <td>999.000000</td>\n",
              "      <td>5.000000</td>\n",
              "      <td>7.000000</td>\n",
              "      <td>12613.000000</td>\n",
              "      <td>2919.000000</td>\n",
              "      <td>90.760000</td>\n",
              "      <td>0.227600</td>\n",
              "    </tr>\n",
              "  </tbody>\n",
              "</table>\n",
              "<p>8 rows × 24 columns</p>\n",
              "</div>\n",
              "      <button class=\"colab-df-convert\" onclick=\"convertToInteractive('df-3e5ccc7b-9956-4479-bb7e-21d018468887')\"\n",
              "              title=\"Convert this dataframe to an interactive table.\"\n",
              "              style=\"display:none;\">\n",
              "        \n",
              "  <svg xmlns=\"http://www.w3.org/2000/svg\" height=\"24px\"viewBox=\"0 0 24 24\"\n",
              "       width=\"24px\">\n",
              "    <path d=\"M0 0h24v24H0V0z\" fill=\"none\"/>\n",
              "    <path d=\"M18.56 5.44l.94 2.06.94-2.06 2.06-.94-2.06-.94-.94-2.06-.94 2.06-2.06.94zm-11 1L8.5 8.5l.94-2.06 2.06-.94-2.06-.94L8.5 2.5l-.94 2.06-2.06.94zm10 10l.94 2.06.94-2.06 2.06-.94-2.06-.94-.94-2.06-.94 2.06-2.06.94z\"/><path d=\"M17.41 7.96l-1.37-1.37c-.4-.4-.92-.59-1.43-.59-.52 0-1.04.2-1.43.59L10.3 9.45l-7.72 7.72c-.78.78-.78 2.05 0 2.83L4 21.41c.39.39.9.59 1.41.59.51 0 1.02-.2 1.41-.59l7.78-7.78 2.81-2.81c.8-.78.8-2.07 0-2.86zM5.41 20L4 18.59l7.72-7.72 1.47 1.35L5.41 20z\"/>\n",
              "  </svg>\n",
              "      </button>\n",
              "      \n",
              "  <style>\n",
              "    .colab-df-container {\n",
              "      display:flex;\n",
              "      flex-wrap:wrap;\n",
              "      gap: 12px;\n",
              "    }\n",
              "\n",
              "    .colab-df-convert {\n",
              "      background-color: #E8F0FE;\n",
              "      border: none;\n",
              "      border-radius: 50%;\n",
              "      cursor: pointer;\n",
              "      display: none;\n",
              "      fill: #1967D2;\n",
              "      height: 32px;\n",
              "      padding: 0 0 0 0;\n",
              "      width: 32px;\n",
              "    }\n",
              "\n",
              "    .colab-df-convert:hover {\n",
              "      background-color: #E2EBFA;\n",
              "      box-shadow: 0px 1px 2px rgba(60, 64, 67, 0.3), 0px 1px 3px 1px rgba(60, 64, 67, 0.15);\n",
              "      fill: #174EA6;\n",
              "    }\n",
              "\n",
              "    [theme=dark] .colab-df-convert {\n",
              "      background-color: #3B4455;\n",
              "      fill: #D2E3FC;\n",
              "    }\n",
              "\n",
              "    [theme=dark] .colab-df-convert:hover {\n",
              "      background-color: #434B5C;\n",
              "      box-shadow: 0px 1px 3px 1px rgba(0, 0, 0, 0.15);\n",
              "      filter: drop-shadow(0px 1px 2px rgba(0, 0, 0, 0.3));\n",
              "      fill: #FFFFFF;\n",
              "    }\n",
              "  </style>\n",
              "\n",
              "      <script>\n",
              "        const buttonEl =\n",
              "          document.querySelector('#df-3e5ccc7b-9956-4479-bb7e-21d018468887 button.colab-df-convert');\n",
              "        buttonEl.style.display =\n",
              "          google.colab.kernel.accessAllowed ? 'block' : 'none';\n",
              "\n",
              "        async function convertToInteractive(key) {\n",
              "          const element = document.querySelector('#df-3e5ccc7b-9956-4479-bb7e-21d018468887');\n",
              "          const dataTable =\n",
              "            await google.colab.kernel.invokeFunction('convertToInteractive',\n",
              "                                                     [key], {});\n",
              "          if (!dataTable) return;\n",
              "\n",
              "          const docLinkHtml = 'Like what you see? Visit the ' +\n",
              "            '<a target=\"_blank\" href=https://colab.research.google.com/notebooks/data_table.ipynb>data table notebook</a>'\n",
              "            + ' to learn more about interactive tables.';\n",
              "          element.innerHTML = '';\n",
              "          dataTable['output_type'] = 'display_data';\n",
              "          await google.colab.output.renderOutput(dataTable, element);\n",
              "          const docLink = document.createElement('div');\n",
              "          docLink.innerHTML = docLinkHtml;\n",
              "          element.appendChild(docLink);\n",
              "        }\n",
              "      </script>\n",
              "    </div>\n",
              "  </div>\n",
              "  "
            ],
            "text/plain": [
              "       serviceCharge  telekomHybridUploadSpeed   picturecount     pricetrend  \\\n",
              "count  261941.000000                   45020.0  268850.000000  267018.000000   \n",
              "mean      151.206113                      10.0       9.791958       3.389001   \n",
              "std       308.295790                       0.0       6.408399       1.964874   \n",
              "min         0.000000                      10.0       0.000000     -12.330000   \n",
              "25%        95.000000                      10.0       6.000000       2.000000   \n",
              "50%       135.000000                      10.0       9.000000       3.390000   \n",
              "75%       190.000000                      10.0      13.000000       4.570000   \n",
              "max    146118.000000                      10.0     121.000000      14.920000   \n",
              "\n",
              "       telekomUploadSpeed     totalRent  yearConstructed       scoutId  \\\n",
              "count       235492.000000  2.283330e+05    211805.000000  2.688500e+05   \n",
              "mean            28.804928  9.013315e+02      1966.400590  1.069697e+08   \n",
              "std             16.337151  3.323833e+04        46.992207  1.250093e+07   \n",
              "min              1.000000  0.000000e+00      1000.000000  2.887174e+07   \n",
              "25%             10.000000  4.698000e+02      1950.000000  1.066910e+08   \n",
              "50%             40.000000  6.500000e+02      1973.000000  1.111584e+08   \n",
              "75%             40.000000  9.850000e+02      1996.000000  1.137688e+08   \n",
              "max            100.000000  1.575154e+07      2090.000000  1.157117e+08   \n",
              "\n",
              "       noParkSpaces  yearConstructedRange  ...        noRooms    thermalChar  \\\n",
              "count  93052.000000         211805.000000  ...  268850.000000  162344.000000   \n",
              "mean       1.327634              3.714544  ...       2.641261     114.749533   \n",
              "std        8.361403              2.738134  ...       2.633440      61.653663   \n",
              "min        0.000000              1.000000  ...       1.000000       0.100000   \n",
              "25%        1.000000              1.000000  ...       2.000000      79.000000   \n",
              "50%        1.000000              3.000000  ...       3.000000     107.000000   \n",
              "75%        1.000000              5.000000  ...       3.000000     140.300000   \n",
              "max     2241.000000              9.000000  ...     999.990000    1996.000000   \n",
              "\n",
              "               floor  numberOfFloors   noRoomsRange  livingSpaceRange  \\\n",
              "count  217541.000000   171118.000000  268850.000000     268850.000000   \n",
              "mean        2.122405        3.572319       2.571542          3.070790   \n",
              "std         3.634934        6.375496       0.937594          1.407127   \n",
              "min        -1.000000        0.000000       1.000000          1.000000   \n",
              "25%         1.000000        2.000000       2.000000          2.000000   \n",
              "50%         2.000000        3.000000       3.000000          3.000000   \n",
              "75%         3.000000        4.000000       3.000000          4.000000   \n",
              "max       999.000000      999.000000       5.000000          7.000000   \n",
              "\n",
              "       heatingCosts  lastRefurbish  electricityBasePrice  electricityKwhPrice  \n",
              "count  85518.000000   80711.000000          46846.000000         46846.000000  \n",
              "mean      76.990866    2013.904536             89.113612             0.199769  \n",
              "std      147.716278      10.963125              5.395805             0.009667  \n",
              "min        0.000000    1015.000000             71.430000             0.170500  \n",
              "25%       54.000000    2012.000000             90.760000             0.191500  \n",
              "50%       70.000000    2017.000000             90.760000             0.198500  \n",
              "75%       90.000000    2019.000000             90.760000             0.205500  \n",
              "max    12613.000000    2919.000000             90.760000             0.227600  \n",
              "\n",
              "[8 rows x 24 columns]"
            ]
          },
          "execution_count": 78,
          "metadata": {},
          "output_type": "execute_result"
        }
      ],
      "source": [
        "immo.describe()"
      ]
    },
    {
      "cell_type": "code",
      "execution_count": null,
      "metadata": {
        "colab": {
          "base_uri": "https://localhost:8080/"
        },
        "id": "W5Ddmsi_tkfg",
        "outputId": "853a673b-2401-4d60-98ee-e98e9d5b03b5"
      },
      "outputs": [
        {
          "data": {
            "text/plain": [
              "regio1                      0.000000\n",
              "serviceCharge               0.025698\n",
              "heatingType                 0.166844\n",
              "telekomTvOffer              0.121328\n",
              "telekomHybridUploadSpeed    0.832546\n",
              "newlyConst                  0.000000\n",
              "balcony                     0.000000\n",
              "picturecount                0.000000\n",
              "pricetrend                  0.006814\n",
              "telekomUploadSpeed          0.124077\n",
              "totalRent                   0.150705\n",
              "yearConstructed             0.212182\n",
              "scoutId                     0.000000\n",
              "noParkSpaces                0.653889\n",
              "firingTypes                 0.211880\n",
              "hasKitchen                  0.000000\n",
              "geo_bln                     0.000000\n",
              "cellar                      0.000000\n",
              "yearConstructedRange        0.212182\n",
              "baseRent                    0.000000\n",
              "houseNumber                 0.264155\n",
              "livingSpace                 0.000000\n",
              "geo_krs                     0.000000\n",
              "condition                   0.254748\n",
              "interiorQual                0.419063\n",
              "petsAllowed                 0.426160\n",
              "street                      0.000000\n",
              "streetPlain                 0.264136\n",
              "lift                        0.000000\n",
              "baseRentRange               0.000000\n",
              "typeOfFlat                  0.136187\n",
              "geo_plz                     0.000000\n",
              "noRooms                     0.000000\n",
              "thermalChar                 0.396154\n",
              "floor                       0.190846\n",
              "numberOfFloors              0.363519\n",
              "noRoomsRange                0.000000\n",
              "garden                      0.000000\n",
              "livingSpaceRange            0.000000\n",
              "regio2                      0.000000\n",
              "regio3                      0.000000\n",
              "description                 0.073450\n",
              "facilities                  0.196853\n",
              "heatingCosts                0.681912\n",
              "energyEfficiencyClass       0.710668\n",
              "lastRefurbish               0.699792\n",
              "electricityBasePrice        0.825754\n",
              "electricityKwhPrice         0.825754\n",
              "date                        0.000000\n",
              "dtype: float64"
            ]
          },
          "execution_count": 66,
          "metadata": {},
          "output_type": "execute_result"
        }
      ],
      "source": [
        "immo.isna().sum() / len(immo)"
      ]
    },
    {
      "cell_type": "code",
      "execution_count": null,
      "metadata": {
        "colab": {
          "base_uri": "https://localhost:8080/"
        },
        "id": "rP67euyPEveU",
        "outputId": "d3a62512-7a57-4d50-9999-9d91c6374af7"
      },
      "outputs": [
        {
          "data": {
            "text/plain": [
              "(228333, 49)"
            ]
          },
          "execution_count": 79,
          "metadata": {},
          "output_type": "execute_result"
        }
      ],
      "source": [
        "immo = immo.dropna(subset= [\"totalRent\"])\n",
        "immo.shape"
      ]
    },
    {
      "cell_type": "code",
      "execution_count": null,
      "metadata": {
        "colab": {
          "base_uri": "https://localhost:8080/"
        },
        "id": "lprDcOQ5tkfg",
        "outputId": "df230e15-3edd-4f42-ee8a-43bc548fd98d"
      },
      "outputs": [
        {
          "data": {
            "text/plain": [
              "Index(['regio1', 'serviceCharge', 'heatingType', 'telekomTvOffer',\n",
              "       'telekomHybridUploadSpeed', 'newlyConst', 'balcony', 'picturecount',\n",
              "       'pricetrend', 'telekomUploadSpeed', 'totalRent', 'yearConstructed',\n",
              "       'scoutId', 'noParkSpaces', 'firingTypes', 'hasKitchen', 'geo_bln',\n",
              "       'cellar', 'yearConstructedRange', 'baseRent', 'houseNumber',\n",
              "       'livingSpace', 'geo_krs', 'condition', 'interiorQual', 'petsAllowed',\n",
              "       'street', 'streetPlain', 'lift', 'baseRentRange', 'typeOfFlat',\n",
              "       'geo_plz', 'noRooms', 'thermalChar', 'floor', 'numberOfFloors',\n",
              "       'noRoomsRange', 'garden', 'livingSpaceRange', 'regio2', 'regio3',\n",
              "       'description', 'facilities', 'heatingCosts', 'energyEfficiencyClass',\n",
              "       'lastRefurbish', 'electricityBasePrice', 'electricityKwhPrice', 'date'],\n",
              "      dtype='object')"
            ]
          },
          "execution_count": 80,
          "metadata": {},
          "output_type": "execute_result"
        }
      ],
      "source": [
        "immo.columns"
      ]
    },
    {
      "cell_type": "code",
      "execution_count": null,
      "metadata": {
        "id": "RhuO1eostkfh",
        "outputId": "a3170a98-a0fe-4d54-a607-0e2ae42fcf58"
      },
      "outputs": [
        {
          "data": {
            "text/plain": [
              "central_heating                   128977\n",
              "district_heating                   24808\n",
              "gas_heating                        19955\n",
              "self_contained_central_heating     19087\n",
              "floor_heating                      17697\n",
              "oil_heating                         5042\n",
              "heat_pump                           2737\n",
              "combined_heat_and_power_plant       1978\n",
              "night_storage_heater                1341\n",
              "wood_pellet_heating                  961\n",
              "electric_heating                     901\n",
              "stove_heating                        344\n",
              "solar_heating                        166\n",
              "Name: heatingType, dtype: int64"
            ]
          },
          "execution_count": 151,
          "metadata": {},
          "output_type": "execute_result"
        }
      ],
      "source": [
        "immo[\"heatingType\"].value_counts()"
      ]
    },
    {
      "cell_type": "code",
      "execution_count": null,
      "metadata": {
        "id": "IkXVHO_itkfj",
        "outputId": "e014f115-c90b-4fd2-bba4-5b3f194e8e51"
      },
      "outputs": [
        {
          "data": {
            "text/plain": [
              "ONE_YEAR_FREE    227632\n",
              "NONE               4957\n",
              "ON_DEMAND          3642\n",
              "Name: telekomTvOffer, dtype: int64"
            ]
          },
          "execution_count": 152,
          "metadata": {},
          "output_type": "execute_result"
        }
      ],
      "source": [
        "\n",
        "immo[\"telekomTvOffer\"].value_counts()"
      ]
    },
    {
      "cell_type": "code",
      "execution_count": null,
      "metadata": {
        "id": "GqxurvZNtkfk",
        "outputId": "76fa8ec4-fdbb-4661-f615-b44047dc1616"
      },
      "outputs": [
        {
          "data": {
            "text/plain": [
              "well_kept                             66591\n",
              "refurbished                           26964\n",
              "fully_renovated                       26368\n",
              "first_time_use                        21959\n",
              "mint_condition                        21938\n",
              "modernized                            17226\n",
              "first_time_use_after_refurbishment    15699\n",
              "negotiable                             2240\n",
              "need_of_renovation                     1372\n",
              "ripe_for_demolition                       4\n",
              "Name: condition, dtype: int64"
            ]
          },
          "execution_count": 155,
          "metadata": {},
          "output_type": "execute_result"
        }
      ],
      "source": [
        "immo[\"condition\"].value_counts()"
      ]
    },
    {
      "cell_type": "code",
      "execution_count": null,
      "metadata": {
        "id": "jpoP39-Utkfl",
        "outputId": "08f005f4-ba62-44e3-bb09-8745a4c455c5"
      },
      "outputs": [
        {
          "data": {
            "text/plain": [
              "Nordrhein_Westfalen       62863\n",
              "Sachsen                   58154\n",
              "Bayern                    21609\n",
              "Sachsen_Anhalt            20124\n",
              "Hessen                    17845\n",
              "Niedersachsen             16593\n",
              "Baden_Württemberg         16091\n",
              "Berlin                    10406\n",
              "Thüringen                  8388\n",
              "Rheinland_Pfalz            8368\n",
              "Brandenburg                6954\n",
              "Schleswig_Holstein         6668\n",
              "Mecklenburg_Vorpommern     6634\n",
              "Hamburg                    3759\n",
              "Bremen                     2965\n",
              "Saarland                   1429\n",
              "Name: regio1, dtype: int64"
            ]
          },
          "execution_count": 181,
          "metadata": {},
          "output_type": "execute_result"
        }
      ],
      "source": [
        "immo[\"regio1\"].value_counts()"
      ]
    },
    {
      "cell_type": "code",
      "execution_count": null,
      "metadata": {
        "colab": {
          "base_uri": "https://localhost:8080/"
        },
        "id": "X3daeMiUtkfl",
        "outputId": "1fd35f12-c327-44d0-9e81-5cfbfb6b82c5"
      },
      "outputs": [
        {
          "data": {
            "text/plain": [
              "True     3079\n",
              "False    1953\n",
              "Name: balcony, dtype: int64"
            ]
          },
          "execution_count": 17,
          "metadata": {},
          "output_type": "execute_result"
        }
      ],
      "source": [
        "immo[\"balcony\"].value_counts()"
      ]
    },
    {
      "cell_type": "code",
      "execution_count": null,
      "metadata": {
        "id": "JBci4wMstkfm"
      },
      "outputs": [],
      "source": [
        "num_cols = ['serviceCharge','picturecount','pricetrend','yearConstructed','noParkSpaces','baseRent','livingSpace','noRooms','thermalChar','numberOfFloors']\n",
        "cat_cols = ['regio1','heatingType','telekomTvOffer','firingTypes','condition','interiorQual','petsAllowed','typeOfFlat']\n",
        "binary_cols = ['newlyConst','balcony','hasKitchen','cellar','lift','garden']"
      ]
    },
    {
      "cell_type": "code",
      "execution_count": null,
      "metadata": {
        "id": "cjvOEzUbtkfm"
      },
      "outputs": [],
      "source": [
        "immo[num_cols] = immo[num_cols].fillna(0)\n",
        "immo[cat_cols] = immo[cat_cols].fillna(\"unknown\")"
      ]
    },
    {
      "cell_type": "code",
      "execution_count": null,
      "metadata": {
        "id": "QNEeKOM2vMT7"
      },
      "outputs": [],
      "source": [
        "cols = num_cols+cat_cols+binary_cols"
      ]
    },
    {
      "cell_type": "code",
      "execution_count": null,
      "metadata": {
        "id": "da82FotTFmqr"
      },
      "outputs": [],
      "source": [
        "for col in binary_cols:\n",
        "  immo[col] = immo[col]*1"
      ]
    },
    {
      "cell_type": "code",
      "execution_count": null,
      "metadata": {
        "colab": {
          "base_uri": "https://localhost:8080/",
          "height": 423
        },
        "id": "NZLBW8SyG1Hm",
        "outputId": "baba84bb-75da-4452-bc5d-1458e2a24e5b"
      },
      "outputs": [
        {
          "data": {
            "text/html": [
              "\n",
              "  <div id=\"df-a6518785-c2a0-4b51-bb38-fb165e363592\">\n",
              "    <div class=\"colab-df-container\">\n",
              "      <div>\n",
              "<style scoped>\n",
              "    .dataframe tbody tr th:only-of-type {\n",
              "        vertical-align: middle;\n",
              "    }\n",
              "\n",
              "    .dataframe tbody tr th {\n",
              "        vertical-align: top;\n",
              "    }\n",
              "\n",
              "    .dataframe thead th {\n",
              "        text-align: right;\n",
              "    }\n",
              "</style>\n",
              "<table border=\"1\" class=\"dataframe\">\n",
              "  <thead>\n",
              "    <tr style=\"text-align: right;\">\n",
              "      <th></th>\n",
              "      <th>newlyConst</th>\n",
              "      <th>balcony</th>\n",
              "      <th>hasKitchen</th>\n",
              "      <th>cellar</th>\n",
              "      <th>lift</th>\n",
              "      <th>garden</th>\n",
              "    </tr>\n",
              "  </thead>\n",
              "  <tbody>\n",
              "    <tr>\n",
              "      <th>0</th>\n",
              "      <td>0</td>\n",
              "      <td>0</td>\n",
              "      <td>0</td>\n",
              "      <td>1</td>\n",
              "      <td>0</td>\n",
              "      <td>1</td>\n",
              "    </tr>\n",
              "    <tr>\n",
              "      <th>2</th>\n",
              "      <td>1</td>\n",
              "      <td>1</td>\n",
              "      <td>0</td>\n",
              "      <td>1</td>\n",
              "      <td>1</td>\n",
              "      <td>0</td>\n",
              "    </tr>\n",
              "    <tr>\n",
              "      <th>4</th>\n",
              "      <td>0</td>\n",
              "      <td>1</td>\n",
              "      <td>0</td>\n",
              "      <td>0</td>\n",
              "      <td>0</td>\n",
              "      <td>0</td>\n",
              "    </tr>\n",
              "    <tr>\n",
              "      <th>6</th>\n",
              "      <td>0</td>\n",
              "      <td>0</td>\n",
              "      <td>0</td>\n",
              "      <td>1</td>\n",
              "      <td>0</td>\n",
              "      <td>1</td>\n",
              "    </tr>\n",
              "    <tr>\n",
              "      <th>7</th>\n",
              "      <td>0</td>\n",
              "      <td>1</td>\n",
              "      <td>0</td>\n",
              "      <td>1</td>\n",
              "      <td>0</td>\n",
              "      <td>0</td>\n",
              "    </tr>\n",
              "    <tr>\n",
              "      <th>...</th>\n",
              "      <td>...</td>\n",
              "      <td>...</td>\n",
              "      <td>...</td>\n",
              "      <td>...</td>\n",
              "      <td>...</td>\n",
              "      <td>...</td>\n",
              "    </tr>\n",
              "    <tr>\n",
              "      <th>268844</th>\n",
              "      <td>0</td>\n",
              "      <td>0</td>\n",
              "      <td>0</td>\n",
              "      <td>0</td>\n",
              "      <td>0</td>\n",
              "      <td>0</td>\n",
              "    </tr>\n",
              "    <tr>\n",
              "      <th>268845</th>\n",
              "      <td>0</td>\n",
              "      <td>1</td>\n",
              "      <td>0</td>\n",
              "      <td>1</td>\n",
              "      <td>0</td>\n",
              "      <td>0</td>\n",
              "    </tr>\n",
              "    <tr>\n",
              "      <th>268846</th>\n",
              "      <td>0</td>\n",
              "      <td>1</td>\n",
              "      <td>1</td>\n",
              "      <td>0</td>\n",
              "      <td>0</td>\n",
              "      <td>0</td>\n",
              "    </tr>\n",
              "    <tr>\n",
              "      <th>268847</th>\n",
              "      <td>0</td>\n",
              "      <td>1</td>\n",
              "      <td>0</td>\n",
              "      <td>1</td>\n",
              "      <td>0</td>\n",
              "      <td>1</td>\n",
              "    </tr>\n",
              "    <tr>\n",
              "      <th>268848</th>\n",
              "      <td>1</td>\n",
              "      <td>1</td>\n",
              "      <td>0</td>\n",
              "      <td>1</td>\n",
              "      <td>1</td>\n",
              "      <td>0</td>\n",
              "    </tr>\n",
              "  </tbody>\n",
              "</table>\n",
              "<p>228333 rows × 6 columns</p>\n",
              "</div>\n",
              "      <button class=\"colab-df-convert\" onclick=\"convertToInteractive('df-a6518785-c2a0-4b51-bb38-fb165e363592')\"\n",
              "              title=\"Convert this dataframe to an interactive table.\"\n",
              "              style=\"display:none;\">\n",
              "        \n",
              "  <svg xmlns=\"http://www.w3.org/2000/svg\" height=\"24px\"viewBox=\"0 0 24 24\"\n",
              "       width=\"24px\">\n",
              "    <path d=\"M0 0h24v24H0V0z\" fill=\"none\"/>\n",
              "    <path d=\"M18.56 5.44l.94 2.06.94-2.06 2.06-.94-2.06-.94-.94-2.06-.94 2.06-2.06.94zm-11 1L8.5 8.5l.94-2.06 2.06-.94-2.06-.94L8.5 2.5l-.94 2.06-2.06.94zm10 10l.94 2.06.94-2.06 2.06-.94-2.06-.94-.94-2.06-.94 2.06-2.06.94z\"/><path d=\"M17.41 7.96l-1.37-1.37c-.4-.4-.92-.59-1.43-.59-.52 0-1.04.2-1.43.59L10.3 9.45l-7.72 7.72c-.78.78-.78 2.05 0 2.83L4 21.41c.39.39.9.59 1.41.59.51 0 1.02-.2 1.41-.59l7.78-7.78 2.81-2.81c.8-.78.8-2.07 0-2.86zM5.41 20L4 18.59l7.72-7.72 1.47 1.35L5.41 20z\"/>\n",
              "  </svg>\n",
              "      </button>\n",
              "      \n",
              "  <style>\n",
              "    .colab-df-container {\n",
              "      display:flex;\n",
              "      flex-wrap:wrap;\n",
              "      gap: 12px;\n",
              "    }\n",
              "\n",
              "    .colab-df-convert {\n",
              "      background-color: #E8F0FE;\n",
              "      border: none;\n",
              "      border-radius: 50%;\n",
              "      cursor: pointer;\n",
              "      display: none;\n",
              "      fill: #1967D2;\n",
              "      height: 32px;\n",
              "      padding: 0 0 0 0;\n",
              "      width: 32px;\n",
              "    }\n",
              "\n",
              "    .colab-df-convert:hover {\n",
              "      background-color: #E2EBFA;\n",
              "      box-shadow: 0px 1px 2px rgba(60, 64, 67, 0.3), 0px 1px 3px 1px rgba(60, 64, 67, 0.15);\n",
              "      fill: #174EA6;\n",
              "    }\n",
              "\n",
              "    [theme=dark] .colab-df-convert {\n",
              "      background-color: #3B4455;\n",
              "      fill: #D2E3FC;\n",
              "    }\n",
              "\n",
              "    [theme=dark] .colab-df-convert:hover {\n",
              "      background-color: #434B5C;\n",
              "      box-shadow: 0px 1px 3px 1px rgba(0, 0, 0, 0.15);\n",
              "      filter: drop-shadow(0px 1px 2px rgba(0, 0, 0, 0.3));\n",
              "      fill: #FFFFFF;\n",
              "    }\n",
              "  </style>\n",
              "\n",
              "      <script>\n",
              "        const buttonEl =\n",
              "          document.querySelector('#df-a6518785-c2a0-4b51-bb38-fb165e363592 button.colab-df-convert');\n",
              "        buttonEl.style.display =\n",
              "          google.colab.kernel.accessAllowed ? 'block' : 'none';\n",
              "\n",
              "        async function convertToInteractive(key) {\n",
              "          const element = document.querySelector('#df-a6518785-c2a0-4b51-bb38-fb165e363592');\n",
              "          const dataTable =\n",
              "            await google.colab.kernel.invokeFunction('convertToInteractive',\n",
              "                                                     [key], {});\n",
              "          if (!dataTable) return;\n",
              "\n",
              "          const docLinkHtml = 'Like what you see? Visit the ' +\n",
              "            '<a target=\"_blank\" href=https://colab.research.google.com/notebooks/data_table.ipynb>data table notebook</a>'\n",
              "            + ' to learn more about interactive tables.';\n",
              "          element.innerHTML = '';\n",
              "          dataTable['output_type'] = 'display_data';\n",
              "          await google.colab.output.renderOutput(dataTable, element);\n",
              "          const docLink = document.createElement('div');\n",
              "          docLink.innerHTML = docLinkHtml;\n",
              "          element.appendChild(docLink);\n",
              "        }\n",
              "      </script>\n",
              "    </div>\n",
              "  </div>\n",
              "  "
            ],
            "text/plain": [
              "        newlyConst  balcony  hasKitchen  cellar  lift  garden\n",
              "0                0        0           0       1     0       1\n",
              "2                1        1           0       1     1       0\n",
              "4                0        1           0       0     0       0\n",
              "6                0        0           0       1     0       1\n",
              "7                0        1           0       1     0       0\n",
              "...            ...      ...         ...     ...   ...     ...\n",
              "268844           0        0           0       0     0       0\n",
              "268845           0        1           0       1     0       0\n",
              "268846           0        1           1       0     0       0\n",
              "268847           0        1           0       1     0       1\n",
              "268848           1        1           0       1     1       0\n",
              "\n",
              "[228333 rows x 6 columns]"
            ]
          },
          "execution_count": 85,
          "metadata": {},
          "output_type": "execute_result"
        }
      ],
      "source": [
        "immo[binary_cols]"
      ]
    },
    {
      "cell_type": "code",
      "execution_count": null,
      "metadata": {
        "id": "VapTQ5Rwtkfn"
      },
      "outputs": [],
      "source": [
        "x = immo[cols]\n",
        "y= immo['totalRent']"
      ]
    },
    {
      "cell_type": "code",
      "execution_count": null,
      "metadata": {
        "colab": {
          "base_uri": "https://localhost:8080/"
        },
        "id": "WXfbt2TSIoiE",
        "outputId": "a603708a-28b9-4f33-92ce-189b59f38942"
      },
      "outputs": [
        {
          "data": {
            "text/plain": [
              "Index(['serviceCharge', 'picturecount', 'pricetrend', 'yearConstructed',\n",
              "       'noParkSpaces', 'baseRent', 'livingSpace', 'noRooms', 'thermalChar',\n",
              "       'numberOfFloors', 'regio1', 'heatingType', 'telekomTvOffer',\n",
              "       'firingTypes', 'condition', 'interiorQual', 'petsAllowed', 'typeOfFlat',\n",
              "       'newlyConst', 'balcony', 'hasKitchen', 'cellar', 'lift', 'garden'],\n",
              "      dtype='object')"
            ]
          },
          "execution_count": 87,
          "metadata": {},
          "output_type": "execute_result"
        }
      ],
      "source": [
        "x.columns"
      ]
    },
    {
      "cell_type": "code",
      "execution_count": null,
      "metadata": {
        "id": "_E_BlASC4TBe"
      },
      "outputs": [],
      "source": [
        "# encode categorical variables\n",
        "oh = OneHotEncoder(sparse=False)\n",
        "xoh = oh.fit_transform(x[cat_cols])\n",
        "xoh = pd.DataFrame(xoh,columns = oh.get_feature_names_out())"
      ]
    },
    {
      "cell_type": "code",
      "execution_count": null,
      "metadata": {
        "id": "MBmCKjhN5jWb"
      },
      "outputs": [],
      "source": [
        "#x = pd.concat([xoh, immo[num_cols+binary_cols]],axis=1)"
      ]
    },
    {
      "cell_type": "code",
      "execution_count": null,
      "metadata": {
        "colab": {
          "base_uri": "https://localhost:8080/"
        },
        "id": "gm50uIVz6aCN",
        "outputId": "47e4a813-ae71-4bc6-d2ae-b5459109b6a9"
      },
      "outputs": [
        {
          "data": {
            "text/plain": [
              "(262560, 201)"
            ]
          },
          "execution_count": 93,
          "metadata": {},
          "output_type": "execute_result"
        }
      ],
      "source": [
        "#x.shape"
      ]
    },
    {
      "cell_type": "code",
      "execution_count": null,
      "metadata": {
        "id": "Y_6zBz6lJZMU"
      },
      "outputs": [],
      "source": [
        "x = pd.merge(xoh.reset_index(drop=True),immo[num_cols+binary_cols].reset_index(drop=True), left_index=True, right_index=True)"
      ]
    },
    {
      "cell_type": "code",
      "execution_count": null,
      "metadata": {
        "colab": {
          "base_uri": "https://localhost:8080/"
        },
        "id": "21EZ_PGmOGfQ",
        "outputId": "2da91bbf-a498-4aea-f142-5ead3d5f1771"
      },
      "outputs": [
        {
          "data": {
            "text/plain": [
              "(228333, 201)"
            ]
          },
          "execution_count": 95,
          "metadata": {},
          "output_type": "execute_result"
        }
      ],
      "source": [
        "x.shape"
      ]
    },
    {
      "cell_type": "code",
      "execution_count": null,
      "metadata": {
        "id": "nxrrIAIc7EO-"
      },
      "outputs": [],
      "source": [
        "x_train,x_test,y_train,y_test= train_test_split(x,y, train_size=0.8, random_state=123)"
      ]
    },
    {
      "cell_type": "code",
      "execution_count": null,
      "metadata": {
        "id": "wkhR0LK8tkfn"
      },
      "outputs": [],
      "source": [
        "column_transformer = make_column_transformer(\n",
        "    #(OneHotEncoder(sparse=False), cat_cols),\n",
        "    (StandardScaler(), num_cols),\n",
        "    remainder='passthrough')\n",
        "\n",
        "X_train = column_transformer.fit_transform(x_train)\n"
      ]
    },
    {
      "cell_type": "code",
      "execution_count": null,
      "metadata": {
        "colab": {
          "base_uri": "https://localhost:8080/"
        },
        "id": "xTS7cQbHuJFY",
        "outputId": "f085ccac-fde0-43a5-8802-aa8840136516"
      },
      "outputs": [
        {
          "data": {
            "text/plain": [
              "(182666, 201)"
            ]
          },
          "execution_count": 98,
          "metadata": {},
          "output_type": "execute_result"
        }
      ],
      "source": [
        "X_train.shape"
      ]
    },
    {
      "cell_type": "code",
      "execution_count": null,
      "metadata": {
        "id": "NUMgEmijvyW8"
      },
      "outputs": [],
      "source": [
        "#from github\n",
        "from sklearn.pipeline import Pipeline\n",
        "\n",
        "def get_column_names_from_ColumnTransformer(column_transformer):    \n",
        "    col_name = []\n",
        "    for transformer_in_columns in column_transformer.transformers_[:-1]:#the last transformer is ColumnTransformer's 'remainder'\n",
        "        raw_col_name = transformer_in_columns[2]\n",
        "        if isinstance(transformer_in_columns[1],Pipeline): \n",
        "            transformer = transformer_in_columns[1].steps[-1][1]\n",
        "        else:\n",
        "            transformer = transformer_in_columns[1]\n",
        "        try:\n",
        "            names = transformer.get_feature_names_out()\n",
        "        except AttributeError: # if no 'get_feature_names' function, use raw column name\n",
        "            names = raw_col_name\n",
        "        if isinstance(names,np.ndarray): # eg.\n",
        "            col_name += names.tolist()\n",
        "        elif isinstance(names,list):\n",
        "            col_name += names    \n",
        "        elif isinstance(names,str):\n",
        "            col_name.append(names)\n",
        "    return col_name\n",
        "  "
      ]
    },
    {
      "cell_type": "code",
      "execution_count": null,
      "metadata": {
        "id": "yE9_PuZBzQu-"
      },
      "outputs": [],
      "source": [
        "x_train = pd.DataFrame(data=X_train, columns=get_column_names_from_ColumnTransformer(column_transformer)+list(xoh.columns)+binary_cols)"
      ]
    },
    {
      "cell_type": "code",
      "execution_count": null,
      "metadata": {
        "id": "Ob61t8sn09ZN"
      },
      "outputs": [],
      "source": [
        "x_test = column_transformer.fit_transform(x_test)\n",
        "x_test = pd.DataFrame(data=x_test, columns=get_column_names_from_ColumnTransformer(column_transformer)+list(xoh.columns)+binary_cols)"
      ]
    },
    {
      "cell_type": "code",
      "execution_count": null,
      "metadata": {
        "colab": {
          "base_uri": "https://localhost:8080/"
        },
        "id": "s5DxHJ_v29Ra",
        "outputId": "8c3e190d-6762-4bc8-90f6-3cc5d7ce8e22"
      },
      "outputs": [
        {
          "data": {
            "text/plain": [
              "(45667, 201)"
            ]
          },
          "execution_count": 102,
          "metadata": {},
          "output_type": "execute_result"
        }
      ],
      "source": [
        "x_test.shape"
      ]
    },
    {
      "cell_type": "code",
      "execution_count": null,
      "metadata": {
        "id": "HAvvOLTo2rmr"
      },
      "outputs": [],
      "source": [
        "y_pred = knn_regession(x_train,x_test,5,\"euclidean\")\n",
        "plt.scatter(y_test,y_pred,alpha=0.3)\n",
        "plt.show()"
      ]
    },
    {
      "cell_type": "code",
      "execution_count": null,
      "metadata": {
        "id": "zn4wXQE9HdXK"
      },
      "outputs": [],
      "source": [
        ""
      ]
    },
    {
      "cell_type": "code",
      "execution_count": null,
      "metadata": {
        "colab": {
          "base_uri": "https://localhost:8080/",
          "height": 278
        },
        "id": "EArybt33Cmy2",
        "outputId": "92e7b6d7-bcc4-491f-b3c0-c0621e7a5762"
      },
      "outputs": [
        {
          "data": {
            "image/png": "[encoded data removed]",
            "text/plain": [
              "<Figure size 432x288 with 1 Axes>"
            ]
          },
          "metadata": {},
          "output_type": "display_data"
        }
      ],
      "source": [
        "knn = KNeighborsRegressor(n_neighbors=5, metric=\"euclidean\")\n",
        "knn_model = knn.fit(x_train,y_train)\n",
        "knn_prediction = knn_model.predict(x_test)\n",
        "\n",
        "plt.scatter(y_test,knn_prediction,alpha=0.3)\n",
        "plt.show()"
      ]
    },
    {
      "cell_type": "code",
      "execution_count": null,
      "metadata": {
        "id": "_STA87NKCytU"
      },
      "outputs": [],
      "source": [
        ""
      ]
    },
    {
      "cell_type": "code",
      "execution_count": null,
      "metadata": {
        "id": "rCXWtHGmCyqK"
      },
      "outputs": [],
      "source": [
        ""
      ]
    },
    {
      "cell_type": "code",
      "execution_count": null,
      "metadata": {
        "id": "FTEXzoX8CyoW"
      },
      "outputs": [],
      "source": [
        ""
      ]
    },
    {
      "cell_type": "code",
      "execution_count": null,
      "metadata": {
        "id": "AbNcVqsDCylv"
      },
      "outputs": [],
      "source": [
        ""
      ]
    },
    {
      "cell_type": "code",
      "execution_count": null,
      "metadata": {
        "id": "aO_MWp9aCyj2"
      },
      "outputs": [],
      "source": [
        ""
      ]
    },
    {
      "cell_type": "code",
      "execution_count": null,
      "metadata": {
        "id": "qDuIpFSICyfd"
      },
      "outputs": [],
      "source": [
        ""
      ]
    }
  ],
  "metadata": {
    "colab": {
      "collapsed_sections": [
        "e7U4GNR0tkfe"
      ],
      "name": "KNN.ipynb",
      "provenance": []
    },
    "interpreter": {
      "hash": "9ff6981a40a25e7d7f81b038f49390a155b5506515243c0fd67dd5026b82895d"
    },
    "kernelspec": {
      "display_name": "Python 3.7.11 ('env_py')",
      "language": "python",
      "name": "python3"
    },
    "language_info": {
      "codemirror_mode": {
        "name": "ipython",
        "version": 3
      },
      "file_extension": ".py",
      "mimetype": "text/x-python",
      "name": "python",
      "nbconvert_exporter": "python",
      "pygments_lexer": "ipython3",
      "version": "3.7.11"
    }
  },
  "nbformat": 4,
  "nbformat_minor": 0
}