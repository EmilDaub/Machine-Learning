{
  "nbformat": 4,
  "nbformat_minor": 0,
  "metadata": {
    "colab": {
      "name": "ReadData.ipynb",
      "provenance": [],
      "collapsed_sections": []
    },
    "kernelspec": {
      "name": "python3",
      "display_name": "Python 3"
    },
    "language_info": {
      "name": "python"
    }
  },
  "cells": [
    {
      "cell_type": "code",
      "execution_count": 1,
      "metadata": {
        "id": "BTXWNNxuO5FY"
      },
      "outputs": [],
      "source": [
        "import pandas as pd\n",
        "import numpy as np\n",
        "import matplotlib.pyplot as plt\n",
        "import random\n",
        "import math\n",
        "from sklearn.model_selection import train_test_split\n",
        "from sklearn.metrics import mean_squared_error, mean_absolute_error "
      ]
    },
    {
      "cell_type": "code",
      "source": [
        "parkinson_path = 'parkinsons_updrs.csv'\n",
        "possum_path= 'possum.csv'\n",
        "diamonds_path = 'diamonds.csv'"
      ],
      "metadata": {
        "id": "URIYk390PHER"
      },
      "execution_count": 2,
      "outputs": []
    },
    {
      "cell_type": "code",
      "source": [
        "parkinsons  = pd.read_csv(parkinson_path)\n",
        "possum = pd.read_csv(possum_path)\n",
        "diamonds = pd.read_csv(diamonds_path)"
      ],
      "metadata": {
        "id": "rD3eoZu6Paw_"
      },
      "execution_count": 3,
      "outputs": []
    },
    {
      "cell_type": "code",
      "source": [
        "parkinsons_norm=parkinsons.apply(lambda rec:(rec-rec.mean())/rec.std(),axis=0)\n",
        "X_parkinsons= parkinsons_norm.drop(parkinsons_norm.columns[[5]], axis=1) \n",
        "y_parkinsons=parkinsons[\"total_UPDRS\"]\n",
        "x_train_parkinsons, x_test_parkinsons, y_train_parkinsons, y_test_parkinsons = train_test_split(X_parkinsons, y_parkinsons, test_size=0.2, random_state= 0)"
      ],
      "metadata": {
        "id": "WxTHuTokPnI0"
      },
      "execution_count": 4,
      "outputs": []
    },
    {
      "cell_type": "code",
      "source": [
        "possum = possum.dropna()\n",
        "possum['sex'].replace({'m':0, 'f':1}, inplace=True)\n",
        "possum['Pop'].replace({'Vic':0, 'other':1, }, inplace=True)\n",
        "possum_norm=possum.apply(lambda rec:(rec-rec.mean())/rec.std(),axis=0)\n",
        "X_possum= possum_norm.drop(possum_norm.columns[[0,4]], axis=1) \n",
        "y_possum=possum[\"age\"]\n",
        "x_train_possum, x_test_possum, y_train_possum, y_test_possum = train_test_split(X_possum, y_possum, test_size=0.2, random_state= 0)"
      ],
      "metadata": {
        "id": "gvONa9SFP6Z6"
      },
      "execution_count": 7,
      "outputs": []
    },
    {
      "cell_type": "code",
      "source": [
        "diamonds['cut'].replace({'Fair':0, 'Good':1, '\\'Very Good\\'':2, 'Premium':3, 'Ideal':4}, inplace=True)\n",
        "diamonds['color'].replace({'J':0, 'I':1, 'H':2, 'G':3, 'F':4, 'E':5, 'D':6}, inplace=True)\n",
        "diamonds['clarity'].replace({'I1':0, 'SI2':1, 'SI1':2, 'VS2':3, 'VS1':4, 'VVS2':5, 'VVS1':6, 'IF':7}, inplace=True)\n",
        "diamonds_norm=diamonds.apply(lambda rec:(rec-rec.mean())/rec.std(),axis=0)\n",
        "X_diamonds= diamonds_norm.drop(diamonds_norm.columns[[6]], axis=1) \n",
        "y_diamonds=diamonds[\"price\"]\n",
        "x_train_diamonds, x_test_diamonds, y_train_diamonds, y_test_diamonds = train_test_split(X_diamonds, y_diamonds, test_size=0.2, random_state= 0)"
      ],
      "metadata": {
        "id": "C4UEmLW4QOV8"
      },
      "execution_count": 9,
      "outputs": []
    },
    {
      "cell_type": "code",
      "source": [
        ""
      ],
      "metadata": {
        "id": "tJqbjHs5Qt_T"
      },
      "execution_count": null,
      "outputs": []
    }
  ]
}