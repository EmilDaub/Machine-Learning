{
  "cells": [
    {
      "cell_type": "code",
      "execution_count": 4,
      "metadata": {
        "id": "BTXWNNxuO5FY"
      },
      "outputs": [],
      "source": [
        "import pandas as pd\n",
        "import numpy as np\n",
        "import matplotlib.pyplot as plt\n",
        "import random\n",
        "import math\n",
        "from sklearn.model_selection import train_test_split\n",
        "from sklearn.preprocessing import StandardScaler\n",
        "from sklearn.metrics import mean_squared_error, mean_absolute_error "
      ]
    },
    {
      "cell_type": "code",
      "execution_count": 2,
      "metadata": {
        "id": "URIYk390PHER"
      },
      "outputs": [],
      "source": [
        "parkinson_path = 'parkinsons_updrs.data'\n",
        "possum_path= 'possum.csv'\n",
        "diamonds_path = 'diamonds.csv'"
      ]
    },
    {
      "cell_type": "code",
      "execution_count": 3,
      "metadata": {
        "id": "rD3eoZu6Paw_"
      },
      "outputs": [],
      "source": [
        "parkinsons  = pd.read_csv(parkinson_path)\n",
        "possum = pd.read_csv(possum_path)\n",
        "diamonds = pd.read_csv(diamonds_path)"
      ]
    },
    {
      "cell_type": "code",
      "execution_count": 5,
      "metadata": {
        "id": "WxTHuTokPnI0"
      },
      "outputs": [],
      "source": [
        "X_parkinsons= parkinsons[['age', 'sex',  'Jitter(%)', 'Shimmer',  'NHR', 'HNR', 'RPDE', 'DFA', 'PPE']] # other columns dropped because of high correlations\n",
        "y_parkinsons= parkinsons[\"total_UPDRS\"]\n",
        "x_train_parkinsons, x_test_parkinsons, y_train_parkinsons, y_test_parkinsons = train_test_split(X_parkinsons, y_parkinsons, test_size=0.2, random_state= 0)\n",
        "# scale data\n",
        "scaler = StandardScaler()\n",
        "x_train_parkinsons_sc =  scaler.fit_transform(x_train_parkinsons)\n",
        "x_test_parkinsons_sc =  scaler.fit_transform(x_test_parkinsons)"
      ]
    },
    {
      "cell_type": "code",
      "execution_count": 7,
      "metadata": {
        "id": "gvONa9SFP6Z6"
      },
      "outputs": [],
      "source": [
        "possum = possum.dropna()\n",
        "possum['sex'].replace({'m':0, 'f':1}, inplace=True)\n",
        "possum['Pop'].replace({'Vic':0, 'other':1, }, inplace=True)\n",
        "#possum_norm=possum.apply(lambda rec:(rec-rec.mean())/rec.std(),axis=0)\n",
        "X_possum= possum.drop(possum.columns[[0,4]], axis=1) \n",
        "y_possum=possum[\"age\"]\n",
        "x_train_possum, x_test_possum, y_train_possum, y_test_possum = train_test_split(X_possum, y_possum, test_size=0.2, random_state= 0)\n",
        "# scale data\n",
        "scaler = StandardScaler()\n",
        "x_train_possum_sc =  scaler.fit_transform(x_train_possum)\n",
        "x_test_possum_sc =  scaler.fit_transform(x_test_possum)"
      ]
    },
    {
      "cell_type": "code",
      "execution_count": 9,
      "metadata": {
        "id": "C4UEmLW4QOV8"
      },
      "outputs": [],
      "source": [
        "diamonds['cut'].replace({'Fair':0, 'Good':1, '\\'Very Good\\'':2, 'Premium':3, 'Ideal':4}, inplace=True)\n",
        "diamonds['color'].replace({'J':0, 'I':1, 'H':2, 'G':3, 'F':4, 'E':5, 'D':6}, inplace=True)\n",
        "diamonds['clarity'].replace({'I1':0, 'SI2':1, 'SI1':2, 'VS2':3, 'VS1':4, 'VVS2':5, 'VVS1':6, 'IF':7}, inplace=True)\n",
        "#diamonds_norm=diamonds.apply(lambda rec:(rec-rec.mean())/rec.std(),axis=0)\n",
        "X_diamonds= diamonds.drop(diamonds.columns[[6]], axis=1) \n",
        "y_diamonds=diamonds[\"price\"]\n",
        "x_train_diamonds, x_test_diamonds, y_train_diamonds, y_test_diamonds = train_test_split(X_diamonds, y_diamonds, test_size=0.2, random_state= 0)\n",
        "# scale data\n",
        "scaler = StandardScaler()\n",
        "x_train_diamonds_sc =  scaler.fit_transform(x_train_diamonds)\n",
        "x_test_diamonds_sc =  scaler.fit_transform(x_test_diamonds)"
      ]
    },
    {
      "cell_type": "code",
      "execution_count": null,
      "metadata": {
        "id": "tJqbjHs5Qt_T"
      },
      "outputs": [],
      "source": []
    }
  ],
  "metadata": {
    "colab": {
      "collapsed_sections": [],
      "name": "ReadData.ipynb",
      "provenance": []
    },
    "interpreter": {
      "hash": "9ff6981a40a25e7d7f81b038f49390a155b5506515243c0fd67dd5026b82895d"
    },
    "kernelspec": {
      "display_name": "Python 3.7.11 ('env_py')",
      "language": "python",
      "name": "python3"
    },
    "language_info": {
      "codemirror_mode": {
        "name": "ipython",
        "version": 3
      },
      "file_extension": ".py",
      "mimetype": "text/x-python",
      "name": "python",
      "nbconvert_exporter": "python",
      "pygments_lexer": "ipython3",
      "version": "3.7.11"
    }
  },
  "nbformat": 4,
  "nbformat_minor": 0
}
