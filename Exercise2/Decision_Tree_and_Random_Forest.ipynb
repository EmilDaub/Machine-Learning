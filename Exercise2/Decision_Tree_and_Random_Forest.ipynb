{
 "cells": [
  {
   "cell_type": "code",
   "execution_count": 1,
   "metadata": {
    "id": "BTXWNNxuO5FY"
   },
   "outputs": [],
   "source": [
    "import pandas as pd\n",
    "import numpy as np\n",
    "import matplotlib.pyplot as plt\n",
    "import random\n",
    "import math\n",
    "from sklearn.metrics import mean_squared_error, mean_absolute_error\n",
    "plt.style.use('ggplot')\n",
    "import seaborn as sns\n",
    "from seaborn import pairplot\n",
    "\n",
    "from sklearn.preprocessing import LabelEncoder, StandardScaler\n",
    "from sklearn.impute import KNNImputer\n",
    "from sklearn.preprocessing import StandardScaler\n",
    "from sklearn.compose import make_column_transformer\n",
    "from sklearn.model_selection import train_test_split, cross_val_score\n",
    "\n",
    "from sklearn.tree import DecisionTreeRegressor, plot_tree, export_graphviz\n",
    "from sklearn.ensemble import RandomForestClassifier\n",
    "from sklearn.neighbors import KNeighborsClassifier\n",
    "from sklearn.naive_bayes import GaussianNB\n",
    "from sklearn.svm import SVC\n",
    "from sklearn.ensemble import RandomForestRegressor\n",
    "\n",
    "from sklearn import metrics\n",
    "import time"
   ]
  },
  {
   "cell_type": "code",
   "execution_count": 16,
   "metadata": {},
   "outputs": [],
   "source": [
    "def cross_validation(mod,X, y,metric,k=5):\n",
    "    \n",
    "    cv_scores = cross_val_score(mod,X,y,cv=k,scoring = metric)\n",
    "    if metric == \"neg_mean_squared_error\":\n",
    "        print(\"Cross validated scores based on MSE:\", abs(cv_scores))\n",
    "    elif metric ==\"neg_mean_absolute_error\":\n",
    "        print(\"Cross validated scores based on MAE:\", abs(cv_scores))"
   ]
  },
  {
   "cell_type": "code",
   "execution_count": 2,
   "metadata": {
    "id": "URIYk390PHER"
   },
   "outputs": [],
   "source": [
    "parkinson_path = 'parkinsons_updrs.data'\n",
    "possum_path= 'possum.csv'\n",
    "diamonds_path = 'diamonds.csv'"
   ]
  },
  {
   "cell_type": "code",
   "execution_count": 3,
   "metadata": {
    "id": "rD3eoZu6Paw_"
   },
   "outputs": [],
   "source": [
    "parkinsons  = pd.read_csv(parkinson_path)\n",
    "possum = pd.read_csv(possum_path)\n",
    "diamonds = pd.read_csv(diamonds_path)"
   ]
  },
  {
   "cell_type": "code",
   "execution_count": 5,
   "metadata": {
    "id": "WxTHuTokPnI0"
   },
   "outputs": [],
   "source": [
    "X_parkinsons= parkinsons.drop(['motor_UPDRS','total_UPDRS'],axis=1)\n",
    "y_parkinsons= parkinsons[\"total_UPDRS\"]\n",
    "x_train_parkinsons, x_test_parkinsons, y_train_parkinsons, y_test_parkinsons = train_test_split(X_parkinsons, y_parkinsons, test_size=0.2, random_state= 0)\n",
    "# scale data\n",
    "scaler = StandardScaler()\n",
    "x_train_parkinsons_sc =  scaler.fit_transform(x_train_parkinsons)\n",
    "x_test_parkinsons_sc =  scaler.fit_transform(x_test_parkinsons)"
   ]
  },
  {
   "cell_type": "code",
   "execution_count": 6,
   "metadata": {
    "id": "gvONa9SFP6Z6"
   },
   "outputs": [],
   "source": [
    "possum = possum.dropna()\n",
    "possum['sex'].replace({'m':0, 'f':1}, inplace=True)\n",
    "possum['Pop'].replace({'Vic':0, 'other':1, }, inplace=True)\n",
    "#possum_norm=possum.apply(lambda rec:(rec-rec.mean())/rec.std(),axis=0)\n",
    "X_possum= possum.drop(possum.columns[[0,4]], axis=1) \n",
    "y_possum=possum[\"age\"]\n",
    "x_train_possum, x_test_possum, y_train_possum, y_test_possum = train_test_split(X_possum, y_possum, test_size=0.2, random_state= 0)\n",
    "# scale data\n",
    "scaler = StandardScaler()\n",
    "x_train_possum_sc =  scaler.fit_transform(x_train_possum)\n",
    "x_test_possum_sc =  scaler.fit_transform(x_test_possum)"
   ]
  },
  {
   "cell_type": "code",
   "execution_count": 7,
   "metadata": {
    "id": "C4UEmLW4QOV8"
   },
   "outputs": [],
   "source": [
    "diamonds['cut'].replace({'Fair':0, 'Good':1, '\\'Very Good\\'':2, 'Premium':3, 'Ideal':4}, inplace=True)\n",
    "diamonds['color'].replace({'J':0, 'I':1, 'H':2, 'G':3, 'F':4, 'E':5, 'D':6}, inplace=True)\n",
    "diamonds['clarity'].replace({'I1':0, 'SI2':1, 'SI1':2, 'VS2':3, 'VS1':4, 'VVS2':5, 'VVS1':6, 'IF':7}, inplace=True)\n",
    "#diamonds_norm=diamonds.apply(lambda rec:(rec-rec.mean())/rec.std(),axis=0)\n",
    "X_diamonds= diamonds.drop(diamonds.columns[[6]], axis=1) \n",
    "y_diamonds=diamonds[\"price\"]\n",
    "x_train_diamonds, x_test_diamonds, y_train_diamonds, y_test_diamonds = train_test_split(X_diamonds, y_diamonds, test_size=0.2, random_state= 0)\n",
    "# scale data\n",
    "scaler = StandardScaler()\n",
    "x_train_diamonds_sc =  scaler.fit_transform(x_train_diamonds)\n",
    "x_test_diamonds_sc =  scaler.fit_transform(x_test_diamonds)"
   ]
  },
  {
   "cell_type": "markdown",
   "metadata": {},
   "source": [
    "## Parkinson Random Forest"
   ]
  },
  {
   "cell_type": "code",
   "execution_count": 17,
   "metadata": {
    "id": "tJqbjHs5Qt_T"
   },
   "outputs": [
    {
     "name": "stdout",
     "output_type": "stream",
     "text": [
      "--- runtime --- 6.747156381607056\n",
      "mean_squared_error:  0.16537200643735853\n",
      "mean_absolute_error:  0.1727479217021284\n",
      "Cross validated scores based on MSE: [0.34902297 0.20260987 0.28803326 0.33351998 0.26427025]\n",
      "Cross validated scores based on MAE: [0.24194296 0.22456895 0.24648531 0.25440717 0.21868485]\n"
     ]
    }
   ],
   "source": [
    "start_time = time.time()\n",
    "clf_park = RandomForestRegressor(n_estimators=100,random_state=0)\n",
    "clf_park.fit(x_train_parkinsons,y_train_parkinsons)\n",
    "rf_prediction_park = clf_park.predict(x_test_parkinsons)\n",
    "print(\"--- runtime ---\" , (time.time() - start_time))\n",
    "print(\"mean_squared_error: \", mean_squared_error(y_test_parkinsons, rf_prediction_park))\n",
    "print(\"mean_absolute_error: \", mean_absolute_error(y_test_parkinsons,rf_prediction_park))\n",
    "cross_validation(clf_park,x_train_parkinsons,y_train_parkinsons,\"neg_mean_squared_error\")\n",
    "cross_validation(clf_park,x_train_parkinsons,y_train_parkinsons,\"neg_mean_absolute_error\")"
   ]
  },
  {
   "cell_type": "markdown",
   "metadata": {},
   "source": [
    "## Parkinson Decision Tree"
   ]
  },
  {
   "cell_type": "code",
   "execution_count": 18,
   "metadata": {},
   "outputs": [
    {
     "name": "stdout",
     "output_type": "stream",
     "text": [
      "--- runtime --- 0.2131800651550293\n",
      "mean_squared_error:  0.5401391291234043\n",
      "mean_absolute_error:  0.12064289361702138\n",
      "Cross validated scores based on MSE: [1.46364897 0.76258936 0.62076484 1.99420868 1.54538795]\n",
      "Cross validated scores based on MAE: [0.26552553 0.26429681 0.15990713 0.2424966  0.23096362]\n"
     ]
    }
   ],
   "source": [
    "start_time = time.time()\n",
    "clf = DecisionTreeRegressor(random_state=0) \n",
    "clf=clf.fit(x_train_parkinsons,y_train_parkinsons) \n",
    "dt_prediction_park = clf.predict(x_test_parkinsons) \n",
    "print(\"--- runtime ---\" , (time.time() - start_time))\n",
    "print(\"mean_squared_error: \", mean_squared_error(y_test_parkinsons, dt_prediction_park))\n",
    "print(\"mean_absolute_error: \", mean_absolute_error(y_test_parkinsons,dt_prediction_park))\n",
    "cross_validation(clf,x_train_parkinsons,y_train_parkinsons,\"neg_mean_squared_error\")\n",
    "cross_validation(clf,x_train_parkinsons,y_train_parkinsons,\"neg_mean_absolute_error\")"
   ]
  },
  {
   "cell_type": "markdown",
   "metadata": {},
   "source": [
    "## Possum Random Forest"
   ]
  },
  {
   "cell_type": "code",
   "execution_count": 20,
   "metadata": {},
   "outputs": [
    {
     "name": "stdout",
     "output_type": "stream",
     "text": [
      "--- runtime --- 0.2339925765991211\n",
      "mean_squared_error:  3.6898857142857144\n",
      "mean_absolute_error:  1.4438095238095239\n",
      "Cross validated scores based on MSE: [3.089175   2.5589     4.7119375  2.60796875 2.06210625]\n",
      "Cross validated scores based on MAE: [1.51625  1.27875  1.70625  1.289375 1.115625]\n"
     ]
    }
   ],
   "source": [
    "start_time = time.time()\n",
    "clf_poss = RandomForestRegressor(n_estimators=100,random_state=0)\n",
    "clf_poss.fit(x_train_possum,y_train_possum)\n",
    "rf_prediction_poss = clf_poss.predict(x_test_possum)\n",
    "print(\"--- runtime ---\" , (time.time() - start_time))\n",
    "print(\"mean_squared_error: \", mean_squared_error(y_test_possum, rf_prediction_poss))\n",
    "print(\"mean_absolute_error: \", mean_absolute_error(y_test_possum,rf_prediction_poss))\n",
    "cross_validation(clf_poss,x_train_possum,y_train_possum,\"neg_mean_squared_error\")\n",
    "cross_validation(clf_poss,x_train_possum,y_train_possum,\"neg_mean_absolute_error\")"
   ]
  },
  {
   "cell_type": "markdown",
   "metadata": {},
   "source": [
    "## Possum Decision Tree"
   ]
  },
  {
   "cell_type": "code",
   "execution_count": 21,
   "metadata": {},
   "outputs": [
    {
     "name": "stdout",
     "output_type": "stream",
     "text": [
      "--- runtime --- 0.008901119232177734\n",
      "mean_squared_error:  11.476190476190476\n",
      "mean_absolute_error:  2.619047619047619\n",
      "Cross validated scores based on MSE: [ 8.125   2.25   10.25    5.5625  5.4375]\n",
      "Cross validated scores based on MAE: [2.25   1.125  2.5    1.8125 1.9375]\n"
     ]
    }
   ],
   "source": [
    "start_time = time.time()\n",
    "clf = DecisionTreeRegressor(random_state=0) \n",
    "clf.fit(x_train_possum,y_train_possum)\n",
    "dt_prediction_poss = clf.predict(x_test_possum)\n",
    "print(\"--- runtime ---\" , (time.time() - start_time))\n",
    "print(\"mean_squared_error: \", mean_squared_error(y_test_possum, dt_prediction_poss))\n",
    "print(\"mean_absolute_error: \", mean_absolute_error(y_test_possum,dt_prediction_poss))\n",
    "cross_validation(clf,x_train_possum,y_train_possum,\"neg_mean_squared_error\")\n",
    "cross_validation(clf,x_train_possum,y_train_possum,\"neg_mean_absolute_error\")"
   ]
  },
  {
   "cell_type": "markdown",
   "metadata": {},
   "source": [
    "## Diamonds Random Forest"
   ]
  },
  {
   "cell_type": "code",
   "execution_count": 22,
   "metadata": {},
   "outputs": [
    {
     "name": "stdout",
     "output_type": "stream",
     "text": [
      "--- runtime --- 2.7175240516662598\n",
      "mean_squared_error:  312012.45299294306\n",
      "mean_absolute_error:  274.91067910553176\n",
      "Cross validated scores based on MSE: [332149.19363907 347611.16303805 329841.46322652 291461.60160975\n",
      " 347768.50238467]\n",
      "Cross validated scores based on MAE: [282.21050863 296.05713349 283.12993359 277.30304497 293.56340369]\n"
     ]
    }
   ],
   "source": [
    "start_time = time.time()\n",
    "clf_diam = RandomForestRegressor(n_estimators=10,random_state=0)\n",
    "clf_diam.fit(x_train_diamonds,y_train_diamonds)\n",
    "rf_prediction_diam = clf_diam.predict(x_test_diamonds)\n",
    "print(\"--- runtime ---\" , (time.time() - start_time))\n",
    "print(\"mean_squared_error: \", mean_squared_error(y_test_diamonds, rf_prediction_diam))\n",
    "print(\"mean_absolute_error: \", mean_absolute_error(y_test_diamonds,rf_prediction_diam))\n",
    "cross_validation(clf_diam,x_train_diamonds,y_train_diamonds,\"neg_mean_squared_error\")\n",
    "cross_validation(clf_diam,x_train_diamonds,y_train_diamonds,\"neg_mean_absolute_error\")"
   ]
  },
  {
   "cell_type": "markdown",
   "metadata": {},
   "source": [
    "## Diamonds Decision Tree"
   ]
  },
  {
   "cell_type": "code",
   "execution_count": 23,
   "metadata": {},
   "outputs": [
    {
     "name": "stdout",
     "output_type": "stream",
     "text": [
      "--- runtime --- 0.7518141269683838\n",
      "mean_squared_error:  519362.33782906935\n",
      "mean_absolute_error:  345.2550055617353\n",
      "Cross validated scores based on MSE: [559238.18633414 579091.85720079 546929.86949594 531118.84536501\n",
      " 610115.78977404]\n",
      "Cross validated scores based on MAE: [360.43395899 369.3061059  358.50573581 362.14878331 379.18151796]\n"
     ]
    }
   ],
   "source": [
    "start_time = time.time()\n",
    "clf = DecisionTreeRegressor(random_state=0) \n",
    "clf.fit(x_train_diamonds,y_train_diamonds)\n",
    "dt_prediction_diam = clf.predict(x_test_diamonds)\n",
    "print(\"--- runtime ---\" , (time.time() - start_time))\n",
    "print(\"mean_squared_error: \", mean_squared_error(y_test_diamonds, dt_prediction_diam))\n",
    "print(\"mean_absolute_error: \", mean_absolute_error(y_test_diamonds,dt_prediction_diam))\n",
    "cross_validation(clf,x_train_diamonds,y_train_diamonds,\"neg_mean_squared_error\")\n",
    "cross_validation(clf,x_train_diamonds,y_train_diamonds,\"neg_mean_absolute_error\")"
   ]
  },
  {
   "cell_type": "code",
   "execution_count": null,
   "metadata": {},
   "outputs": [],
   "source": []
  }
 ],
 "metadata": {
  "colab": {
   "collapsed_sections": [],
   "name": "ReadData.ipynb",
   "provenance": []
  },
  "interpreter": {
   "hash": "9ff6981a40a25e7d7f81b038f49390a155b5506515243c0fd67dd5026b82895d"
  },
  "kernelspec": {
   "display_name": "Python 3 (ipykernel)",
   "language": "python",
   "name": "python3"
  },
  "language_info": {
   "codemirror_mode": {
    "name": "ipython",
    "version": 3
   },
   "file_extension": ".py",
   "mimetype": "text/x-python",
   "name": "python",
   "nbconvert_exporter": "python",
   "pygments_lexer": "ipython3",
   "version": "3.7.11"
  }
 },
 "nbformat": 4,
 "nbformat_minor": 1
}
